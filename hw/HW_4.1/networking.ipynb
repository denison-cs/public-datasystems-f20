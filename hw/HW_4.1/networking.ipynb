{
 "cells": [
  {
   "cell_type": "markdown",
   "metadata": {},
   "source": [
    "# Denison CS181/DA210 Homework\n",
    "\n",
    "Before you turn this problem in, make sure everything runs as expected. This is a combination of **restarting the kernel** and then **running all cells** (in the menubar, select Kernel$\\rightarrow$Restart And Run All).\n",
    "\n",
    "Make sure you fill in any place that says `YOUR CODE HERE` or \"YOUR ANSWER HERE\"."
   ]
  },
  {
   "cell_type": "markdown",
   "metadata": {},
   "source": [
    "---"
   ]
  },
  {
   "cell_type": "markdown",
   "metadata": {},
   "source": [
    "# Networking Foundation Homework\n",
    "\n",
    "The majority of the questions in this homework come from the \"Reading\" question sections of the textbook.  All of the questions will be graded \"manually\" based on the quality of your answers.  The last few exercises ask for you to use the command-line `curl`, which you will do in a separate Terminal and the copy/paste the command and results into a code block within the Markdown answer cell."
   ]
  },
  {
   "cell_type": "markdown",
   "metadata": {},
   "source": [
    "**Q1** The reading says a laptop can have two endpoints in the network, if it has both a wireless card and a wired Ethernet interface. Does this mean such a laptop can act like a router and be an internal node in the Figure? Can a smartphone ever act like a router? Explain."
   ]
  },
  {
   "cell_type": "markdown",
   "metadata": {
    "deletable": false,
    "nbgrader": {
     "cell_type": "markdown",
     "checksum": "f4ce38b08c3f03023b7d2347d00d4021",
     "grade": true,
     "grade_id": "cell-87fc10a53af2cd43",
     "locked": false,
     "points": 1,
     "schema_version": 3,
     "solution": true,
     "task": false
    }
   },
   "source": [
    "YOUR ANSWER HERE"
   ]
  },
  {
   "cell_type": "markdown",
   "metadata": {
    "deletable": false,
    "editable": false,
    "nbgrader": {
     "cell_type": "markdown",
     "checksum": "6b454011911d41e594331e6fdd6efa5c",
     "grade": false,
     "grade_id": "cell-fe48c93c92c5e0c3",
     "locked": true,
     "schema_version": 3,
     "solution": false,
     "task": false
    }
   },
   "source": [
    "**Q2** The reading makes it clear that information flows through a network architecture via packets, with packet switching handled by the routers. Paying careful attention to the figure, please answer: if we want to download data from a web server or RDBMS server, is there a unique path for the packets to follow as they reach our laptop machine? If not, what does this mean in terms of the order in which packets reach us, and the consequences of any routers or wires failing en-route? Please discuss both real-world consequences and computer science consequences/remedies."
   ]
  },
  {
   "cell_type": "markdown",
   "metadata": {
    "deletable": false,
    "nbgrader": {
     "cell_type": "markdown",
     "checksum": "c2ab7421640e4f221e00a34ffcd3ba3b",
     "grade": true,
     "grade_id": "cell-639cc744e4127b8f",
     "locked": false,
     "points": 1,
     "schema_version": 3,
     "solution": true,
     "task": false
    }
   },
   "source": [
    "YOUR ANSWER HERE"
   ]
  },
  {
   "cell_type": "markdown",
   "metadata": {
    "deletable": false,
    "editable": false,
    "nbgrader": {
     "cell_type": "markdown",
     "checksum": "a6d525607a01e3d2d64abef7e212d3ef",
     "grade": false,
     "grade_id": "cell-281bacc1d9bc9ccc",
     "locked": true,
     "schema_version": 3,
     "solution": false,
     "task": false
    }
   },
   "source": [
    "**Q3** Why is it important that IP addresses be unique?"
   ]
  },
  {
   "cell_type": "markdown",
   "metadata": {
    "deletable": false,
    "nbgrader": {
     "cell_type": "markdown",
     "checksum": "76551a75b7ec00bb2fe8a72638158f4b",
     "grade": true,
     "grade_id": "cell-3824b6547d5b9e96",
     "locked": false,
     "points": 1,
     "schema_version": 3,
     "solution": true,
     "task": false
    }
   },
   "source": [
    "YOUR ANSWER HERE"
   ]
  },
  {
   "cell_type": "markdown",
   "metadata": {
    "deletable": false,
    "editable": false,
    "nbgrader": {
     "cell_type": "markdown",
     "checksum": "8014344c000655129b539834a9b4a322",
     "grade": false,
     "grade_id": "cell-5acf73900ab85898",
     "locked": true,
     "schema_version": 3,
     "solution": false,
     "task": false
    }
   },
   "source": [
    "**Q4** In a world where packets can arrive out of order, how would you structure packets (i.e., what data would you make them contain) to allow them to be stitched together again at their destination in the correct order once they all reach their target?\n"
   ]
  },
  {
   "cell_type": "markdown",
   "metadata": {
    "deletable": false,
    "nbgrader": {
     "cell_type": "markdown",
     "checksum": "b9c670b905ff1a6653f85066bdbc8088",
     "grade": true,
     "grade_id": "cell-8b0c70006858409d",
     "locked": false,
     "points": 2,
     "schema_version": 3,
     "solution": true,
     "task": false
    }
   },
   "source": [
    "YOUR ANSWER HERE"
   ]
  },
  {
   "cell_type": "markdown",
   "metadata": {
    "deletable": false,
    "editable": false,
    "nbgrader": {
     "cell_type": "markdown",
     "checksum": "feab9e4a0384344efe2d1a11622b5843",
     "grade": false,
     "grade_id": "cell-7a6fb11813040047",
     "locked": true,
     "schema_version": 3,
     "solution": false,
     "task": false
    }
   },
   "source": [
    "**Q5** In a world where packets can be corrupted due to the physical way they are transmitted, please describe how you would address this problem if you were designing the internet. For instance, could you make the packets contain information that would tell the target node if the packet was corrupted in transit? What if that information gets corrupted? Think through these issues and sketch a plan."
   ]
  },
  {
   "cell_type": "markdown",
   "metadata": {
    "deletable": false,
    "nbgrader": {
     "cell_type": "markdown",
     "checksum": "0be324be6ac52fd04155510649e307ec",
     "grade": true,
     "grade_id": "cell-b7aa0a08591cbfff",
     "locked": false,
     "points": 2,
     "schema_version": 3,
     "solution": true,
     "task": false
    }
   },
   "source": [
    "YOUR ANSWER HERE"
   ]
  },
  {
   "cell_type": "markdown",
   "metadata": {
    "deletable": false,
    "editable": false,
    "nbgrader": {
     "cell_type": "markdown",
     "checksum": "624069341075eb36151b492e78b5fa87",
     "grade": false,
     "grade_id": "cell-9fdcb64afdacb7e1",
     "locked": true,
     "schema_version": 3,
     "solution": false,
     "task": false
    }
   },
   "source": [
    "**Q6** The book describes how, for some protocols (and protocol versions), a client-server exchange is limited to exactly one exchange over a socket connection, and for other protocols, there could be *multiple* exchanges over the same connection.  Give pros and cons of these two possibilities.\n",
    "\n",
    "Hint: Multiple exchanges over the same connection are called *persistent connections*. A Google search for this term could help solidify your understanding.\n"
   ]
  },
  {
   "cell_type": "markdown",
   "metadata": {
    "deletable": false,
    "nbgrader": {
     "cell_type": "markdown",
     "checksum": "a40b6b8cb953f9e42152b1ec67fb3fdd",
     "grade": true,
     "grade_id": "cell-70e122656bdea632",
     "locked": false,
     "points": 2,
     "schema_version": 3,
     "solution": true,
     "task": false
    }
   },
   "source": [
    "YOUR ANSWER HERE"
   ]
  },
  {
   "cell_type": "markdown",
   "metadata": {
    "deletable": false,
    "editable": false,
    "nbgrader": {
     "cell_type": "markdown",
     "checksum": "0ca27781dbd367d5c03b2518a87816dc",
     "grade": false,
     "grade_id": "cell-1e8783f57cda525f",
     "locked": true,
     "schema_version": 3,
     "solution": false,
     "task": false
    }
   },
   "source": [
    "**Q7** What are some pros and cons of the use of *cookies* to save state and relate multiple requests into a *session?"
   ]
  },
  {
   "cell_type": "markdown",
   "metadata": {
    "deletable": false,
    "nbgrader": {
     "cell_type": "markdown",
     "checksum": "ad2189cb963c8b876c422bf0814c4841",
     "grade": true,
     "grade_id": "cell-bd8a8e8b48479764",
     "locked": false,
     "points": 2,
     "schema_version": 3,
     "solution": true,
     "task": false
    }
   },
   "source": [
    "YOUR ANSWER HERE"
   ]
  },
  {
   "cell_type": "markdown",
   "metadata": {},
   "source": [
    "## `curl` exercises\n",
    "\n",
    "The last set of questions ask you to use the command-line utility named `curl` to make HTTP requests from web servers over the network.  This will involve using the right set of \"options\", which are arguments specified on the command line after the name of the utility.  Refer to section 20.4 in your textbook, and there is a PDF listing some of the most common options in your class github repository.\n",
    "\n",
    "You will solve these problems using a Terminal window and then copy and paste your curl command along with output into the solution cell here in this notebook to show that you solved the problem.  These will be graded manually, so there are no asserts following.\n",
    "\n",
    "Since your solution cells are **Markdown**, and we want to present something from a Terminal window, I ask that you **format** the Terminal window contents by putting it into a code block.  In Markdown, such a block begins with three backticks (the backwards quote located in the top left of your keyboard), then is followed by the lines you are copying in, and then ends with three backticks."
   ]
  },
  {
   "cell_type": "markdown",
   "metadata": {
    "deletable": false,
    "editable": false,
    "nbgrader": {
     "cell_type": "markdown",
     "checksum": "bba43aa2b8d89ac479015a1957876c8c",
     "grade": false,
     "grade_id": "cell-ac6eb4efb8e2cb3d",
     "locked": true,
     "schema_version": 3,
     "solution": false,
     "task": false
    }
   },
   "source": [
    "**Q8** Write and test a `curl` request that obtains, silently, `/data/ind0.json` from `datasystems.denison.edu`"
   ]
  },
  {
   "cell_type": "markdown",
   "metadata": {
    "deletable": false,
    "nbgrader": {
     "cell_type": "markdown",
     "checksum": "d73d24f9ba57f6fb7e853ce07e469bd4",
     "grade": true,
     "grade_id": "cell-c49f2e42b45d3f7b",
     "locked": false,
     "points": 1,
     "schema_version": 3,
     "solution": true,
     "task": false
    }
   },
   "source": [
    "YOUR ANSWER HERE"
   ]
  },
  {
   "cell_type": "markdown",
   "metadata": {
    "deletable": false,
    "editable": false,
    "nbgrader": {
     "cell_type": "markdown",
     "checksum": "b6add19e7017462d6affc35d8614593c",
     "grade": false,
     "grade_id": "cell-4934947e212c226e",
     "locked": true,
     "schema_version": 3,
     "solution": false,
     "task": false
    }
   },
   "source": [
    "**Q9** Write and test a `curl` request that obtains, silently, `/data/ind0.json` from `datasystems.denison.edu` and saves the output into a file named `ind0.json`.  In the Terminal, after executing the command, type another command\n",
    "\n",
    "```\n",
    "head ind0.json\n",
    "```\n",
    "to demonstrate that you successfully created the file."
   ]
  },
  {
   "cell_type": "markdown",
   "metadata": {
    "deletable": false,
    "nbgrader": {
     "cell_type": "markdown",
     "checksum": "878d641e3b45f18f61fbe7dbfd618738",
     "grade": true,
     "grade_id": "cell-6f79a758f8cb52cc",
     "locked": false,
     "points": 1,
     "schema_version": 3,
     "solution": true,
     "task": false
    }
   },
   "source": [
    "YOUR ANSWER HERE"
   ]
  },
  {
   "cell_type": "markdown",
   "metadata": {
    "deletable": false,
    "editable": false,
    "nbgrader": {
     "cell_type": "markdown",
     "checksum": "ce8850c61a1ec5613c7568a4b8d8d76c",
     "grade": false,
     "grade_id": "cell-d13ad502f352258b",
     "locked": true,
     "schema_version": 3,
     "solution": false,
     "task": false
    }
   },
   "source": [
    "**Q10** Write and test a `curl` request that obtains, `/data/ind0.json` from `datasystems.denison.edu` *and protocol https* and saves the output into a file named `ind0.json`.  Request *verbose* output.  Repeat with protocol `http` and observe the differences.   We include three markdown cells below, one for you to show your `https` result, one to show your `http` result, and one for your observations of the differences."
   ]
  },
  {
   "cell_type": "markdown",
   "metadata": {
    "deletable": false,
    "nbgrader": {
     "cell_type": "markdown",
     "checksum": "c8cf35ecf08ec50ed8a58fb60a08c90b",
     "grade": true,
     "grade_id": "cell-90a7a576f0c64d76",
     "locked": false,
     "points": 1,
     "schema_version": 3,
     "solution": true,
     "task": false
    }
   },
   "source": [
    "YOUR ANSWER HERE"
   ]
  },
  {
   "cell_type": "markdown",
   "metadata": {
    "deletable": false,
    "nbgrader": {
     "cell_type": "markdown",
     "checksum": "d1a518ba70b561588e8bb776fc06060d",
     "grade": true,
     "grade_id": "cell-bc905bf4b41e2896",
     "locked": false,
     "points": 1,
     "schema_version": 3,
     "solution": true,
     "task": false
    }
   },
   "source": [
    "YOUR ANSWER HERE"
   ]
  },
  {
   "cell_type": "markdown",
   "metadata": {
    "deletable": false,
    "nbgrader": {
     "cell_type": "markdown",
     "checksum": "cded0702cb66c2b4342e4e1b29b32d60",
     "grade": true,
     "grade_id": "cell-2038399256020006",
     "locked": false,
     "points": 1,
     "schema_version": 3,
     "solution": true,
     "task": false
    }
   },
   "source": [
    "YOUR ANSWER HERE"
   ]
  },
  {
   "cell_type": "markdown",
   "metadata": {
    "deletable": false,
    "editable": false,
    "nbgrader": {
     "cell_type": "markdown",
     "checksum": "ad6bcaba2b2b6422d7354a9eba65c6b5",
     "grade": false,
     "grade_id": "cell-c78089510f73e715",
     "locked": true,
     "schema_version": 3,
     "solution": false,
     "task": false
    }
   },
   "source": [
    "**Q11** Experiment with what happens when you request a non-existent resource, say `/data/foobar.json`.  What would be the correct incantation to get the status code?  How about to see all the headers, including the 401 Not Found status line?  When you request a non-existent resource, what is the *body* of the response message?"
   ]
  },
  {
   "cell_type": "markdown",
   "metadata": {
    "deletable": false,
    "nbgrader": {
     "cell_type": "markdown",
     "checksum": "8b041d6b27da5941ed3b6d4d1d2acc2b",
     "grade": true,
     "grade_id": "cell-58bbf3b95bdd4b86",
     "locked": false,
     "points": 2,
     "schema_version": 3,
     "solution": true,
     "task": false
    }
   },
   "source": [
    "YOUR ANSWER HERE"
   ]
  }
 ],
 "metadata": {
  "kernelspec": {
   "display_name": "Python 3",
   "language": "python",
   "name": "python3"
  },
  "language_info": {
   "codemirror_mode": {
    "name": "ipython",
    "version": 3
   },
   "file_extension": ".py",
   "mimetype": "text/x-python",
   "name": "python",
   "nbconvert_exporter": "python",
   "pygments_lexer": "ipython3",
   "version": "3.7.6"
  }
 },
 "nbformat": 4,
 "nbformat_minor": 4
}
