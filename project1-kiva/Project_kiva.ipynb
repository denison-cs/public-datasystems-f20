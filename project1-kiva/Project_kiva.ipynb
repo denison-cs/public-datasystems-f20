{
 "cells": [
  {
   "cell_type": "markdown",
   "metadata": {},
   "source": [
    "# Denison CS181/DA210 Homework\n",
    "\n",
    "Before you turn this problem in, make sure everything runs as expected. This is a combination of **restarting the kernel** and then **running all cells** (in the menubar, select Kernel$\\rightarrow$Restart And Run All).\n",
    "\n",
    "Make sure you fill in any place that says `YOUR CODE HERE` or \"YOUR ANSWER HERE\"."
   ]
  },
  {
   "cell_type": "markdown",
   "metadata": {},
   "source": [
    "---"
   ]
  },
  {
   "cell_type": "markdown",
   "metadata": {},
   "source": [
    "# Project 1: Working with the Kiva Loans and Lenders\n",
    "\n",
    "> Be sure to include code documentation (docstrings, inline comments) for all Python code you provide.\n",
    "    \n",
    "> This project is based, in part, on a case study in the book **XML and Web Technologies for Data Science with R** by Deborah Nolan and Duncan Temple Lang."
   ]
  },
  {
   "cell_type": "markdown",
   "metadata": {},
   "source": [
    "## Preliminaries\n",
    "\n",
    "The projects in this class serve some additional objectives that reach beyond what lectures, in-class hands-on engagement, and homeworks can provide.  Some of these objectives include:\n",
    "\n",
    "- Working with real-world data sets that have greater volume and scale,\n",
    "- Getting beyond the pigeon-hole thinking that can come from solving the relatively small problems involved in homework exercises,\n",
    "- Thinking about the data itself, and the information the study of that data can provide, \n",
    "- Building up a larger whole, synthesized from many of the low-level skills and operations, and\n",
    "- Effectively communicating what was learned.\n",
    "\n",
    "In a \"normal\" semester, our approach would be to make a project like this almost fully self-defined, and to provide only high-level guidance.  Students would use a combination of discovering what they wanted to explore and how to do so through their own investigation along with meetings and refinement with the course instructor.  In our COVID semester of Fall 2020, we provide a structured progression, documented in Parts 1 through 4 of this notebook.  \n",
    "\n",
    "As offered in class, for extra credit applied to the quiz portion of your grade, you can \"go beyond\" and build upon the techniques and the data explored in this notebook and do the following:\n",
    "\n",
    "1. Extract additional tidy tables of \"useful\" information from the data set,\n",
    "2. Define at least two, and possibly more interesting questions about the data,\n",
    "3. Build visualizations that can help answer the questions from #2, based on the data,\n",
    "4. Using best practices in writing, construct an essay that describes and documents your exploration, presents your visualizations, interprets your results, and generates a coherent conclusion.\n",
    "\n",
    "Some additional detail on this extra credit project part is covered in the notebook `Kiva_EC.ipynb`.\n",
    "\n",
    "To meet the objectives (cited above) for this project, the data for this project comes from a non-profit organization, **kiva**, whose goal is to make a difference for individuals that have been left behind in our global and overall prosperous economy.  I strongly encourage you to visit their website (https://kiva.org) and discover more about the source of our data for this project."
   ]
  },
  {
   "cell_type": "markdown",
   "metadata": {},
   "source": [
    "### About Kiva\n",
    "\n",
    "Access to loans is a huge problem for many people in the world. To combat this problem, Kiva connects people in need (often in developing countries) with lenders (often, altruistic people who want to make the world a bet\n",
    "ter place) in an attempt to alleviate poverty and provide opportunities.\n",
    "\n",
    "There are over 2.5 million borrowers in 84 countries involved with Kiva. With a 97.1 repayment rate, the 1.6 million lenders have lent over 1 billion dollars. Most of the loans are very very smallAs Kiva is a nonprofit, it has developers worldwide and has shared its data. \n",
    "\n",
    "The Kiva API (application programming interface, a concept we will cover later in this course) has many files and formats containing the information of loans, partners, lenders, teams, and more. For the purpose of this project, we will focus on the XML files (rather than JSON files) containing the data from 2005-2017. We will start this project by using `partners.xml`."
   ]
  },
  {
   "cell_type": "markdown",
   "metadata": {},
   "source": [
    "## Part 1: Exploring Partners\n",
    "\n",
    "Kiva has regional partners all over the world, who work with Kiva to find lenders and to fund loans. All Kiva loans are offered by partners to borrowers, using money provided by lenders. The data on partners includes the region they are from (e.g., \"Africa\"), the country they are located in, their rating (which tells lenders how likely a loan through this partner is to default), their delinquency rate, and more.\n",
    "\n",
    "Use the following cell to read and parse `partners.xml`. Do so by writing a function:\n",
    "\n",
    "    readXML(datadir, filename)\n",
    "    \n",
    "That looks for `filename` in the directory `datadir` and, if found, parses the file and returns the root Element of the tree.  Your function should return `None` if the file is not found or if the found file cannot be parsed.\n",
    "\n",
    "Then use your function on `partners.xml` and determines the number of partners in our sample.   Store your answer as a Python integer `n`.\n",
    "\n",
    "Please study this XML file carefully, and find the tags and paths to `partner`, `rating`, `delinquency_rate`, `region`, and country name. "
   ]
  },
  {
   "cell_type": "code",
   "execution_count": null,
   "metadata": {
    "deletable": false,
    "nbgrader": {
     "cell_type": "code",
     "checksum": "3663655067bf31d53023f20a680ed40b",
     "grade": true,
     "grade_id": "cell-30fe26f68529825d",
     "locked": false,
     "points": 1,
     "schema_version": 3,
     "solution": true,
     "task": false
    }
   },
   "outputs": [],
   "source": [
    "# YOUR CODE HERE\n",
    "raise NotImplementedError()"
   ]
  },
  {
   "cell_type": "markdown",
   "metadata": {},
   "source": [
    "### Delinquincy Rate Histogram"
   ]
  },
  {
   "cell_type": "markdown",
   "metadata": {},
   "source": [
    "Although 97.1% of people repay their loans, some do not. Loans that are not repaid are called \"delinquent.\" The delinquency rate for a partner is calculated as the number of delinquent payments divided by the total number of loans the partner holds, and is a field for each partner in the XML.  \n",
    "\n",
    "The next few cells will work toward building a histogram of the delinquincy rate for the set of partners."
   ]
  },
  {
   "cell_type": "markdown",
   "metadata": {},
   "source": [
    "**Step 1**\n",
    "\n",
    "A histogram provides an approximate representation of the distribution of a set of values.  It does this by taking values from a list of numbers and counting the number of instances of the values that fall into certain value ranges, called **bins**.\n",
    "\n",
    "To peform this calculation, we first need to know the smallest value, largest value, and the difference between these two, called the *range* of the values.\n",
    "\n",
    "Extract the set of delinquicy rates from the partners tree, treat them as floating point numbers, and assign to variuable `delinquincies`.  Then find the maximum value, the minimum value, and the range, assigning to `value_max`, `value_min`, and `value_range`, respectively."
   ]
  },
  {
   "cell_type": "code",
   "execution_count": null,
   "metadata": {
    "deletable": false,
    "nbgrader": {
     "cell_type": "code",
     "checksum": "23feda78f063d416587ab5d978c3aa9b",
     "grade": true,
     "grade_id": "cell-9d7b6660036c5f47",
     "locked": false,
     "points": 1,
     "schema_version": 3,
     "solution": true,
     "task": false
    }
   },
   "outputs": [],
   "source": [
    "# YOUR CODE HERE\n",
    "raise NotImplementedError()\n",
    "print(\"Value max:\", value_max)\n",
    "print(\"Value min:\", value_min)\n",
    "print(\"Value range:\", value_range)"
   ]
  },
  {
   "cell_type": "markdown",
   "metadata": {},
   "source": [
    "**Step 2** Perhaps not unexpected, but we do have some partners with a zero delinquicy rate.  This is helpful, because, as we think about the set of intervals that define each of our histogram bins, the low end of the first bin starts at 0, and when we compute the bin for a particular value, we don't have to adjust for a start value.\n",
    "\n",
    "To make the bins concept more concrete, suppose we have values that range from 0 to 10, inclusive.  Further suppose that we decide we want 20 bins.  That means that the first bin would represent the the value interval from 0 up to 0.5.  The second bin would represent that value interval from 0.5 up to 1.0.\n",
    "\n",
    "Given a particular value, `x`, and number of `bins`, we, in general, want to compute `value_bin(x, bins)` that gives the **integer** bin corresponding to the value.  This amounts to taking the floor of $x$ divided by the interval per bin, which can be accomplished by integer division in Python.  This decision implies that, for any $x$ that divides evenly with no remainder, it's bin is the start of the next bin interval.  The only problem with this simple algorithm is that if $x$ is `value_max`, the division results in a bin number which is one too high.\n",
    "\n",
    "Compute the interval per bin by dividing the value range by the variable `bins`, and assign to variable `interval`, and then write a function, `value_bin(x, interval)` that returns the integer bin associated with value `x`.  Try and make this a lambda function."
   ]
  },
  {
   "cell_type": "code",
   "execution_count": null,
   "metadata": {
    "deletable": false,
    "nbgrader": {
     "cell_type": "code",
     "checksum": "cecd020c724db5662863e1c5f5394191",
     "grade": true,
     "grade_id": "cell-3606b4d909d9d333",
     "locked": false,
     "points": 1,
     "schema_version": 3,
     "solution": true,
     "task": false
    }
   },
   "outputs": [],
   "source": [
    "bins = 50\n",
    "# YOUR CODE HERE\n",
    "raise NotImplementedError()"
   ]
  },
  {
   "cell_type": "code",
   "execution_count": null,
   "metadata": {},
   "outputs": [],
   "source": [
    "assert 1.11 < interval < 1.12\n",
    "assert value_bin(value_max, interval) == bins-1"
   ]
  },
  {
   "cell_type": "markdown",
   "metadata": {},
   "source": [
    "**Step 3** Finally, we need to create a list, L, whose length is `bins` and whose values are all zero, and then to iterate through the `delinquincies` list and, for each value, compute its bin, `b` and then increment `L[b]`.  Write code to initialize `L` and to iterate over the values in `delinquincies` and increment the counters in `L`."
   ]
  },
  {
   "cell_type": "code",
   "execution_count": null,
   "metadata": {
    "deletable": false,
    "nbgrader": {
     "cell_type": "code",
     "checksum": "fc107fdf3ff5cd43e01d66e74f356c63",
     "grade": true,
     "grade_id": "cell-7214c622726c84ce",
     "locked": false,
     "points": 1,
     "schema_version": 3,
     "solution": true,
     "task": false
    }
   },
   "outputs": [],
   "source": [
    "# YOUR CODE HERE\n",
    "raise NotImplementedError()"
   ]
  },
  {
   "cell_type": "markdown",
   "metadata": {},
   "source": [
    "**Step 4** The use of global variables for all of our piecewise steps above is poor programming practice.  Encapsulate the set of steps above, and write a function\n",
    "\n",
    "    delinquency(rootElement, bins=50)\n",
    "    \n",
    "that creates, computes, and returns a list of histogram counts.  It should start with the root `etree Element` given by `rootElement` and perform all the steps **without relying on any global variable**."
   ]
  },
  {
   "cell_type": "code",
   "execution_count": null,
   "metadata": {
    "deletable": false,
    "nbgrader": {
     "cell_type": "code",
     "checksum": "0a11c1682ccc46a91864ca4d2217984b",
     "grade": true,
     "grade_id": "cell-fd865b911aa9d364",
     "locked": false,
     "points": 1,
     "schema_version": 3,
     "solution": true,
     "task": false
    }
   },
   "outputs": [],
   "source": [
    "# YOUR CODE HERE\n",
    "raise NotImplementedError()"
   ]
  },
  {
   "cell_type": "markdown",
   "metadata": {},
   "source": [
    "To check our function and the computed list of bin count values, the cell below calls the function, computes the associated x-values (using the previously computed interval) and displays a bar graph of the result.  A bar graph computed in this way is a histogram.\n",
    "\n",
    "> For those of you who have had to create a new environment based on Python 3.7, you may have to go into the Environments section of Anaconda Navigator and add the `matplotlib` package to your cs181 environment."
   ]
  },
  {
   "cell_type": "code",
   "execution_count": null,
   "metadata": {},
   "outputs": [],
   "source": [
    "import matplotlib.pyplot as pyplot\n",
    "\n",
    "partner_root = readXML(\"project_kiva_xmlFiles\", \"partners.xml\")\n",
    "assert partner_root is not None\n",
    "\n",
    "num_bins = 50\n",
    "bin_values = delinquincy(partner_root, num_bins)\n",
    "\n",
    "interval = value_range / num_bins\n",
    "x_values = [i + interval + interval/2 for i in range(bins)]\n",
    "pyplot.bar(x_values, bin_values)\n",
    "pyplot.show()"
   ]
  },
  {
   "cell_type": "markdown",
   "metadata": {},
   "source": [
    "**Q** In the following cell, **interpret** the histogram, describing why you see high bars where you see them, why you see low bars where you see them, the meaning of the y axis, and the meaning of the x axis."
   ]
  },
  {
   "cell_type": "markdown",
   "metadata": {
    "deletable": false,
    "nbgrader": {
     "cell_type": "markdown",
     "checksum": "898e06703142a7c549f3292b172e0615",
     "grade": true,
     "grade_id": "cell-26e71e4b13c4c3d3",
     "locked": false,
     "points": 1,
     "schema_version": 3,
     "solution": true,
     "task": false
    }
   },
   "source": [
    "YOUR ANSWER HERE"
   ]
  },
  {
   "cell_type": "markdown",
   "metadata": {},
   "source": [
    "The `pyplot` package in the `matplotlib` module has its own algorithm for computing and displaying a histogram based only on the value list, `delinquincies` in this case.  The next cell simply demonstrates this shortcut."
   ]
  },
  {
   "cell_type": "code",
   "execution_count": null,
   "metadata": {},
   "outputs": [],
   "source": [
    "# This cell relies on the global delinquincies that was to be computed in Step 1\n",
    "\n",
    "pyplot.hist(delinquincies,bins=50)\n",
    "pyplot.show()"
   ]
  },
  {
   "cell_type": "markdown",
   "metadata": {},
   "source": [
    "### Partner Rating"
   ]
  },
  {
   "cell_type": "markdown",
   "metadata": {},
   "source": [
    "The `rating` of a partner tells how likely they are to default. A low rating means they have a high risk of defaulting, i.e., not paying back loans. A high rating means they have a low risk of defaulting. Write a function\n",
    "\n",
    "    delinquency_rating(rootElement)\n",
    "\n",
    "that computes and creates a scatterplot showing the relationship between ratings (on the x-axis) and delinquency rate (on the y-axis). Be sure to label your axes. Warning: omit (x,y) pairs for partners that do not have a rating.\n",
    "\n",
    "So your function has to:\n",
    "\n",
    "1. Obtain the x values from the XML and convert to the correct type.\n",
    "2. Obtain the y values from the XML and convert to the correct type.\n",
    "3. Filter the data to omit (x, y) pairs for partners that do not have a rating.\n",
    "4. Build the scatter plot.\n",
    "5. Invoke functions to set the title and axes.\n",
    "6. Show the plot.\n",
    "\n",
    "References:\n",
    "\n",
    "- [`pyplot.scatter`](https://matplotlib.org/3.3.2/api/_as_gen/matplotlib.pyplot.scatter.html)\n",
    "- [`pyplot.title`](https://matplotlib.org/3.1.1/api/_as_gen/matplotlib.pyplot.title.html)\n",
    "- [`pyplot.xlabel`](https://matplotlib.org/3.1.1/api/_as_gen/matplotlib.pyplot.xlabel.html)\n",
    "- [`pyplot.ylabel`](https://matplotlib.org/3.1.1/api/_as_gen/matplotlib.pyplot.ylabel.html)"
   ]
  },
  {
   "cell_type": "code",
   "execution_count": null,
   "metadata": {
    "deletable": false,
    "nbgrader": {
     "cell_type": "code",
     "checksum": "c02b39ccd2124b5d498988628ff7cb75",
     "grade": true,
     "grade_id": "cell-0576407572829b24",
     "locked": false,
     "points": 1,
     "schema_version": 3,
     "solution": true,
     "task": false
    }
   },
   "outputs": [],
   "source": [
    "# YOUR CODE HERE\n",
    "raise NotImplementedError()"
   ]
  },
  {
   "cell_type": "markdown",
   "metadata": {},
   "source": [
    "**Q** Interpret the scatter plot, paying attention to talking about the x axis, y axis, and why you see the relationship you do for the correspondence between x values and y values.  Is there another visualization that would be better at showing the distribution of values *for a given rating*?"
   ]
  },
  {
   "cell_type": "markdown",
   "metadata": {
    "deletable": false,
    "nbgrader": {
     "cell_type": "markdown",
     "checksum": "aa28fa92d1e67309cce73cebf0df719c",
     "grade": true,
     "grade_id": "cell-92ecb0195c14781f",
     "locked": false,
     "points": 1,
     "schema_version": 3,
     "solution": true,
     "task": false
    }
   },
   "source": [
    "YOUR ANSWER HERE"
   ]
  },
  {
   "cell_type": "markdown",
   "metadata": {},
   "source": [
    "### Regions and Countries of Partners"
   ]
  },
  {
   "cell_type": "markdown",
   "metadata": {},
   "source": [
    "Kiva is in a large part successful due to their ability to connect regional lenders to borrowers. Simulating this process, write a function,\n",
    "\n",
    "    findPartner(rootElement, region)\n",
    "\n",
    "that, given a region, returns the name of a partner. If there are multiple partners in a region, return the name of a random partner. There should only be one XPath query in your function.  To refresh how to select a random number in a given integer range, see the `random` package: https://docs.python.org/3.7/library/random.html and the `randint` function."
   ]
  },
  {
   "cell_type": "code",
   "execution_count": null,
   "metadata": {
    "deletable": false,
    "nbgrader": {
     "cell_type": "code",
     "checksum": "a20aae3b09170dfc7325f38cd1f1f557",
     "grade": true,
     "grade_id": "cell-e8c49412008215a0",
     "locked": false,
     "points": 1,
     "schema_version": 3,
     "solution": true,
     "task": false
    }
   },
   "outputs": [],
   "source": [
    "# YOUR CODE HERE\n",
    "raise NotImplementedError()"
   ]
  },
  {
   "cell_type": "code",
   "execution_count": null,
   "metadata": {},
   "outputs": [],
   "source": [
    "partner_root = readXML(\"project_kiva_xmlFiles\", \"partners.xml\")\n",
    "assert partner_root is not None\n",
    "\n",
    "print(\"Africa:\", findPartner(partner_root, \"Africa\"))\n",
    "print(\"South America:\", findPartner(partner_root, \"South America\"))"
   ]
  },
  {
   "cell_type": "markdown",
   "metadata": {},
   "source": [
    "#### Countries"
   ]
  },
  {
   "cell_type": "markdown",
   "metadata": {},
   "source": [
    "According to Kiva, they have partners for 84 countries. Where are the partners from in our example sample? How many **different** countries does our sample contain? To answer these question, make a dictionary that maps from country keys to partner-count pairs.  Call your resulting dictionary `cPartners`.  This process is analgous to making a frequency dictionary like we often do in the intro class, and repeated at the beginning of this semester.\n",
    "\n",
    "In this part, I am allowing you to use global cell computations instead of putting things into a function."
   ]
  },
  {
   "cell_type": "code",
   "execution_count": null,
   "metadata": {
    "deletable": false,
    "nbgrader": {
     "cell_type": "code",
     "checksum": "a3d33dd49779c536be9d52cd32342187",
     "grade": true,
     "grade_id": "cell-a30b229eec940801",
     "locked": false,
     "points": 1,
     "schema_version": 3,
     "solution": true,
     "task": false
    }
   },
   "outputs": [],
   "source": [
    "# YOUR CODE HERE\n",
    "raise NotImplementedError()"
   ]
  },
  {
   "cell_type": "markdown",
   "metadata": {},
   "source": [
    "Now use your dictionary to determine how many **unique** countries (the length of the dictionary), and then, by summing up the set of values, the total number of countries associated with partners."
   ]
  },
  {
   "cell_type": "code",
   "execution_count": null,
   "metadata": {
    "deletable": false,
    "nbgrader": {
     "cell_type": "code",
     "checksum": "added93eee0c149af6f9753b098f7946",
     "grade": true,
     "grade_id": "cell-ba5ed5192e17512a",
     "locked": false,
     "points": 1,
     "schema_version": 3,
     "solution": true,
     "task": false
    }
   },
   "outputs": [],
   "source": [
    "# YOUR CODE HERE\n",
    "raise NotImplementedError()"
   ]
  },
  {
   "cell_type": "markdown",
   "metadata": {},
   "source": [
    "Write a few sentences saying how to **interpret** what was meant by the Kiva claim of 84 countries (at least based on our sample data from 2017)."
   ]
  },
  {
   "cell_type": "markdown",
   "metadata": {
    "deletable": false,
    "nbgrader": {
     "cell_type": "markdown",
     "checksum": "bc15931cacf80fb66e50e6c038a06ad2",
     "grade": true,
     "grade_id": "cell-8a62fc71ce1f58ce",
     "locked": false,
     "points": 1,
     "schema_version": 3,
     "solution": true,
     "task": false
    }
   },
   "source": [
    "YOUR ANSWER HERE"
   ]
  },
  {
   "cell_type": "markdown",
   "metadata": {},
   "source": [
    "## Part 2: Building Tabular Data from XML\n",
    "\n",
    "XML is meant to provide flexible organization and to transmit data. While it is the best tool for that job, it cannot handle advanced queries. Thus, we often need to traverse the XML file and build two-dimensional subsets of the data into `pandas` data frames in order to do any further analysis. Look at the `partners.xml`, using what you learned from the previous question, what would be one or more logical functional dependency (FD) with the independent variable(s) on the left side of the FD and dependent variables on the right side of the FD."
   ]
  },
  {
   "cell_type": "markdown",
   "metadata": {
    "deletable": false,
    "nbgrader": {
     "cell_type": "markdown",
     "checksum": "39d3368e547c1965cfc65b5b0a91d733",
     "grade": true,
     "grade_id": "cell-16bfba2d7bed0751",
     "locked": false,
     "points": 1,
     "schema_version": 3,
     "solution": true,
     "task": false
    }
   },
   "source": [
    "YOUR ANSWER HERE"
   ]
  },
  {
   "cell_type": "markdown",
   "metadata": {},
   "source": [
    "### Partner Data\n",
    "\n",
    "We are ready to extract partner data into a `pandas` data frame. \n",
    "\n",
    "**Step 1**\n",
    "\n",
    "Following our best programming practice guidelines, we will do this work *incrementally*, building up a solution step-by-step. Write a function\n",
    "\n",
    "    genPartnerRow(partnerElement)\n",
    "\n",
    "that constructs a single row of data about an individual based on a `partnerElement`, which would be an XML element rooted at a `<partner>` node.  This building block could either construct and return a dictionary mapping column fields to values, or it could construct a list of column values in a known order.  In either case, the idea is that we can iterate over the set of partners and, for each one, invoke this function and accumulate the row-result into a collection that will be used to generate a data frame.  But for now, we are focusing on a single row.\n",
    "\n",
    "You get to decide which fields make sense for this table based on the functional dependency(ies) you cited above and the desire to have a normalized (tidy) result where each row represents a single partner.  I do require you to include a `rating` column and to handle the case where a partner is `\"Not Rated\"` (i.e. this is missing data for this observation).\n",
    "\n",
    "The data types for your fields should be appropriate for the given column variable."
   ]
  },
  {
   "cell_type": "code",
   "execution_count": null,
   "metadata": {
    "deletable": false,
    "nbgrader": {
     "cell_type": "code",
     "checksum": "4515dfb22f1b41f8804f4dcb5e3696f8",
     "grade": true,
     "grade_id": "cell-c99a81e014bf5f39",
     "locked": false,
     "points": 1,
     "schema_version": 3,
     "solution": true,
     "task": false
    }
   },
   "outputs": [],
   "source": [
    "# YOUR CODE HERE\n",
    "raise NotImplementedError()"
   ]
  },
  {
   "cell_type": "code",
   "execution_count": null,
   "metadata": {},
   "outputs": [],
   "source": [
    "partner_root = readXML(\"project_kiva_xmlFiles\", \"partners.xml\")\n",
    "assert partner_root is not None\n",
    "\n",
    "firstpartner = partner_root.xpath(\"//partners/partner[1]\")[0]\n",
    "row = genPartnerRow(firstpartner)\n",
    "print(row)"
   ]
  },
  {
   "cell_type": "markdown",
   "metadata": {},
   "source": [
    "**Step 2**\n",
    "\n",
    "Now that we can construct row data for a partner Element, write a function\n",
    "\n",
    "    genPartnerData(datadir, filename)\n",
    "    \n",
    "that, given a data directory and filename, uses our helper function `readXML()` and `genPartnerRow()` and constructs and returns a `pandas` data frame, where each row is a partner. Make sure to include meaningful column headers."
   ]
  },
  {
   "cell_type": "code",
   "execution_count": null,
   "metadata": {
    "deletable": false,
    "nbgrader": {
     "cell_type": "code",
     "checksum": "ee1d18ccc6be6f5be2d1734c96e90264",
     "grade": true,
     "grade_id": "cell-1c11a8ee44f33206",
     "locked": false,
     "points": 1,
     "schema_version": 3,
     "solution": true,
     "task": false
    }
   },
   "outputs": [],
   "source": [
    "# YOUR CODE HERE\n",
    "raise NotImplementedError()"
   ]
  },
  {
   "cell_type": "markdown",
   "metadata": {},
   "source": [
    "Remember that the `info()` method summarizes information about the columns of a data frame, including a count of the non-missing entries.  Use this in the cell below to see which columns have missing data and how many."
   ]
  },
  {
   "cell_type": "code",
   "execution_count": null,
   "metadata": {
    "deletable": false,
    "nbgrader": {
     "cell_type": "code",
     "checksum": "d2105fe5ce3afaf564fd401b41a5b0db",
     "grade": true,
     "grade_id": "cell-862b4b67bcd20370",
     "locked": false,
     "points": 1,
     "schema_version": 3,
     "solution": true,
     "task": false
    }
   },
   "outputs": [],
   "source": [
    "# YOUR CODE HERE\n",
    "raise NotImplementedError()"
   ]
  },
  {
   "cell_type": "markdown",
   "metadata": {},
   "source": [
    "### Partner Location\n",
    "\n",
    "It is time to move on to a second table derived from our partner data. Repeat the two step process above to generate a `pandas` data frame, called `partnerLocs`, of the partner country locations. **Hint:** Some partners have more than one location.  That means that a table with a partner id and the set of country location information can have more than one row for a given partner.\n",
    "\n",
    "As exemplified in the code following the solution, I chose to define `genLocData()` and to give it an argument of a root Element, as opposed to passing a data directory and filename again.  You can design your functions as you desire."
   ]
  },
  {
   "cell_type": "code",
   "execution_count": null,
   "metadata": {
    "deletable": false,
    "nbgrader": {
     "cell_type": "code",
     "checksum": "7d600474e6f3334cd1ee9b476876a180",
     "grade": true,
     "grade_id": "cell-10b6689e7fa02af9",
     "locked": false,
     "points": 1,
     "schema_version": 3,
     "solution": true,
     "task": false
    }
   },
   "outputs": [],
   "source": [
    "# YOUR CODE HERE\n",
    "raise NotImplementedError()"
   ]
  },
  {
   "cell_type": "code",
   "execution_count": null,
   "metadata": {},
   "outputs": [],
   "source": [
    "partner_root = readXML(\"project_kiva_xmlFiles\", \"partners.xml\")\n",
    "assert partner_root is not None\n",
    "\n",
    "partnerLocs = genLocData(partner_root)\n",
    "partnerLocs.head(12)"
   ]
  },
  {
   "cell_type": "markdown",
   "metadata": {},
   "source": [
    "### Loans\n",
    "\n",
    "Now that we are familiar with the partners and have created a `pandas` data frame, let's do the same for the loans of borrowers. There are 10 files containing information on a total of 1,000 loans. These are called `loanSearch1.xml`, `loanSearch2.xml`, ..., `loanSearch10.xml`. The reason for multiple files is that the API to search for loans limits the number of returned results to a single logical **page**.  In this case, a page contains information on 100 loans, and the process to obtain results was repeated 10 times to get the first 10 pages of loan information.  There is actually a small subset of all the loans in the full data set (this is just 10 pages out of nearly 13,000), but is sufficient for our purposes in this project.\n",
    "\n",
    "For each loan, Kiva provides data on a unique id for the loan, the loan amount, where the loan was made, which partner the loan was made through, the name attached to the loan, the status of the loan (e.g., whether it's in the fundraising stage or already funded), the activity the loan was made to support, the economic sector of that activity, and more. \n",
    "\n",
    "Beware, not every loan has all fields, so our processing must handle those cases and make sure the values for missing data result in `numpy.NAN`. (The Python `None` value may also work so that, when the data structure is made into a `pandas` data frame, the values are considered missing relative to methods like `dropna()`, but I have not verified this.)"
   ]
  },
  {
   "cell_type": "markdown",
   "metadata": {},
   "source": [
    "**Step 1: Explore**\n",
    "\n",
    "In the following cell, along with any additional cells you would like to add, use `lxml` (and `xpath`) to explore the data.  See what the min/max and/or distribtion of fields like `loan_amount` are.  Ask questions like \"Is the funded amount and the loan amount always the same\", or \"how do they differ\", and then use our XML operations to answer the questions."
   ]
  },
  {
   "cell_type": "code",
   "execution_count": null,
   "metadata": {
    "deletable": false,
    "nbgrader": {
     "cell_type": "code",
     "checksum": "58d5775a42c048349f3c830201e34b88",
     "grade": true,
     "grade_id": "cell-b212cbf3bf6f885f",
     "locked": false,
     "points": 1,
     "schema_version": 3,
     "solution": true,
     "task": false
    }
   },
   "outputs": [],
   "source": [
    "# YOUR CODE HERE\n",
    "raise NotImplementedError()"
   ]
  },
  {
   "cell_type": "markdown",
   "metadata": {},
   "source": [
    "**Step 2: Build a Tabular Representation**\n",
    "\n",
    "Our goal is to build a tabular representation for loans, wherein each row is a loan and we have column fields that are rich enough to ask meaningful questions about the data.  While you can include the column fields that you want, you should definitely include the partner id, as it allows us to \"tie together\" loans with their corresponding partners.\n",
    "\n",
    "I would **strongly** suggest mimicing the \"good software development process\" that you were led through above:\n",
    "\n",
    "1. Develop a function to obtain the desired fields for a single row representing a loan.\n",
    "2. Develop a function to iterate over a single XML tree collecting a set of rows into a composite structure.\n",
    "\n",
    "and, because we have multiple files, and therefore multiple trees, we need to add a higher level function:\n",
    "\n",
    "3. Develop a function to iterate over a set of files and, for each one, construct a tree and use the function from (2) to get a collection of rows and, finally, aggregate these collections into a single composite data frame.\n",
    "\n",
    "Call this top level function\n",
    "\n",
    "    genLoans(datadir, filename_prefix, num_files)\n",
    "    \n",
    "where \n",
    "\n",
    "- `datadir` is the directory where the XML files will be found,\n",
    "- `filename_prefix` is the prefix used for naming the collection of files, not including the number that specifies a specific file, nor the `.xml` extension.\n",
    "\n",
    "Before you begin the code, answer, in the Markdown cell that follows, **Why have we defined `genLoans` as we have?**  Think about what purpose it serves to have the arguments that have been specified."
   ]
  },
  {
   "cell_type": "markdown",
   "metadata": {
    "deletable": false,
    "nbgrader": {
     "cell_type": "markdown",
     "checksum": "cb7f1f5459b62ba4cd3787bb3d999ed3",
     "grade": true,
     "grade_id": "cell-0012765982596379",
     "locked": false,
     "points": 1,
     "schema_version": 3,
     "solution": true,
     "task": false
    }
   },
   "source": [
    "YOUR ANSWER HERE"
   ]
  },
  {
   "cell_type": "code",
   "execution_count": null,
   "metadata": {
    "deletable": false,
    "nbgrader": {
     "cell_type": "code",
     "checksum": "940f8b93631ea977c2d7567a8662de55",
     "grade": true,
     "grade_id": "cell-4582f876ba276f0f",
     "locked": false,
     "points": 1,
     "schema_version": 3,
     "solution": true,
     "task": false
    }
   },
   "outputs": [],
   "source": [
    "# YOUR CODE HERE\n",
    "raise NotImplementedError()"
   ]
  },
  {
   "cell_type": "code",
   "execution_count": null,
   "metadata": {},
   "outputs": [],
   "source": [
    "assert len(loans)==1000"
   ]
  },
  {
   "cell_type": "markdown",
   "metadata": {},
   "source": [
    "### Lenders\n",
    "\n",
    "In addition to partners and borrowers, we also have data on the lenders, who provide the funds to borrowers **through** the  partners. The file `lenders.xml` contains data on lender names, whereabouts, the country they live in, their occupation, how many loans they have made, and a narrative about why they loan money through Kiva. Create a `pandas` data frame with one lender per row and whichever columns you are interested in exploring. Beware that not every lender has data in every field, so handle missing data appropriately.\n",
    "\n",
    "Call the top level function:\n",
    "\n",
    "    genLenders(datadir, filename=\"lenders.xml\")\n",
    "    \n",
    "where `datadir` and `filename` have the obvious meaning."
   ]
  },
  {
   "cell_type": "code",
   "execution_count": null,
   "metadata": {
    "deletable": false,
    "nbgrader": {
     "cell_type": "code",
     "checksum": "f4fc3d44329c60d059af98be22cac43e",
     "grade": true,
     "grade_id": "cell-08d4ebe193cec8af",
     "locked": false,
     "points": 1,
     "schema_version": 3,
     "solution": true,
     "task": false
    }
   },
   "outputs": [],
   "source": [
    "# YOUR CODE HERE\n",
    "raise NotImplementedError()"
   ]
  },
  {
   "cell_type": "markdown",
   "metadata": {},
   "source": [
    "## Part 3: Analysis in Pandas"
   ]
  },
  {
   "cell_type": "markdown",
   "metadata": {},
   "source": [
    "Using the `pandas` data frames you created, answer the following questions:\n",
    "\n",
    "**Question 1:** What are the 5 countries that get the largest mean loan amount? Does your answer make sense? Why is this the case? You may use `isoCode` to represent country.  Use the Markdown cell after the code cell for your interpretation.  Feel free to experiment and ask questions of the data to further your understanding of your result."
   ]
  },
  {
   "cell_type": "code",
   "execution_count": null,
   "metadata": {
    "deletable": false,
    "nbgrader": {
     "cell_type": "code",
     "checksum": "dc32cd41c4956beadab31c3d4515cb94",
     "grade": true,
     "grade_id": "cell-bfbb278493c1a7d6",
     "locked": false,
     "points": 1,
     "schema_version": 3,
     "solution": true,
     "task": false
    }
   },
   "outputs": [],
   "source": [
    "# YOUR CODE HERE\n",
    "raise NotImplementedError()"
   ]
  },
  {
   "cell_type": "markdown",
   "metadata": {
    "deletable": false,
    "nbgrader": {
     "cell_type": "markdown",
     "checksum": "d2a0ffd85f10365b0e8feafc587f252a",
     "grade": true,
     "grade_id": "cell-797fa5f35c7b06e1",
     "locked": false,
     "points": 1,
     "schema_version": 3,
     "solution": true,
     "task": false
    }
   },
   "source": [
    "YOUR ANSWER HERE"
   ]
  },
  {
   "cell_type": "markdown",
   "metadata": {},
   "source": [
    "**Question 2**: Aggregate by country and determine both the number of loans and the mean loan amount.  Present the result in descending order of loan amount. In your interpretation, reconcile this with  what you saw initially. You may use `isoCode` to represent country. **Hint:** It may be helpful to use the `.agg()` method here."
   ]
  },
  {
   "cell_type": "code",
   "execution_count": null,
   "metadata": {
    "deletable": false,
    "nbgrader": {
     "cell_type": "code",
     "checksum": "09eb501d45debc70cbc92e4e0a4277e4",
     "grade": true,
     "grade_id": "cell-155189107e804624",
     "locked": false,
     "points": 1,
     "schema_version": 3,
     "solution": true,
     "task": false
    }
   },
   "outputs": [],
   "source": [
    "# YOUR CODE HERE\n",
    "raise NotImplementedError()"
   ]
  },
  {
   "cell_type": "markdown",
   "metadata": {
    "deletable": false,
    "nbgrader": {
     "cell_type": "markdown",
     "checksum": "d37faa07c1168561ded7eb68a6b4b2d2",
     "grade": true,
     "grade_id": "cell-cf9e05429fa7d22a",
     "locked": false,
     "points": 1,
     "schema_version": 3,
     "solution": true,
     "task": false
    }
   },
   "source": [
    "YOUR ANSWER HERE"
   ]
  },
  {
   "cell_type": "markdown",
   "metadata": {},
   "source": [
    "**Question 3:** \n",
    "\n",
    "Sometimes we need to combine data from multiple tables to be able to answer questions.  For instance, we may wish to analyze over a set of partners information about the loans attributed to those partners.\n",
    "\n",
    "Create a `pandas` data frame that contains the following columns: \n",
    "\n",
    "- ID of partner,\n",
    "- Name of partner, \n",
    "- number of loans for that partner as posted in our sample, \n",
    "- sum of their loans, and \n",
    "- average loan amount. \n",
    "\n",
    "With this table, we should then be able to determine the answer to the following question:\n",
    "\n",
    "What are the names of the top 3 partners that gives the biggest average loan and have posted more than 20 loans in our sample?"
   ]
  },
  {
   "cell_type": "code",
   "execution_count": null,
   "metadata": {
    "deletable": false,
    "nbgrader": {
     "cell_type": "code",
     "checksum": "40e3c968550306e5c9952d480c727364",
     "grade": true,
     "grade_id": "cell-d6ffeb85ce20cc3d",
     "locked": false,
     "points": 1,
     "schema_version": 3,
     "solution": true,
     "task": false
    }
   },
   "outputs": [],
   "source": [
    "# YOUR CODE HERE\n",
    "raise NotImplementedError()"
   ]
  },
  {
   "cell_type": "markdown",
   "metadata": {
    "deletable": false,
    "nbgrader": {
     "cell_type": "markdown",
     "checksum": "02195356857144d07340558ac07b9e58",
     "grade": true,
     "grade_id": "cell-e6ff62661c1098dd",
     "locked": false,
     "points": 1,
     "schema_version": 3,
     "solution": true,
     "task": false
    }
   },
   "source": [
    "YOUR ANSWER HERE"
   ]
  },
  {
   "cell_type": "markdown",
   "metadata": {},
   "source": [
    "## Part 4: Export\n",
    "\n",
    "To enable the extra credit and to enable import of our data into Visualization tools like Tableau, we want to take a final step and take our `partners`, `loans` and `lenders` data and export them to CSV.  In the cell that follows, perform that export, writing `partners.csv`, `loans.csv`, and `lenders.csv` to a directory called `exports` relative to the notebook directory."
   ]
  },
  {
   "cell_type": "code",
   "execution_count": null,
   "metadata": {
    "deletable": false,
    "jupyter": {
     "outputs_hidden": true
    },
    "nbgrader": {
     "cell_type": "code",
     "checksum": "337d31e18816a958bb81fc2229785044",
     "grade": true,
     "grade_id": "cell-9f0b87c796f1155f",
     "locked": false,
     "points": 1,
     "schema_version": 3,
     "solution": true,
     "task": false
    }
   },
   "outputs": [],
   "source": [
    "# YOUR CODE HERE\n",
    "raise NotImplementedError()"
   ]
  }
 ],
 "metadata": {
  "kernelspec": {
   "display_name": "Python 3",
   "language": "python",
   "name": "python3"
  },
  "language_info": {
   "codemirror_mode": {
    "name": "ipython",
    "version": 3
   },
   "file_extension": ".py",
   "mimetype": "text/x-python",
   "name": "python",
   "nbconvert_exporter": "python",
   "pygments_lexer": "ipython3",
   "version": "3.7.6"
  }
 },
 "nbformat": 4,
 "nbformat_minor": 4
}
