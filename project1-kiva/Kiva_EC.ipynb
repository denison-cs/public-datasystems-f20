{
 "cells": [
  {
   "cell_type": "markdown",
   "metadata": {},
   "source": [
    "# Kiva Project Extra Credit\n",
    "\n",
    "## Extra Credit Objectives\n",
    "\n",
    "The purpose of the extra credit is to build upon the processing done in the regular part of the project and to do something meaningful with the result.  In particular, we seek to go beyond generation of tidy tabular data and proceed with some exploration of the data set.  \n",
    "\n",
    "There is interesting information that can be sought from the Kiva data set of partners, loans, and lenders.  Given the stated objective of Kiva to provide access to money for the worthwhile needs of many disenfranchised and impovershed segments of our world population, there are many natural questions that arise surrounding the matching up of partners, loans, and lenders, the balance of loans among countries, the sectors and purposes of the loans, and so forth.\n",
    "\n",
    "Beyond the interesting questions the data can help to answer, we need to build experience in written communication to convey the questions and our attempts to answer the questions by using effective visualizations to present the data that allows interpretation.\n",
    "\n",
    "This leads us to the following objectives and steps of the extra credit.\n",
    "\n",
    "1. Extract additional tidy tables of \"useful\" information from the data set, or to use other data sources that can compliment the loans, lenders, and partner tables.\n",
    "2. Develop and define at least two, and possibly more interesting questions about the data.\n",
    "3. Build visualizations that can help answer the questions from #2, based on the data.\n",
    "4. Document and write an essay, through Markdown and visualizations, that **clearly communicatse** what you **learned about the data**, framed as a set of \"interesting questions\" that your visualizations help you to answer.  This essay should use best practices in writing, with a result that describes and documents your exploration, presents your visualizations, interprets your results, and generates a coherent conclusion.\n",
    "\n",
    "As you develop your exploration, you may, in fact, iterate multiple times on steps 1, 2, and 3.  "
   ]
  },
  {
   "cell_type": "markdown",
   "metadata": {},
   "source": [
    "## Process Overview\n",
    "\n",
    "The steps described here are intended to help you think through the process.\n",
    "\n",
    "### Step 1: Understand Your Data\n",
    "\n",
    "The danger of a sequence of steps that guides you through the processing of the XML files to obtain the (hopefully) tidy data on partners, loans, and lenders (i.e. the result of the non-extra-credit part of this project) is that it does not require you to reflect on what the data actually means, or what all is entailed in the data.  I encourage you to look back through the source data and do that reflection, in order for you to be in a better position to proceed with the next step.\n"
   ]
  },
  {
   "cell_type": "markdown",
   "metadata": {},
   "source": [
    "### Step 2: Craft Exploratory Questions\n",
    "\n",
    "> Goal: At least two questions that exploration of the data can give insight on.\n",
    "\n",
    "  - As you explore the data in Step 1, ask yourself: what is this data good for? What do I find myself wondering as I dig into it?\n",
    "  - Think about questions that can naturally be answered via visualizations (step 4).\n",
    "  - Avoid questions that cannot be answered by this particular dataset, e.g. about columns you don't have access to.\n",
    "  \n",
    "I would also note that this is not about statistical analysis.  We are exploring the data and want to keep to questions that do not require any sophisticated statistical techniques or algorithms."
   ]
  },
  {
   "cell_type": "markdown",
   "metadata": {},
   "source": [
    "### Step 3: Data Sufficiency\n",
    "\n",
    "If your questions can be answered with the data obtained from `Project_kiva.ipynb`, then your data is sufficient to proceed to the next step.  If your questions need additional data, then you need to write code and/or obtain the needed tabular data.  For instance, a natural question might be to relate your kiva data with information we have in our `countries` table, which is a separate data set.  In that table, for a given ISO code, we have the income category of the country and have the region of the world the country belongs to."
   ]
  },
  {
   "cell_type": "markdown",
   "metadata": {},
   "source": [
    "### Step 4: Visualization\n",
    "\n",
    "> Goal: Set of clear and coherent visualizations that give insight to the exploratory questions.\n",
    "\n",
    "  - Avoid graphics that contain far too much information (e.g. hundreds of histograms, or scatterplots with so many points as to be unreadable).\n",
    "  - Don't feel the need to include every graphic you produce. Your goal is quality, not quantity. Having too many visualizations can actually hurt your grade, since this is a writing assignment and you are being graded on quality and coherence rather than the sheer amount of work you did.\n",
    "  - Produce graphics that are informative, where the reader can see a story at a glance.\n",
    "  - Good graphics often include a contrast.  Think about the multiple lines on our plot of cooling and heating days in our tutorial.\n",
    "  - Good graphics often include color to help distinguish aspects of information."
   ]
  },
  {
   "cell_type": "markdown",
   "metadata": {},
   "source": [
    "### Step 5: Crafting the Essay\n",
    "\n",
    "> Goal: A new/separate notebook that contains your essay and visualizations.\n",
    "\n",
    "You will create your own (new) notebook, perhaps named `kiva-essay.ipynb` that is primarily a Markdown document.  It is intended to tell the story of your investigation.  As in any good writing, it should have a beginning, a middle, and an end.  It should assume an audience that is **not** already familiar with Kiva and its goals, with Python programming, with tidy data, with `pandas`, etc.  Write as if you were going to give the essay to a professor in perhaps a social science.  It is ok to talk about independent and dependent variables.\n",
    "\n",
    "It should also **not** simply write down the 5 steps documented in this notebook as a suggested process.\n",
    "\n",
    "Unless you have Python code that does something new and interesting in order to transform or combine data, it should not contain Python code.\n",
    "\n",
    "It should use the structuring mechansims (like first-, second-, third-level headers, bullet lists, numbered lists, etc) provided by Markdown and exemplified in the 100+ `.ipynb` notebooks provided over the course of the semester thus far.\n",
    "\n",
    "In your writing, don't forget to:\n",
    "\n",
    "- set a context of the source of the data and what data is available,\n",
    "- motivate, explain, and clearly articulate your interesting questions,\n",
    "- present and explain what the reader is seeing in your visualizations,\n",
    "- help the reader interpret the visualizations and see how they may help to answer your questions,\n",
    "- come to a conclusion and the investigation and what you learned.\n",
    "\n",
    "When including jpeg images in a Jupyter notebook, I do an import at the top:\n",
    "\n",
    "```python\n",
    "from IPython.display import Image\n",
    "```\n",
    "\n",
    "and then, when I want to include the jpeg, I use\n",
    "\n",
    "```python\n",
    "Image(\"figs/school_schema.jpg\", width=600, height=600)\n",
    "```\n",
    "where the jpeg, like `school_schema.jpg`, is in the directory `figs/`.  This way of including graphics gives me the control on width and height, and, unlike some other mechanisms, allows a PDF generation of the resultant report."
   ]
  }
 ],
 "metadata": {
  "kernelspec": {
   "display_name": "Python 3",
   "language": "python",
   "name": "python3"
  },
  "language_info": {
   "codemirror_mode": {
    "name": "ipython",
    "version": 3
   },
   "file_extension": ".py",
   "mimetype": "text/x-python",
   "name": "python",
   "nbconvert_exporter": "python",
   "pygments_lexer": "ipython3",
   "version": "3.7.6"
  }
 },
 "nbformat": 4,
 "nbformat_minor": 4
}
