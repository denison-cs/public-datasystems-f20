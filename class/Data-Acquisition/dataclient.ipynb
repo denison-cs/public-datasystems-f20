{
 "cells": [
  {
   "cell_type": "code",
   "execution_count": 7,
   "metadata": {},
   "outputs": [],
   "source": [
    "import requests"
   ]
  },
  {
   "cell_type": "code",
   "execution_count": 17,
   "metadata": {
    "nbgrader": {
     "grade": false,
     "grade_id": "cell-b9abcf27cf7faf8f",
     "locked": true,
     "schema_version": 3,
     "solution": false,
     "task": false
    }
   },
   "outputs": [],
   "source": [
    "import os\n",
    "import os.path\n",
    "import sys\n",
    "import importlib\n",
    "import pandas as pd\n",
    "\n",
    "if os.path.isdir(os.path.join(\"../../..\", \"modules\")):\n",
    "    module_dir = os.path.join(\"../../..\", \"modules\")\n",
    "else:\n",
    "    module_dir = os.path.join(\"../..\", \"modules\")\n",
    "\n",
    "module_path = os.path.abspath(module_dir)\n",
    "if not module_path in sys.path:\n",
    "    sys.path.append(module_path)\n",
    "\n",
    "import mysocket as sock\n",
    "importlib.reload(sock)\n",
    "\n",
    "import util\n",
    "importlib.reload(util)\n",
    "\n",
    "datadir = \"publicdata\""
   ]
  },
  {
   "cell_type": "code",
   "execution_count": 18,
   "metadata": {},
   "outputs": [],
   "source": [
    "import io"
   ]
  },
  {
   "cell_type": "code",
   "execution_count": 19,
   "metadata": {},
   "outputs": [],
   "source": [
    "s = \"\"\"year,sex,name,count\n",
    "2014,Female,Emma,20936\n",
    "2014,Male,Noah,19305\n",
    "2015,Female,Emma,20455\n",
    "2015,Male,Noah,19635\n",
    "2016,Female,Emma,19496\n",
    "2016,Male,Noah,19117\n",
    "2017,Female,Emma,19800\n",
    "2017,Male,Liam,18798\n",
    "2018,Female,Emma,18688\n",
    "2018,Male,Liam,19837\n",
    "\"\"\""
   ]
  },
  {
   "cell_type": "code",
   "execution_count": 20,
   "metadata": {},
   "outputs": [
    {
     "name": "stdout",
     "output_type": "stream",
     "text": [
      "year,sex,name,count\n",
      "2014,Female,Emma,20936\n",
      "2014,Male,Noah,19305\n",
      "2015,Female,Emma,20455\n",
      "2015,Male,Noah,19635\n",
      "2016,Female,Emma,19496\n",
      "2016,Male,Noah,19117\n",
      "2017,Female,Emma,19800\n",
      "2017,Male,Liam,18798\n",
      "2018,Female,Emma,18688\n",
      "2018,Male,Liam,19837\n",
      "\n"
     ]
    }
   ],
   "source": [
    "print(s)"
   ]
  },
  {
   "cell_type": "code",
   "execution_count": 21,
   "metadata": {},
   "outputs": [
    {
     "name": "stdout",
     "output_type": "stream",
     "text": [
      "'year,sex,name,count\\n2014,Female,Emma,20936\\n2014,Male,Noah,19305\\n2015,Female,Emma,20455\\n2015,Male,Noah,19635\\n2016,Female,Emma,19496\\n2016,Male,Noah,19117\\n2017,Female,Emma,19800\\n2017,Male,Liam,18798\\n2018,Female,Emma,18688\\n2018,Male,Liam,19837\\n'\n"
     ]
    }
   ],
   "source": [
    "print(repr(s))"
   ]
  },
  {
   "cell_type": "markdown",
   "metadata": {},
   "source": [
    "## File Based Processing\n",
    "\n",
    "### Native Data Structure"
   ]
  },
  {
   "cell_type": "code",
   "execution_count": 25,
   "metadata": {},
   "outputs": [
    {
     "name": "stdout",
     "output_type": "stream",
     "text": [
      "['year', 'sex', 'name', 'count']\n",
      "[['2014', 'Female', 'Emma', '20936'], ['2014', 'Male', 'Noah', '19305'], ['2015', 'Female', 'Emma', '20455'], ['2015', 'Male', 'Noah', '19635'], ['2016', 'Female', 'Emma', '19496'], ['2016', 'Male', 'Noah', '19117'], ['2017', 'Female', 'Emma', '19800'], ['2017', 'Male', 'Liam', '18798'], ['2018', 'Female', 'Emma', '18688'], ['2018', 'Male', 'Liam', '19837']]\n"
     ]
    },
    {
     "data": {
      "text/html": [
       "<div>\n",
       "<style scoped>\n",
       "    .dataframe tbody tr th:only-of-type {\n",
       "        vertical-align: middle;\n",
       "    }\n",
       "\n",
       "    .dataframe tbody tr th {\n",
       "        vertical-align: top;\n",
       "    }\n",
       "\n",
       "    .dataframe thead th {\n",
       "        text-align: right;\n",
       "    }\n",
       "</style>\n",
       "<table border=\"1\" class=\"dataframe\">\n",
       "  <thead>\n",
       "    <tr style=\"text-align: right;\">\n",
       "      <th></th>\n",
       "      <th>year</th>\n",
       "      <th>sex</th>\n",
       "      <th>name</th>\n",
       "      <th>count</th>\n",
       "    </tr>\n",
       "  </thead>\n",
       "  <tbody>\n",
       "    <tr>\n",
       "      <th>0</th>\n",
       "      <td>2014</td>\n",
       "      <td>Female</td>\n",
       "      <td>Emma</td>\n",
       "      <td>20936</td>\n",
       "    </tr>\n",
       "    <tr>\n",
       "      <th>1</th>\n",
       "      <td>2014</td>\n",
       "      <td>Male</td>\n",
       "      <td>Noah</td>\n",
       "      <td>19305</td>\n",
       "    </tr>\n",
       "    <tr>\n",
       "      <th>2</th>\n",
       "      <td>2015</td>\n",
       "      <td>Female</td>\n",
       "      <td>Emma</td>\n",
       "      <td>20455</td>\n",
       "    </tr>\n",
       "    <tr>\n",
       "      <th>3</th>\n",
       "      <td>2015</td>\n",
       "      <td>Male</td>\n",
       "      <td>Noah</td>\n",
       "      <td>19635</td>\n",
       "    </tr>\n",
       "    <tr>\n",
       "      <th>4</th>\n",
       "      <td>2016</td>\n",
       "      <td>Female</td>\n",
       "      <td>Emma</td>\n",
       "      <td>19496</td>\n",
       "    </tr>\n",
       "    <tr>\n",
       "      <th>5</th>\n",
       "      <td>2016</td>\n",
       "      <td>Male</td>\n",
       "      <td>Noah</td>\n",
       "      <td>19117</td>\n",
       "    </tr>\n",
       "    <tr>\n",
       "      <th>6</th>\n",
       "      <td>2017</td>\n",
       "      <td>Female</td>\n",
       "      <td>Emma</td>\n",
       "      <td>19800</td>\n",
       "    </tr>\n",
       "    <tr>\n",
       "      <th>7</th>\n",
       "      <td>2017</td>\n",
       "      <td>Male</td>\n",
       "      <td>Liam</td>\n",
       "      <td>18798</td>\n",
       "    </tr>\n",
       "    <tr>\n",
       "      <th>8</th>\n",
       "      <td>2018</td>\n",
       "      <td>Female</td>\n",
       "      <td>Emma</td>\n",
       "      <td>18688</td>\n",
       "    </tr>\n",
       "    <tr>\n",
       "      <th>9</th>\n",
       "      <td>2018</td>\n",
       "      <td>Male</td>\n",
       "      <td>Liam</td>\n",
       "      <td>19837</td>\n",
       "    </tr>\n",
       "  </tbody>\n",
       "</table>\n",
       "</div>"
      ],
      "text/plain": [
       "   year     sex  name  count\n",
       "0  2014  Female  Emma  20936\n",
       "1  2014    Male  Noah  19305\n",
       "2  2015  Female  Emma  20455\n",
       "3  2015    Male  Noah  19635\n",
       "4  2016  Female  Emma  19496\n",
       "5  2016    Male  Noah  19117\n",
       "6  2017  Female  Emma  19800\n",
       "7  2017    Male  Liam  18798\n",
       "8  2018  Female  Emma  18688\n",
       "9  2018    Male  Liam  19837"
      ]
     },
     "execution_count": 25,
     "metadata": {},
     "output_type": "execute_result"
    }
   ],
   "source": [
    "pathname = os.path.join(datadir, \"tn10.csv\")\n",
    "\n",
    "fileObj = open(pathname, \"rt\")\n",
    "columns = fileObj.readline().strip().split(',')\n",
    "print(columns)\n",
    "\n",
    "LoL = []\n",
    "for row in fileObj:\n",
    "    fields = row.strip().split(',')\n",
    "    LoL.append(fields)\n",
    "    \n",
    "print(LoL)\n",
    "fileObj.close()\n",
    "\n",
    "df = pd.DataFrame(LoL, columns=columns)\n",
    "df"
   ]
  },
  {
   "cell_type": "markdown",
   "metadata": {},
   "source": [
    "### Pandas `read_csv`"
   ]
  },
  {
   "cell_type": "code",
   "execution_count": 26,
   "metadata": {},
   "outputs": [
    {
     "data": {
      "text/html": [
       "<div>\n",
       "<style scoped>\n",
       "    .dataframe tbody tr th:only-of-type {\n",
       "        vertical-align: middle;\n",
       "    }\n",
       "\n",
       "    .dataframe tbody tr th {\n",
       "        vertical-align: top;\n",
       "    }\n",
       "\n",
       "    .dataframe thead th {\n",
       "        text-align: right;\n",
       "    }\n",
       "</style>\n",
       "<table border=\"1\" class=\"dataframe\">\n",
       "  <thead>\n",
       "    <tr style=\"text-align: right;\">\n",
       "      <th></th>\n",
       "      <th>year</th>\n",
       "      <th>sex</th>\n",
       "      <th>name</th>\n",
       "      <th>count</th>\n",
       "    </tr>\n",
       "  </thead>\n",
       "  <tbody>\n",
       "    <tr>\n",
       "      <th>0</th>\n",
       "      <td>2014</td>\n",
       "      <td>Female</td>\n",
       "      <td>Emma</td>\n",
       "      <td>20936</td>\n",
       "    </tr>\n",
       "    <tr>\n",
       "      <th>1</th>\n",
       "      <td>2014</td>\n",
       "      <td>Male</td>\n",
       "      <td>Noah</td>\n",
       "      <td>19305</td>\n",
       "    </tr>\n",
       "    <tr>\n",
       "      <th>2</th>\n",
       "      <td>2015</td>\n",
       "      <td>Female</td>\n",
       "      <td>Emma</td>\n",
       "      <td>20455</td>\n",
       "    </tr>\n",
       "    <tr>\n",
       "      <th>3</th>\n",
       "      <td>2015</td>\n",
       "      <td>Male</td>\n",
       "      <td>Noah</td>\n",
       "      <td>19635</td>\n",
       "    </tr>\n",
       "    <tr>\n",
       "      <th>4</th>\n",
       "      <td>2016</td>\n",
       "      <td>Female</td>\n",
       "      <td>Emma</td>\n",
       "      <td>19496</td>\n",
       "    </tr>\n",
       "    <tr>\n",
       "      <th>5</th>\n",
       "      <td>2016</td>\n",
       "      <td>Male</td>\n",
       "      <td>Noah</td>\n",
       "      <td>19117</td>\n",
       "    </tr>\n",
       "    <tr>\n",
       "      <th>6</th>\n",
       "      <td>2017</td>\n",
       "      <td>Female</td>\n",
       "      <td>Emma</td>\n",
       "      <td>19800</td>\n",
       "    </tr>\n",
       "    <tr>\n",
       "      <th>7</th>\n",
       "      <td>2017</td>\n",
       "      <td>Male</td>\n",
       "      <td>Liam</td>\n",
       "      <td>18798</td>\n",
       "    </tr>\n",
       "    <tr>\n",
       "      <th>8</th>\n",
       "      <td>2018</td>\n",
       "      <td>Female</td>\n",
       "      <td>Emma</td>\n",
       "      <td>18688</td>\n",
       "    </tr>\n",
       "    <tr>\n",
       "      <th>9</th>\n",
       "      <td>2018</td>\n",
       "      <td>Male</td>\n",
       "      <td>Liam</td>\n",
       "      <td>19837</td>\n",
       "    </tr>\n",
       "  </tbody>\n",
       "</table>\n",
       "</div>"
      ],
      "text/plain": [
       "   year     sex  name  count\n",
       "0  2014  Female  Emma  20936\n",
       "1  2014    Male  Noah  19305\n",
       "2  2015  Female  Emma  20455\n",
       "3  2015    Male  Noah  19635\n",
       "4  2016  Female  Emma  19496\n",
       "5  2016    Male  Noah  19117\n",
       "6  2017  Female  Emma  19800\n",
       "7  2017    Male  Liam  18798\n",
       "8  2018  Female  Emma  18688\n",
       "9  2018    Male  Liam  19837"
      ]
     },
     "execution_count": 26,
     "metadata": {},
     "output_type": "execute_result"
    }
   ],
   "source": [
    "df2 = pd.read_csv(pathname)\n",
    "\n",
    "with open(pathname, 'rt') as fileObj:\n",
    "    df3 = pd.read_csv(fileObj)\n",
    "\n",
    "df3"
   ]
  },
  {
   "cell_type": "code",
   "execution_count": 28,
   "metadata": {},
   "outputs": [],
   "source": [
    "# df4 = pd.read_csv(s)"
   ]
  },
  {
   "cell_type": "markdown",
   "metadata": {},
   "source": [
    "**Goal: Given data is in a string, how to create two-D structure or data frame**\n",
    "\n",
    "**What to do with a string**"
   ]
  },
  {
   "cell_type": "markdown",
   "metadata": {},
   "source": [
    "## Request"
   ]
  },
  {
   "cell_type": "code",
   "execution_count": 30,
   "metadata": {},
   "outputs": [],
   "source": [
    "csvurl = util.buildURL(\"/data/ind2016_16.csv\", \"datasystems.denison.edu\")\n",
    "response = requests.get(csvurl)\n",
    "if response.status_code != 200:\n",
    "    print(\"Error acquiring file\")"
   ]
  },
  {
   "cell_type": "code",
   "execution_count": 34,
   "metadata": {},
   "outputs": [
    {
     "data": {
      "text/plain": [
       "'\\x00c\\x00o\\x00d\\x00e\\x00,\\x00c\\x00o\\x00u\\x00n\\x00t\\x00r\\x00y\\x00,\\x00p\\x00o\\x00p\\x00,\\x00g\\x00d\\x00p\\x00,\\x00l\\x00i\\x00f\\x00e\\x00,\\x00c\\x00e\\x00l\\x00l\\x00\\n\\x00C\\x00A\\x00N\\x00,\\x00C\\x00a\\x00n\\x00a\\x00d\\x00a\\x00,\\x003\\x006\\x00.\\x002\\x006\\x00,\\x001\\x005\\x003\\x005\\x00.\\x007\\x007\\x00,\\x008\\x002\\x00.\\x003\\x00,\\x003\\x000\\x00.\\x007\\x005\\x00\\n\\x00C\\x00H\\x00N\\x00,\\x00C\\x00h\\x00i\\x00n\\x00a\\x00,\\x001\\x003\\x007\\x008\\x00.\\x006\\x006\\x00,\\x001\\x001\\x001\\x009\\x009\\x00.\\x001\\x005\\x00,\\x007\\x006\\x00.\\x002\\x005\\x00,\\x001\\x003\\x006\\x004\\x00.\\x009\\x003\\x00\\n\\x00I\\x00N\\x00D\\x00,\\x00I\\x00n\\x00d\\x00i\\x00a\\x00,\\x001\\x003\\x002\\x004\\x00.\\x001\\x007\\x00,\\x002\\x002\\x006\\x003\\x00.\\x007\\x009\\x00,\\x006\\x008\\x00.\\x005\\x006\\x00,\\x001\\x001\\x002\\x007\\x00.\\x008\\x001\\x00\\n\\x00R\\x00U\\x00S\\x00,\\x00R\\x00u\\x00s\\x00s\\x00i\\x00a\\x00,\\x001\\x004\\x004\\x00.\\x003\\x004\\x00,\\x001\\x002\\x008\\x003\\x00.\\x001\\x006\\x00,\\x007\\x001\\x00.\\x005\\x009\\x00,\\x002\\x002\\x009\\x00.\\x001\\x003\\x00\\n\\x00U\\x00S\\x00A\\x00,\\x00U\\x00n\\x00i\\x00t\\x00e\\x00d\\x00 \\x00S\\x00t\\x00a\\x00t\\x00e\\x00s\\x00,\\x003\\x002\\x003\\x00.\\x001\\x003\\x00,\\x001\\x008\\x006\\x002\\x004\\x00.\\x004\\x007\\x00,\\x007\\x008\\x00.\\x006\\x009\\x00,\\x003\\x009\\x005\\x00.\\x008\\x008\\x00\\n\\x00V\\x00N\\x00M\\x00,\\x00V\\x00i\\x00e\\x00t\\x00n\\x00a\\x00m\\x00,\\x009\\x004\\x00.\\x005\\x007\\x00,\\x002\\x000\\x005\\x00.\\x002\\x008\\x00,\\x007\\x006\\x00.\\x002\\x005\\x00,\\x001\\x002\\x000\\x00.\\x006\\x00\\n'"
      ]
     },
     "execution_count": 34,
     "metadata": {},
     "output_type": "execute_result"
    }
   ],
   "source": [
    "response.text"
   ]
  },
  {
   "cell_type": "markdown",
   "metadata": {},
   "source": [
    "**How to make \"right\"**"
   ]
  },
  {
   "cell_type": "code",
   "execution_count": 35,
   "metadata": {},
   "outputs": [
    {
     "data": {
      "text/plain": [
       "'code,country,pop,gdp,life,cell\\nCAN,Canada,36.26,1535.77,82.3,30.75\\nCHN,China,1378.66,11199.15,76.25,1364.93\\nIND,India,1324.17,2263.79,68.56,1127.81\\nRUS,Russia,144.34,1283.16,71.59,229.13\\nUSA,United States,323.13,18624.47,78.69,395.88\\nVNM,Vietnam,94.57,205.28,76.25,120.6\\n'"
      ]
     },
     "execution_count": 35,
     "metadata": {},
     "output_type": "execute_result"
    }
   ],
   "source": []
  },
  {
   "cell_type": "code",
   "execution_count": null,
   "metadata": {},
   "outputs": [],
   "source": []
  }
 ],
 "metadata": {
  "kernelspec": {
   "display_name": "Python 3",
   "language": "python",
   "name": "python3"
  },
  "language_info": {
   "codemirror_mode": {
    "name": "ipython",
    "version": 3
   },
   "file_extension": ".py",
   "mimetype": "text/x-python",
   "name": "python",
   "nbconvert_exporter": "python",
   "pygments_lexer": "ipython3",
   "version": "3.7.6"
  }
 },
 "nbformat": 4,
 "nbformat_minor": 4
}
