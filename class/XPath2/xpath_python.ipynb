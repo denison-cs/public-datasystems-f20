{
 "cells": [
  {
   "cell_type": "code",
   "execution_count": 9,
   "metadata": {},
   "outputs": [],
   "source": [
    "import os.path\n",
    "from lxml import etree\n",
    "\n",
    "datadir = \"publicdata\"\n",
    "\n",
    "def localXML(filename, datafolder=\".\", parser=None):\n",
    "    filepath = os.path.join(datafolder, filename)\n",
    "    if not os.path.isfile(filepath):\n",
    "        print(\"File not found: {}\".format(filepath))\n",
    "        return None\n",
    "    try:\n",
    "        if not parser:\n",
    "            parser = etree.XMLParser(remove_blank_text=True)\n",
    "        mytree = etree.parse(filepath, parser=parser)\n",
    "    except Exception as e:\n",
    "        return None\n",
    "    \n",
    "    return mytree.getroot()"
   ]
  },
  {
   "cell_type": "code",
   "execution_count": 13,
   "metadata": {},
   "outputs": [],
   "source": [
    "book_root = localXML(\"bookstore.xml\", datadir)\n",
    "ind_root = localXML(\"ind0.xml\", datadir)\n",
    "widom_root = localXML(\"widombooks.xml\", datadir)\n",
    "\n",
    "assert book_root is not None\n",
    "assert ind_root is not None\n",
    "assert widom_root is not None"
   ]
  },
  {
   "cell_type": "markdown",
   "metadata": {},
   "source": [
    "## Quiz Question 4 Examples"
   ]
  },
  {
   "cell_type": "markdown",
   "metadata": {},
   "source": [
    "### First child of root"
   ]
  },
  {
   "cell_type": "code",
   "execution_count": 15,
   "metadata": {},
   "outputs": [
    {
     "name": "stdout",
     "output_type": "stream",
     "text": [
      "<Element book at 0x10ed89dc0>\n"
     ]
    }
   ],
   "source": [
    "firstchild = book_root.getchildren()[0]\n",
    "print(firstchild)\n",
    "# Alternatives?"
   ]
  },
  {
   "cell_type": "code",
   "execution_count": 17,
   "metadata": {},
   "outputs": [],
   "source": [
    "# Get multipath; like \"findall\" for location step of last tag\n",
    "\n",
    "xp = \"\"\"??\"\"\"\n",
    "node_set = book_root.xpath(xp)"
   ]
  },
  {
   "cell_type": "code",
   "execution_count": 19,
   "metadata": {},
   "outputs": [
    {
     "data": {
      "text/plain": [
       "[<Element book at 0x10ed89dc0>,\n",
       " <Element book at 0x10ece50f0>,\n",
       " <Element book at 0x10ed8c9b0>,\n",
       " <Element book at 0x10ed8c690>,\n",
       " <Element book at 0x10ed8cb90>,\n",
       " <Element book at 0x10ed8caf0>,\n",
       " <Element book at 0x10ed8cc80>,\n",
       " <Element book at 0x10ed8ccd0>,\n",
       " <Element book at 0x10ed8cd70>,\n",
       " <Element book at 0x10ed8ce10>,\n",
       " <Element book at 0x10ed8ce60>,\n",
       " <Element book at 0x10ed8cf00>]"
      ]
     },
     "execution_count": 19,
     "metadata": {},
     "output_type": "execute_result"
    }
   ],
   "source": [
    "node_set[0]"
   ]
  },
  {
   "cell_type": "code",
   "execution_count": 17,
   "metadata": {},
   "outputs": [],
   "source": [
    "# Get single by adding a position predicate\n",
    "\n",
    "xp = \"\"\"??\"\"\"\n",
    "node_set = book_root.xpath(xp)"
   ]
  },
  {
   "cell_type": "code",
   "execution_count": 19,
   "metadata": {
    "collapsed": true,
    "jupyter": {
     "outputs_hidden": true
    }
   },
   "outputs": [
    {
     "data": {
      "text/plain": [
       "[<Element book at 0x10ed89dc0>,\n",
       " <Element book at 0x10ece50f0>,\n",
       " <Element book at 0x10ed8c9b0>,\n",
       " <Element book at 0x10ed8c690>,\n",
       " <Element book at 0x10ed8cb90>,\n",
       " <Element book at 0x10ed8caf0>,\n",
       " <Element book at 0x10ed8cc80>,\n",
       " <Element book at 0x10ed8ccd0>,\n",
       " <Element book at 0x10ed8cd70>,\n",
       " <Element book at 0x10ed8ce10>,\n",
       " <Element book at 0x10ed8ce60>,\n",
       " <Element book at 0x10ed8cf00>]"
      ]
     },
     "execution_count": 19,
     "metadata": {},
     "output_type": "execute_result"
    }
   ],
   "source": [
    "node_set[0]"
   ]
  },
  {
   "cell_type": "markdown",
   "metadata": {},
   "source": [
    "### Value of attribute of first child of root"
   ]
  },
  {
   "cell_type": "code",
   "execution_count": 23,
   "metadata": {},
   "outputs": [
    {
     "data": {
      "text/plain": [
       "'bk101'"
      ]
     },
     "execution_count": 23,
     "metadata": {},
     "output_type": "execute_result"
    }
   ],
   "source": [
    "firstid = book_root[0].attrib[\"id\"]\n",
    "firstid"
   ]
  },
  {
   "cell_type": "code",
   "execution_count": 20,
   "metadata": {},
   "outputs": [],
   "source": [
    "# Use above XPath and then take another \"step\" for attribute\n",
    "\n",
    "xp = \"\"\"??\"\"\"\n",
    "node_set = book_root.xpath(xp)"
   ]
  },
  {
   "cell_type": "code",
   "execution_count": 21,
   "metadata": {},
   "outputs": [
    {
     "data": {
      "text/plain": [
       "'bk101'"
      ]
     },
     "execution_count": 21,
     "metadata": {},
     "output_type": "execute_result"
    }
   ],
   "source": [
    "node_set[0]"
   ]
  },
  {
   "cell_type": "markdown",
   "metadata": {},
   "source": [
    "### Children (tags) of first child of root"
   ]
  },
  {
   "cell_type": "code",
   "execution_count": 24,
   "metadata": {},
   "outputs": [
    {
     "data": {
      "text/plain": [
       "['author', 'title', 'genre', 'price', 'publish_date', 'description']"
      ]
     },
     "execution_count": 24,
     "metadata": {},
     "output_type": "execute_result"
    }
   ],
   "source": [
    "tag_list = []\n",
    "for E in book_root.getchildren()[0]:\n",
    "    tag_list.append(E.tag)\n",
    "tag_list"
   ]
  },
  {
   "cell_type": "code",
   "execution_count": 28,
   "metadata": {},
   "outputs": [],
   "source": [
    "# Use above XPath and then take another \"step\" for attribute\n",
    "\n",
    "xp = \"\"\"??\"\"\"\n",
    "node_set = book_root.xpath(xp)"
   ]
  },
  {
   "cell_type": "code",
   "execution_count": 30,
   "metadata": {},
   "outputs": [
    {
     "data": {
      "text/plain": [
       "['author', 'title', 'genre', 'price', 'publish_date', 'description']"
      ]
     },
     "execution_count": 30,
     "metadata": {},
     "output_type": "execute_result"
    }
   ],
   "source": [
    "[e.tag for e in node_set]"
   ]
  },
  {
   "cell_type": "markdown",
   "metadata": {},
   "source": [
    "### List of prices"
   ]
  },
  {
   "cell_type": "code",
   "execution_count": 31,
   "metadata": {},
   "outputs": [
    {
     "data": {
      "text/plain": [
       "['44.95',\n",
       " '5.95',\n",
       " '5.95',\n",
       " '5.95',\n",
       " '5.95',\n",
       " '4.95',\n",
       " '4.95',\n",
       " '4.95',\n",
       " '6.95',\n",
       " '36.95',\n",
       " '36.95',\n",
       " '49.95']"
      ]
     },
     "execution_count": 31,
     "metadata": {},
     "output_type": "execute_result"
    }
   ],
   "source": [
    "price_list = []\n",
    "for bookNode in book_root.getchildren():\n",
    "    price_node = bookNode.find(\"price\")\n",
    "    price_list.append(price_node.text)\n",
    "price_list"
   ]
  },
  {
   "cell_type": "code",
   "execution_count": 34,
   "metadata": {},
   "outputs": [],
   "source": [
    "# Traversal to price element and its text\n",
    "\n",
    "xp = \"\"\"??\"\"\"\n",
    "node_set = book_root.xpath(xp)"
   ]
  },
  {
   "cell_type": "code",
   "execution_count": 36,
   "metadata": {},
   "outputs": [
    {
     "data": {
      "text/plain": [
       "['44.95',\n",
       " '5.95',\n",
       " '5.95',\n",
       " '5.95',\n",
       " '5.95',\n",
       " '4.95',\n",
       " '4.95',\n",
       " '4.95',\n",
       " '6.95',\n",
       " '36.95',\n",
       " '36.95',\n",
       " '49.95']"
      ]
     },
     "execution_count": 36,
     "metadata": {},
     "output_type": "execute_result"
    }
   ],
   "source": [
    "node_set"
   ]
  },
  {
   "cell_type": "code",
   "execution_count": 34,
   "metadata": {},
   "outputs": [],
   "source": [
    "# Traversal to price element and its text -- shortcut\n",
    "\n",
    "xp = \"\"\"??\"\"\"\n",
    "node_set = book_root.xpath(xp)"
   ]
  },
  {
   "cell_type": "code",
   "execution_count": 36,
   "metadata": {},
   "outputs": [
    {
     "data": {
      "text/plain": [
       "['44.95',\n",
       " '5.95',\n",
       " '5.95',\n",
       " '5.95',\n",
       " '5.95',\n",
       " '4.95',\n",
       " '4.95',\n",
       " '4.95',\n",
       " '6.95',\n",
       " '36.95',\n",
       " '36.95',\n",
       " '49.95']"
      ]
     },
     "execution_count": 36,
     "metadata": {},
     "output_type": "execute_result"
    }
   ],
   "source": [
    "node_set"
   ]
  },
  {
   "cell_type": "code",
   "execution_count": null,
   "metadata": {},
   "outputs": [],
   "source": []
  }
 ],
 "metadata": {
  "kernelspec": {
   "display_name": "Python 3",
   "language": "python",
   "name": "python3"
  },
  "language_info": {
   "codemirror_mode": {
    "name": "ipython",
    "version": 3
   },
   "file_extension": ".py",
   "mimetype": "text/x-python",
   "name": "python",
   "nbconvert_exporter": "python",
   "pygments_lexer": "ipython3",
   "version": "3.7.6"
  }
 },
 "nbformat": 4,
 "nbformat_minor": 4
}
