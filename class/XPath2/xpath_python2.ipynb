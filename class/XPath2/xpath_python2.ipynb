{
 "cells": [
  {
   "cell_type": "code",
   "execution_count": 38,
   "metadata": {},
   "outputs": [],
   "source": [
    "import os.path\n",
    "from lxml import etree\n",
    "\n",
    "datadir = \"publicdata\"\n",
    "\n",
    "def localXML(filename, datafolder=\".\", parser=None):\n",
    "    filepath = os.path.join(datafolder, filename)\n",
    "    if not os.path.isfile(filepath):\n",
    "        print(\"File not found: {}\".format(filepath))\n",
    "        return None\n",
    "    try:\n",
    "        if not parser:\n",
    "            parser = etree.XMLParser(remove_blank_text=True)\n",
    "        mytree = etree.parse(filepath, parser=parser)\n",
    "    except Exception as e:\n",
    "        return None\n",
    "    \n",
    "    return mytree.getroot()"
   ]
  },
  {
   "cell_type": "code",
   "execution_count": 39,
   "metadata": {},
   "outputs": [],
   "source": [
    "book_root = localXML(\"bookstore.xml\", datadir)\n",
    "ind_root = localXML(\"ind0.xml\", datadir)\n",
    "widom_root = localXML(\"widombooks.xml\", datadir)\n",
    "\n",
    "assert book_root is not None\n",
    "assert ind_root is not None\n",
    "assert widom_root is not None"
   ]
  },
  {
   "cell_type": "markdown",
   "metadata": {},
   "source": [
    "## Quiz Question 4 Examples"
   ]
  },
  {
   "cell_type": "markdown",
   "metadata": {},
   "source": [
    "### First child of root"
   ]
  },
  {
   "cell_type": "code",
   "execution_count": 43,
   "metadata": {},
   "outputs": [
    {
     "data": {
      "text/plain": [
       "<Element book at 0x10eda2820>"
      ]
     },
     "execution_count": 43,
     "metadata": {},
     "output_type": "execute_result"
    }
   ],
   "source": [
    "firstchild = book_root.getchildren()[0]\n",
    "#print(firstchild)\n",
    "# Alternatives?\n",
    "fd = book_root.getchildren()\n",
    "firstchild = fd[0]\n",
    "book_root[0]\n",
    "firstchild = book_root.find(\"book\")\n",
    "firstchild"
   ]
  },
  {
   "cell_type": "code",
   "execution_count": 44,
   "metadata": {},
   "outputs": [],
   "source": [
    "# Get multipath; like \"findall\" for location step of last tag\n",
    "\n",
    "xp = \"\"\"/catalog/book\"\"\"\n",
    "node_set = book_root.xpath(xp)"
   ]
  },
  {
   "cell_type": "code",
   "execution_count": 45,
   "metadata": {},
   "outputs": [
    {
     "data": {
      "text/plain": [
       "<Element book at 0x10eda2820>"
      ]
     },
     "execution_count": 45,
     "metadata": {},
     "output_type": "execute_result"
    }
   ],
   "source": [
    "node_set[0]"
   ]
  },
  {
   "cell_type": "code",
   "execution_count": 46,
   "metadata": {},
   "outputs": [],
   "source": [
    "# Get single by adding a position predicate\n",
    "\n",
    "xp = \"\"\"/catalog/book[1]\"\"\"\n",
    "node_set = book_root.xpath(xp)"
   ]
  },
  {
   "cell_type": "code",
   "execution_count": 48,
   "metadata": {},
   "outputs": [
    {
     "data": {
      "text/plain": [
       "[<Element book at 0x10eda2820>]"
      ]
     },
     "execution_count": 48,
     "metadata": {},
     "output_type": "execute_result"
    }
   ],
   "source": [
    "node_set"
   ]
  },
  {
   "cell_type": "markdown",
   "metadata": {},
   "source": [
    "### Value of attribute of first child of root"
   ]
  },
  {
   "cell_type": "code",
   "execution_count": 23,
   "metadata": {},
   "outputs": [
    {
     "data": {
      "text/plain": [
       "'bk101'"
      ]
     },
     "execution_count": 23,
     "metadata": {},
     "output_type": "execute_result"
    }
   ],
   "source": [
    "firstid = book_root[0].attrib[\"id\"]\n",
    "firstid"
   ]
  },
  {
   "cell_type": "code",
   "execution_count": 52,
   "metadata": {},
   "outputs": [],
   "source": [
    "# Use above XPath and then take another \"step\" for attribute\n",
    "\n",
    "xp = \"\"\"/catalog/book[1]/@id\"\"\"\n",
    "node_set = book_root.xpath(xp)"
   ]
  },
  {
   "cell_type": "code",
   "execution_count": 53,
   "metadata": {},
   "outputs": [
    {
     "data": {
      "text/plain": [
       "['bk101']"
      ]
     },
     "execution_count": 53,
     "metadata": {},
     "output_type": "execute_result"
    }
   ],
   "source": [
    "node_set"
   ]
  },
  {
   "cell_type": "markdown",
   "metadata": {},
   "source": [
    "### Children (tags) of first child of root"
   ]
  },
  {
   "cell_type": "code",
   "execution_count": 24,
   "metadata": {},
   "outputs": [
    {
     "data": {
      "text/plain": [
       "['author', 'title', 'genre', 'price', 'publish_date', 'description']"
      ]
     },
     "execution_count": 24,
     "metadata": {},
     "output_type": "execute_result"
    }
   ],
   "source": [
    "tag_list = []\n",
    "for E in book_root.getchildren()[0]:\n",
    "    tag_list.append(E.tag)\n",
    "tag_list"
   ]
  },
  {
   "cell_type": "code",
   "execution_count": 54,
   "metadata": {},
   "outputs": [],
   "source": [
    "# Use above XPath and then take another \"step\" for attribute\n",
    "\n",
    "xp = \"\"\"/catalog/book[1]/*\"\"\"\n",
    "node_set = book_root.xpath(xp)"
   ]
  },
  {
   "cell_type": "code",
   "execution_count": 55,
   "metadata": {},
   "outputs": [
    {
     "data": {
      "text/plain": [
       "['author', 'title', 'genre', 'price', 'publish_date', 'description']"
      ]
     },
     "execution_count": 55,
     "metadata": {},
     "output_type": "execute_result"
    }
   ],
   "source": [
    "[e.tag for e in node_set]"
   ]
  },
  {
   "cell_type": "markdown",
   "metadata": {},
   "source": [
    "### List of prices"
   ]
  },
  {
   "cell_type": "code",
   "execution_count": 31,
   "metadata": {},
   "outputs": [
    {
     "data": {
      "text/plain": [
       "['44.95',\n",
       " '5.95',\n",
       " '5.95',\n",
       " '5.95',\n",
       " '5.95',\n",
       " '4.95',\n",
       " '4.95',\n",
       " '4.95',\n",
       " '6.95',\n",
       " '36.95',\n",
       " '36.95',\n",
       " '49.95']"
      ]
     },
     "execution_count": 31,
     "metadata": {},
     "output_type": "execute_result"
    }
   ],
   "source": [
    "price_list = []\n",
    "for bookNode in book_root.getchildren():\n",
    "    price_node = bookNode.find(\"price\")\n",
    "    price_list.append(price_node.text)\n",
    "price_list"
   ]
  },
  {
   "cell_type": "code",
   "execution_count": 58,
   "metadata": {},
   "outputs": [],
   "source": [
    "# Traversal to price element and its text\n",
    "\n",
    "xp = \"\"\"/catalog/book/price/text()\"\"\"\n",
    "node_set = book_root.xpath(xp)"
   ]
  },
  {
   "cell_type": "code",
   "execution_count": 59,
   "metadata": {},
   "outputs": [
    {
     "data": {
      "text/plain": [
       "['44.95',\n",
       " '5.95',\n",
       " '5.95',\n",
       " '5.95',\n",
       " '5.95',\n",
       " '4.95',\n",
       " '4.95',\n",
       " '4.95',\n",
       " '6.95',\n",
       " '36.95',\n",
       " '36.95',\n",
       " '49.95']"
      ]
     },
     "execution_count": 59,
     "metadata": {},
     "output_type": "execute_result"
    }
   ],
   "source": [
    "node_set"
   ]
  },
  {
   "cell_type": "code",
   "execution_count": 62,
   "metadata": {},
   "outputs": [],
   "source": [
    "# Traversal to price element and its text -- shortcut\n",
    "\n",
    "xp = \"\"\"//text()\"\"\"\n",
    "node_set = book_root.xpath(xp)"
   ]
  },
  {
   "cell_type": "code",
   "execution_count": 63,
   "metadata": {},
   "outputs": [
    {
     "data": {
      "text/plain": [
       "['Gambardella, Matthew',\n",
       " \"XML Developer's Guide\",\n",
       " 'Computer',\n",
       " '44.95',\n",
       " '2000-10-01',\n",
       " 'An in-depth look at creating applications \\n      with XML.',\n",
       " 'Ralls, Kim',\n",
       " 'Midnight Rain',\n",
       " 'Fantasy',\n",
       " '5.95',\n",
       " '2000-12-16',\n",
       " 'A former architect battles corporate zombies, \\n      an evil sorceress, and her own childhood to become queen \\n      of the world.',\n",
       " 'Corets, Eva',\n",
       " 'Maeve Ascendant',\n",
       " 'Fantasy',\n",
       " '5.95',\n",
       " '2000-11-17',\n",
       " 'After the collapse of a nanotechnology \\n      society in England, the young survivors lay the \\n      foundation for a new society.',\n",
       " 'Corets, Eva',\n",
       " \"Oberon's Legacy\",\n",
       " 'Fantasy',\n",
       " '5.95',\n",
       " '2001-03-10',\n",
       " 'In post-apocalypse England, the mysterious \\n      agent known only as Oberon helps to create a new life \\n      for the inhabitants of London. Sequel to Maeve \\n      Ascendant.',\n",
       " 'Corets, Eva',\n",
       " 'The Sundered Grail',\n",
       " 'Fantasy',\n",
       " '5.95',\n",
       " '2001-09-10',\n",
       " \"The two daughters of Maeve, half-sisters, \\n      battle one another for control of England. Sequel to \\n      Oberon's Legacy.\",\n",
       " 'Randall, Cynthia',\n",
       " 'Lover Birds',\n",
       " 'Romance',\n",
       " '4.95',\n",
       " '2000-09-02',\n",
       " 'When Carla meets Paul at an ornithology \\n      conference, tempers fly as feathers get ruffled.',\n",
       " 'Thurman, Paula',\n",
       " 'Splish Splash',\n",
       " 'Romance',\n",
       " '4.95',\n",
       " '2000-11-02',\n",
       " 'A deep sea diver finds true love twenty \\n      thousand leagues beneath the sea.',\n",
       " 'Knorr, Stefan',\n",
       " 'Creepy Crawlies',\n",
       " 'Horror',\n",
       " '4.95',\n",
       " '2000-12-06',\n",
       " 'An anthology of horror stories about roaches,\\n      centipedes, scorpions  and other insects.',\n",
       " 'Kress, Peter',\n",
       " 'Paradox Lost',\n",
       " 'Science Fiction',\n",
       " '6.95',\n",
       " '2000-11-02',\n",
       " 'After an inadvertant trip through a Heisenberg\\n      Uncertainty Device, James Salway discovers the problems \\n      of being quantum.',\n",
       " \"O'Brien, Tim\",\n",
       " 'Microsoft .NET: The Programming Bible',\n",
       " 'Computer',\n",
       " '36.95',\n",
       " '2000-12-09',\n",
       " \"Microsoft's .NET initiative is explored in \\n      detail in this deep programmer's reference.\",\n",
       " \"O'Brien, Tim\",\n",
       " 'MSXML3: A Comprehensive Guide',\n",
       " 'Computer',\n",
       " '36.95',\n",
       " '2000-12-01',\n",
       " 'The Microsoft MSXML3 parser is covered in \\n      detail, with attention to XML DOM interfaces, XSLT processing, \\n      SAX and more.',\n",
       " 'Galos, Mike',\n",
       " 'Visual Studio 7: A Comprehensive Guide',\n",
       " 'Computer',\n",
       " '49.95',\n",
       " '2001-04-16',\n",
       " 'Microsoft Visual Studio 7 is explored in depth,\\n      looking at how Visual Basic, Visual C++, C#, and ASP+ are \\n      integrated into a comprehensive development \\n      environment.']"
      ]
     },
     "execution_count": 63,
     "metadata": {},
     "output_type": "execute_result"
    }
   ],
   "source": [
    "node_set"
   ]
  },
  {
   "cell_type": "code",
   "execution_count": null,
   "metadata": {},
   "outputs": [],
   "source": []
  }
 ],
 "metadata": {
  "kernelspec": {
   "display_name": "Python 3",
   "language": "python",
   "name": "python3"
  },
  "language_info": {
   "codemirror_mode": {
    "name": "ipython",
    "version": 3
   },
   "file_extension": ".py",
   "mimetype": "text/x-python",
   "name": "python",
   "nbconvert_exporter": "python",
   "pygments_lexer": "ipython3",
   "version": "3.7.6"
  }
 },
 "nbformat": 4,
 "nbformat_minor": 4
}
