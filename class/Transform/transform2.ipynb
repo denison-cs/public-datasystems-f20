{
 "cells": [
  {
   "cell_type": "code",
   "execution_count": 1,
   "metadata": {},
   "outputs": [],
   "source": [
    "import os\n",
    "import os.path\n",
    "import pandas as pd\n",
    "\n",
    "datadir = \"publicdata\""
   ]
  },
  {
   "cell_type": "code",
   "execution_count": 2,
   "metadata": {},
   "outputs": [],
   "source": [
    "ind_pivot_LoL = [['CAN', 'pop', 36.26],\n",
    "               ['CAN', 'gdp', 1535.77],\n",
    "               ['CAN', 'life', 82.30],\n",
    "               ['USA', 'pop', 323.13],\n",
    "               ['USA', 'gdp', 18624.47],\n",
    "               ['USA', 'life', 76.25]]\n",
    "dataset_columns = ['code', 'ind', 'value']\n",
    "\n",
    "ind_to_pivot = pd.DataFrame(ind_pivot_LoL, columns=dataset_columns)"
   ]
  },
  {
   "cell_type": "code",
   "execution_count": null,
   "metadata": {},
   "outputs": [],
   "source": [
    "# Pivot with index of code, and pivot column of ind\n",
    "\n"
   ]
  },
  {
   "cell_type": "code",
   "execution_count": 3,
   "metadata": {},
   "outputs": [],
   "source": [
    "row_labels = ['A1', 'A2', 'B1', 'B2', 'C1', 'C2']\n",
    "column_labels = ['I', 'J', 'K', 'V']\n",
    "dataset = [[ 'A.I', 'A.J', 'K.1', 'A1.V'],\n",
    "           [ 'A.I', 'A.J', 'K.2', 'A2.V'],\n",
    "           [ 'B.I', 'B.J', 'K.1', 'B1.V'],\n",
    "           [ 'B.I', 'B.J', 'K.2', 'B2.V'],\n",
    "           [ 'C.I', 'C.J', 'K.1', 'C1.V'],\n",
    "           [ 'C.I', 'C.J', 'K.2', 'C2.V'],\n",
    "]\n",
    "pivot_ex2 = pd.DataFrame(dataset, columns=column_labels, index=row_labels)\n",
    "pivot_ex1 = pivot_ex2.drop('J', axis=1)"
   ]
  },
  {
   "cell_type": "code",
   "execution_count": 4,
   "metadata": {},
   "outputs": [
    {
     "data": {
      "text/html": [
       "<div>\n",
       "<style scoped>\n",
       "    .dataframe tbody tr th:only-of-type {\n",
       "        vertical-align: middle;\n",
       "    }\n",
       "\n",
       "    .dataframe tbody tr th {\n",
       "        vertical-align: top;\n",
       "    }\n",
       "\n",
       "    .dataframe thead th {\n",
       "        text-align: right;\n",
       "    }\n",
       "</style>\n",
       "<table border=\"1\" class=\"dataframe\">\n",
       "  <thead>\n",
       "    <tr style=\"text-align: right;\">\n",
       "      <th></th>\n",
       "      <th>I</th>\n",
       "      <th>K</th>\n",
       "      <th>V</th>\n",
       "    </tr>\n",
       "  </thead>\n",
       "  <tbody>\n",
       "    <tr>\n",
       "      <th>A1</th>\n",
       "      <td>A.I</td>\n",
       "      <td>K.1</td>\n",
       "      <td>A1.V</td>\n",
       "    </tr>\n",
       "    <tr>\n",
       "      <th>A2</th>\n",
       "      <td>A.I</td>\n",
       "      <td>K.2</td>\n",
       "      <td>A2.V</td>\n",
       "    </tr>\n",
       "    <tr>\n",
       "      <th>B1</th>\n",
       "      <td>B.I</td>\n",
       "      <td>K.1</td>\n",
       "      <td>B1.V</td>\n",
       "    </tr>\n",
       "    <tr>\n",
       "      <th>B2</th>\n",
       "      <td>B.I</td>\n",
       "      <td>K.2</td>\n",
       "      <td>B2.V</td>\n",
       "    </tr>\n",
       "    <tr>\n",
       "      <th>C1</th>\n",
       "      <td>C.I</td>\n",
       "      <td>K.1</td>\n",
       "      <td>C1.V</td>\n",
       "    </tr>\n",
       "    <tr>\n",
       "      <th>C2</th>\n",
       "      <td>C.I</td>\n",
       "      <td>K.2</td>\n",
       "      <td>C2.V</td>\n",
       "    </tr>\n",
       "  </tbody>\n",
       "</table>\n",
       "</div>"
      ],
      "text/plain": [
       "      I    K     V\n",
       "A1  A.I  K.1  A1.V\n",
       "A2  A.I  K.2  A2.V\n",
       "B1  B.I  K.1  B1.V\n",
       "B2  B.I  K.2  B2.V\n",
       "C1  C.I  K.1  C1.V\n",
       "C2  C.I  K.2  C2.V"
      ]
     },
     "execution_count": 4,
     "metadata": {},
     "output_type": "execute_result"
    }
   ],
   "source": [
    "pivot_ex1"
   ]
  },
  {
   "cell_type": "code",
   "execution_count": 5,
   "metadata": {},
   "outputs": [],
   "source": [
    "# Pivot with index of I and pivot column of K (with explicit value column of V)\n"
   ]
  },
  {
   "cell_type": "code",
   "execution_count": 6,
   "metadata": {},
   "outputs": [],
   "source": [
    "row_labels = ['A1', 'A2', 'B1', 'B2', 'C1', 'C2']\n",
    "column_labels = ['I', 'K', 'V1', 'V2']\n",
    "dataset = [[ 'A.I', 'K.1', 'A1.V1', 'A1.V2'],\n",
    "           [ 'A.I', 'K.2', 'A2.V1', 'A2.V2'],\n",
    "           [ 'B.I', 'K.1', 'B1.V1', 'B1.V2'],\n",
    "           [ 'B.I', 'K.2', 'B2.V1', 'B2.V2'],\n",
    "           [ 'C.I', 'K.1', 'C1.V1', 'C1.V2'],\n",
    "           [ 'C.I', 'K.2', 'C2.V1', 'C2.V2']\n",
    "]\n",
    "pivot_ex2 = pd.DataFrame(dataset, columns=column_labels, index=row_labels)"
   ]
  },
  {
   "cell_type": "code",
   "execution_count": 7,
   "metadata": {},
   "outputs": [],
   "source": [
    "# Pivot with index of I, pivot column of K, and *two* value columns of V1 and V2\n",
    "\n"
   ]
  },
  {
   "cell_type": "code",
   "execution_count": 9,
   "metadata": {},
   "outputs": [
    {
     "data": {
      "text/html": [
       "<div>\n",
       "<style scoped>\n",
       "    .dataframe tbody tr th:only-of-type {\n",
       "        vertical-align: middle;\n",
       "    }\n",
       "\n",
       "    .dataframe tbody tr th {\n",
       "        vertical-align: top;\n",
       "    }\n",
       "\n",
       "    .dataframe thead th {\n",
       "        text-align: right;\n",
       "    }\n",
       "</style>\n",
       "<table border=\"1\" class=\"dataframe\">\n",
       "  <thead>\n",
       "    <tr style=\"text-align: right;\">\n",
       "      <th></th>\n",
       "      <th>sex</th>\n",
       "      <th>year</th>\n",
       "      <th>name</th>\n",
       "    </tr>\n",
       "  </thead>\n",
       "  <tbody>\n",
       "    <tr>\n",
       "      <th>0</th>\n",
       "      <td>Female</td>\n",
       "      <td>2015</td>\n",
       "      <td>Emma</td>\n",
       "    </tr>\n",
       "    <tr>\n",
       "      <th>1</th>\n",
       "      <td>Male</td>\n",
       "      <td>2015</td>\n",
       "      <td>Noah</td>\n",
       "    </tr>\n",
       "    <tr>\n",
       "      <th>2</th>\n",
       "      <td>Female</td>\n",
       "      <td>2016</td>\n",
       "      <td>Emma</td>\n",
       "    </tr>\n",
       "    <tr>\n",
       "      <th>3</th>\n",
       "      <td>Male</td>\n",
       "      <td>2016</td>\n",
       "      <td>Noah</td>\n",
       "    </tr>\n",
       "    <tr>\n",
       "      <th>4</th>\n",
       "      <td>Female</td>\n",
       "      <td>2017</td>\n",
       "      <td>Emma</td>\n",
       "    </tr>\n",
       "    <tr>\n",
       "      <th>5</th>\n",
       "      <td>Male</td>\n",
       "      <td>2017</td>\n",
       "      <td>Liam</td>\n",
       "    </tr>\n",
       "  </tbody>\n",
       "</table>\n",
       "</div>"
      ],
      "text/plain": [
       "      sex  year  name\n",
       "0  Female  2015  Emma\n",
       "1    Male  2015  Noah\n",
       "2  Female  2016  Emma\n",
       "3    Male  2016  Noah\n",
       "4  Female  2017  Emma\n",
       "5    Male  2017  Liam"
      ]
     },
     "execution_count": 9,
     "metadata": {},
     "output_type": "execute_result"
    }
   ],
   "source": [
    "melted_names = pd.read_csv(os.path.join(datadir, \"melted_names.csv\"))\n",
    "melted_names"
   ]
  },
  {
   "cell_type": "code",
   "execution_count": 10,
   "metadata": {},
   "outputs": [],
   "source": [
    "# Pivot with index of sex, pivot column of year, and value of name\n"
   ]
  },
  {
   "cell_type": "code",
   "execution_count": 11,
   "metadata": {},
   "outputs": [],
   "source": [
    "# Pivot with index of year, pivot column of sex, and value of name\n"
   ]
  },
  {
   "cell_type": "code",
   "execution_count": 12,
   "metadata": {},
   "outputs": [
    {
     "data": {
      "text/html": [
       "<div>\n",
       "<style scoped>\n",
       "    .dataframe tbody tr th:only-of-type {\n",
       "        vertical-align: middle;\n",
       "    }\n",
       "\n",
       "    .dataframe tbody tr th {\n",
       "        vertical-align: top;\n",
       "    }\n",
       "\n",
       "    .dataframe thead th {\n",
       "        text-align: right;\n",
       "    }\n",
       "</style>\n",
       "<table border=\"1\" class=\"dataframe\">\n",
       "  <thead>\n",
       "    <tr style=\"text-align: right;\">\n",
       "      <th></th>\n",
       "      <th>code</th>\n",
       "      <th>year</th>\n",
       "      <th>pop</th>\n",
       "      <th>gdp</th>\n",
       "    </tr>\n",
       "  </thead>\n",
       "  <tbody>\n",
       "    <tr>\n",
       "      <th>0</th>\n",
       "      <td>CHN</td>\n",
       "      <td>2005</td>\n",
       "      <td>1303.72</td>\n",
       "      <td>2285.97</td>\n",
       "    </tr>\n",
       "    <tr>\n",
       "      <th>1</th>\n",
       "      <td>CHN</td>\n",
       "      <td>2010</td>\n",
       "      <td>1337.70</td>\n",
       "      <td>6087.16</td>\n",
       "    </tr>\n",
       "    <tr>\n",
       "      <th>2</th>\n",
       "      <td>CHN</td>\n",
       "      <td>2015</td>\n",
       "      <td>1371.22</td>\n",
       "      <td>11015.54</td>\n",
       "    </tr>\n",
       "    <tr>\n",
       "      <th>3</th>\n",
       "      <td>GBR</td>\n",
       "      <td>2005</td>\n",
       "      <td>60.40</td>\n",
       "      <td>2525.01</td>\n",
       "    </tr>\n",
       "    <tr>\n",
       "      <th>4</th>\n",
       "      <td>GBR</td>\n",
       "      <td>2010</td>\n",
       "      <td>62.77</td>\n",
       "      <td>2452.90</td>\n",
       "    </tr>\n",
       "  </tbody>\n",
       "</table>\n",
       "</div>"
      ],
      "text/plain": [
       "  code  year      pop       gdp\n",
       "0  CHN  2005  1303.72   2285.97\n",
       "1  CHN  2010  1337.70   6087.16\n",
       "2  CHN  2015  1371.22  11015.54\n",
       "3  GBR  2005    60.40   2525.01\n",
       "4  GBR  2010    62.77   2452.90"
      ]
     },
     "execution_count": 12,
     "metadata": {},
     "output_type": "execute_result"
    }
   ],
   "source": [
    "indicators = pd.read_csv(os.path.join(datadir, \"indicators_ex.csv\"))\n",
    "indicators.head()"
   ]
  },
  {
   "cell_type": "code",
   "execution_count": 13,
   "metadata": {},
   "outputs": [],
   "source": [
    "# Pivot with index of code, and pivot column of year\n"
   ]
  },
  {
   "cell_type": "code",
   "execution_count": 14,
   "metadata": {},
   "outputs": [],
   "source": [
    "# Pivot with index of year, and pivot column of code\n"
   ]
  },
  {
   "cell_type": "code",
   "execution_count": 15,
   "metadata": {},
   "outputs": [],
   "source": [
    "datarows = [\n",
    "['CHN',  2010,  1337.70,   6087.16],\n",
    "['CHN',  2015,  1371.22,  11015.54],\n",
    "['CHN',  2018,  1392.73,  13608.15],\n",
    "['GBR',  2010,    62.77,   2452.90],\n",
    "['GBR',  2015,    65.13,   2896.42],\n",
    "['IND',  2010,  1234.28,   1675.62],\n",
    "['IND',  2015,  1310.15,   2103.59]]\n",
    "indicators = pd.DataFrame(datarows, columns=['code','year','pop','gdp'])"
   ]
  },
  {
   "cell_type": "code",
   "execution_count": null,
   "metadata": {},
   "outputs": [],
   "source": [
    "# Pivot with index of code and pivot column of year\n"
   ]
  },
  {
   "cell_type": "code",
   "execution_count": 16,
   "metadata": {},
   "outputs": [],
   "source": [
    "column_labels = ['I', 'P', 'V1', 'V2']\n",
    "dataset = [['A', 'w', 15, 23.5],\n",
    "           ['A', 'x', 10, 42.5],\n",
    "           ['A', 'x', 5, 18.0],\n",
    "           ['B', 'w', 8, 10.2],\n",
    "           ['B', 'w', 4, 14.3],\n",
    "           ['B', 'x', 6, 12.5]]\n",
    "table = pd.DataFrame(dataset, columns=column_labels)"
   ]
  },
  {
   "cell_type": "code",
   "execution_count": 17,
   "metadata": {},
   "outputs": [],
   "source": [
    "# Attempt at pivot with index of I and pivot column of P\n"
   ]
  },
  {
   "cell_type": "code",
   "execution_count": 18,
   "metadata": {},
   "outputs": [],
   "source": [
    "# pivot table with index of I and pivot column of P\n"
   ]
  },
  {
   "cell_type": "code",
   "execution_count": null,
   "metadata": {},
   "outputs": [],
   "source": [
    "pivoted = table.pivot_table(index='I', columns='P', \n",
    "                        aggfunc={'V1': 'mean', 'V2': 'sum'})"
   ]
  }
 ],
 "metadata": {
  "kernelspec": {
   "display_name": "Python 3",
   "language": "python",
   "name": "python3"
  },
  "language_info": {
   "codemirror_mode": {
    "name": "ipython",
    "version": 3
   },
   "file_extension": ".py",
   "mimetype": "text/x-python",
   "name": "python",
   "nbconvert_exporter": "python",
   "pygments_lexer": "ipython3",
   "version": "3.7.6"
  }
 },
 "nbformat": 4,
 "nbformat_minor": 4
}
