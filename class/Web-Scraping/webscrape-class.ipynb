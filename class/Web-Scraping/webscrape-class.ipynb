{
 "cells": [
  {
   "cell_type": "markdown",
   "metadata": {},
   "source": [
    "# Web Scraping In Class"
   ]
  },
  {
   "cell_type": "code",
   "execution_count": 3,
   "metadata": {
    "nbgrader": {
     "grade": false,
     "grade_id": "cell-b9abcf27cf7faf8f",
     "locked": true,
     "schema_version": 3,
     "solution": false,
     "task": false
    }
   },
   "outputs": [
    {
     "data": {
      "text/plain": [
       "<module 'util' from '/Users/tcbressoud/Dropbox/cs181-DataSystems/cs181-bressoud/f20_class/modules/util.py'>"
      ]
     },
     "execution_count": 3,
     "metadata": {},
     "output_type": "execute_result"
    }
   ],
   "source": [
    "import os\n",
    "import io\n",
    "import sys\n",
    "import importlib\n",
    "import pandas as pd\n",
    "from lxml import etree\n",
    "import requests\n",
    "\n",
    "if os.path.isdir(os.path.join(\"../../..\", \"modules\")):\n",
    "    module_dir = os.path.join(\"../../..\", \"modules\")\n",
    "else:\n",
    "    module_dir = os.path.join(\"../..\", \"modules\")\n",
    "\n",
    "module_path = os.path.abspath(module_dir)\n",
    "if not module_path in sys.path:\n",
    "    sys.path.append(module_path)\n",
    "\n",
    "import util\n",
    "importlib.reload(util)"
   ]
  },
  {
   "cell_type": "markdown",
   "metadata": {},
   "source": [
    "## HTML Structure"
   ]
  },
  {
   "cell_type": "code",
   "execution_count": 2,
   "metadata": {},
   "outputs": [
    {
     "name": "stdout",
     "output_type": "stream",
     "text": [
      "<!DOCTYPE html>\n",
      "<html lang=\"en\">\n",
      "  <head>\n",
      "    <title>Data Systems Basic HTML Page</title>\n",
      "  </head>\n",
      "  <body>\n",
      "    <h1>First Level Heading</h1>\n",
      "\n",
      "    <p>Paragraph defined in <b>body</b>.\n",
      "\n",
      "    <h2>Second Level Heading</h2>\n",
      "\n",
      "    <a href=\"http://docs.python.org\">Link</a> to Python documentation.\n",
      "    </p>\n",
      "\n",
      "    <ul>\n",
      "      <li>Item 1\n",
      "      <ol>\n",
      "        <li>Item 1 nested</li>\n",
      "        <li>Item 2 nested</li>\n",
      "      </ol>\n",
      "      </li>\n",
      "      <li>Item 2</li>\n",
      "      <li>Item 3</li>\n",
      "    </ul>\n",
      "  </body>\n",
      "</html>\n",
      "\n"
     ]
    }
   ],
   "source": [
    "location = \"datasystems.denison.edu\"\n",
    "resource = \"/basic.html\"\n",
    "\n",
    "url = util.buildURL(resource, location)\n",
    "r = requests.get(url)\n",
    "assert r.status_code == 200\n",
    "\n",
    "print(r.text)"
   ]
  },
  {
   "cell_type": "code",
   "execution_count": 18,
   "metadata": {
    "collapsed": true,
    "jupyter": {
     "outputs_hidden": true
    }
   },
   "outputs": [
    {
     "ename": "XMLSyntaxError",
     "evalue": "Opening and ending tag mismatch: h1 line 1 and h3, line 1, column 52 (<string>, line 1)",
     "output_type": "error",
     "traceback": [
      "Traceback \u001b[0;36m(most recent call last)\u001b[0m:\n",
      "  File \u001b[1;32m\"/Users/tcbressoud/opt/anaconda3/lib/python3.7/site-packages/IPython/core/interactiveshell.py\"\u001b[0m, line \u001b[1;32m3343\u001b[0m, in \u001b[1;35mrun_code\u001b[0m\n    exec(code_obj, self.user_global_ns, self.user_ns)\n",
      "  File \u001b[1;32m\"<ipython-input-18-952062f08bb2>\"\u001b[0m, line \u001b[1;32m3\u001b[0m, in \u001b[1;35m<module>\u001b[0m\n    tree = etree.parse(io.StringIO(bad_html), parser=xmlparser)\n",
      "  File \u001b[1;32m\"src/lxml/etree.pyx\"\u001b[0m, line \u001b[1;32m3521\u001b[0m, in \u001b[1;35mlxml.etree.parse\u001b[0m\n",
      "  File \u001b[1;32m\"src/lxml/parser.pxi\"\u001b[0m, line \u001b[1;32m1876\u001b[0m, in \u001b[1;35mlxml.etree._parseDocument\u001b[0m\n",
      "  File \u001b[1;32m\"src/lxml/parser.pxi\"\u001b[0m, line \u001b[1;32m1896\u001b[0m, in \u001b[1;35mlxml.etree._parseMemoryDocument\u001b[0m\n",
      "  File \u001b[1;32m\"src/lxml/parser.pxi\"\u001b[0m, line \u001b[1;32m1777\u001b[0m, in \u001b[1;35mlxml.etree._parseDoc\u001b[0m\n",
      "  File \u001b[1;32m\"src/lxml/parser.pxi\"\u001b[0m, line \u001b[1;32m1082\u001b[0m, in \u001b[1;35mlxml.etree._BaseParser._parseUnicodeDoc\u001b[0m\n",
      "  File \u001b[1;32m\"src/lxml/parser.pxi\"\u001b[0m, line \u001b[1;32m615\u001b[0m, in \u001b[1;35mlxml.etree._ParserContext._handleParseResultDoc\u001b[0m\n",
      "  File \u001b[1;32m\"src/lxml/parser.pxi\"\u001b[0m, line \u001b[1;32m725\u001b[0m, in \u001b[1;35mlxml.etree._handleParseResult\u001b[0m\n",
      "\u001b[0;36m  File \u001b[0;32m\"src/lxml/parser.pxi\"\u001b[0;36m, line \u001b[0;32m654\u001b[0;36m, in \u001b[0;35mlxml.etree._raiseParseError\u001b[0;36m\u001b[0m\n",
      "\u001b[0;36m  File \u001b[0;32m\"<string>\"\u001b[0;36m, line \u001b[0;32m1\u001b[0m\n\u001b[0;31mXMLSyntaxError\u001b[0m\u001b[0;31m:\u001b[0m Opening and ending tag mismatch: h1 line 1 and h3, line 1, column 52\n"
     ]
    }
   ],
   "source": [
    "bad_html = \"<html><head><title>test<body><h1>header title</h3>\"\n",
    "xmlparser  = etree.XMLParser()\n",
    "#tree = etree.parse(io.StringIO(bad_html), parser=xmlparser)"
   ]
  },
  {
   "cell_type": "code",
   "execution_count": 21,
   "metadata": {},
   "outputs": [],
   "source": [
    "html2 = \"<html><head><title>test</title></head><body><h1>header title</h1></body></html>\""
   ]
  },
  {
   "cell_type": "code",
   "execution_count": 22,
   "metadata": {},
   "outputs": [],
   "source": [
    "tree = etree.parse(io.StringIO(html2), parser=xmlparser)"
   ]
  },
  {
   "cell_type": "code",
   "execution_count": 20,
   "metadata": {},
   "outputs": [],
   "source": [
    "htmlparser =  etree.HTMLParser()\n",
    "tree = etree.parse(io.StringIO(bad_html), parser=htmlparser)"
   ]
  },
  {
   "cell_type": "markdown",
   "metadata": {},
   "source": [
    "## Static Web Page Example: Table\n",
    "\n",
    "http://datasystems.denison.edu/ind2016.html"
   ]
  },
  {
   "cell_type": "code",
   "execution_count": 6,
   "metadata": {},
   "outputs": [
    {
     "data": {
      "text/plain": [
       "'/Users/tcbressoud/Dropbox/cs181-DataSystems/cs181-bressoud/f20_class/source/Web-Scraping'"
      ]
     },
     "execution_count": 6,
     "metadata": {},
     "output_type": "execute_result"
    }
   ],
   "source": [
    "os.getcwd()"
   ]
  },
  {
   "cell_type": "code",
   "execution_count": 4,
   "metadata": {},
   "outputs": [],
   "source": [
    "!curl -s -o ind2016.html http://datasystems.denison.edu/ind2016.html"
   ]
  },
  {
   "cell_type": "code",
   "execution_count": 7,
   "metadata": {},
   "outputs": [
    {
     "name": "stdout",
     "output_type": "stream",
     "text": [
      "<!DOCTYPE html>\n",
      "<html xmlns=\"http://www.w3.org/1999/xhtml\" xml:lang=\"en\" lang=\"en\">\n",
      "\t<head>\n",
      "\t\t<meta charset=\"utf-8\" />\n",
      "\t\t<meta http-equiv=\"X-UA-Compatible\" content=\"IE=edge\" />\n"
     ]
    }
   ],
   "source": [
    "location = \"datasystems.denison.edu\"\n",
    "resource = \"/ind2016.html\"\n",
    "\n",
    "url = util.buildURL(resource, location)\n",
    "r = requests.get(url)\n",
    "assert r.status_code == 200\n",
    "\n",
    "util.print_text(r.text, nlines=5)"
   ]
  },
  {
   "cell_type": "code",
   "execution_count": 8,
   "metadata": {},
   "outputs": [],
   "source": [
    "htmlparser = etree.HTMLParser()\n",
    "indroot = etree.fromstring(r.content, parser=htmlparser)"
   ]
  },
  {
   "cell_type": "code",
   "execution_count": 11,
   "metadata": {},
   "outputs": [],
   "source": [
    "indtree = etree.parse(io.BytesIO(r.content), parser=htmlparser)"
   ]
  },
  {
   "cell_type": "code",
   "execution_count": 9,
   "metadata": {},
   "outputs": [
    {
     "data": {
      "text/plain": [
       "<Element html at 0x118ed2e60>"
      ]
     },
     "execution_count": 9,
     "metadata": {},
     "output_type": "execute_result"
    }
   ],
   "source": [
    "indroot"
   ]
  },
  {
   "cell_type": "code",
   "execution_count": 13,
   "metadata": {},
   "outputs": [
    {
     "name": "stdout",
     "output_type": "stream",
     "text": [
      "<html xmlns=\"http://www.w3.org/1999/xhtml\" xml:lang=\"en\" la\n",
      "  <head>\n",
      "    <meta charset=\"utf-8\"/>\n",
      "    <meta http-equiv=\"X-UA-Compatible\" content=\"IE=edge\"/>\n",
      "    <title>ind2016 | Introduction to Data Systems</title>\n",
      "    <meta name=\"robots\" content=\"all\"/>\n",
      "    <meta name=\"generator\" content=\"Sandvox 2.10.12\"/>\n",
      "    <meta name=\"viewport\" content=\"width=772\"/>\n",
      "    <link rel=\"shortcut icon\" type=\"image/x-icon\" href=\"fav\n",
      "    <link rel=\"canonical\" href=\"http://datasystems.denison.\n",
      "    <script>\n",
      "\t\tWebFontConfig={google:{families:[\"Lobster\",]},timeout:3e3\n",
      "\t\t</script>\n",
      "    <link rel=\"stylesheet\" type=\"text/css\" href=\"sandvox_Ap\n",
      "    <!--\n",
      "\t\tPhoto credits for this website's design: <http://datasyst\n",
      "\t\tLicensing for this website's design:     <http://datasyst\n",
      "\t\t-->\n",
      "  </head>\n",
      "  <body class=\"sandvox has-page-title allow-sidebar no-cust\n"
     ]
    }
   ],
   "source": [
    "util.print_xml(indroot, nlines=20)"
   ]
  },
  {
   "cell_type": "code",
   "execution_count": 14,
   "metadata": {},
   "outputs": [],
   "source": [
    "tables = indroot.xpath(\"//table\")"
   ]
  },
  {
   "cell_type": "code",
   "execution_count": 15,
   "metadata": {},
   "outputs": [
    {
     "data": {
      "text/plain": [
       "1"
      ]
     },
     "execution_count": 15,
     "metadata": {},
     "output_type": "execute_result"
    }
   ],
   "source": [
    "len(tables)"
   ]
  },
  {
   "cell_type": "code",
   "execution_count": 16,
   "metadata": {},
   "outputs": [
    {
     "name": "stdout",
     "output_type": "stream",
     "text": [
      "<table class=\"table table-bordered table-hover table-conden\n",
      "  <thead>\n",
      "    <tr>\n",
      "      <th title=\"Field #1\">code</th>\n",
      "      <th title=\"Field #2\">country</th>\n",
      "      <th title=\"Field #3\">pop</th>\n",
      "      <th title=\"Field #4\">gdp</th>\n",
      "      <th title=\"Field #5\">life</th>\n",
      "      <th title=\"Field #6\">cell</th>\n",
      "    </tr>\n",
      "  </thead>\n",
      "  <tbody>\n",
      "    <tr>\n",
      "      <td>CAN</td>\n",
      "      <td>Canada</td>\n",
      "      <td align=\"right\">36.26</td>\n",
      "      <td align=\"right\">1535.77</td>\n",
      "      <td align=\"right\">82.3</td>\n",
      "      <td align=\"right\">30.75</td>\n",
      "    </tr>\n",
      "    <tr>\n",
      "      <td>CHN</td>\n",
      "      <td>China</td>\n",
      "      <td align=\"right\">1378.66</td>\n",
      "      <td align=\"right\">11199.15</td>\n",
      "      <td align=\"right\">76.25</td>\n",
      "      <td align=\"right\">1364.93</td>\n",
      "    </tr>\n",
      "    <tr>\n",
      "      <td>IND</td>\n",
      "      <td>India</td>\n",
      "      <td align=\"right\">1324.17</td>\n",
      "      <td align=\"right\">2263.79</td>\n",
      "      <td align=\"right\">68.56</td>\n",
      "      <td align=\"right\">1127.81</td>\n",
      "    </tr>\n",
      "    <tr>\n",
      "      <td>RUS</td>\n",
      "      <td>Russia</td>\n",
      "      <td align=\"right\">144.34</td>\n",
      "      <td align=\"right\">1283.16</td>\n",
      "      <td align=\"right\">71.59</td>\n",
      "      <td align=\"right\">229.13</td>\n",
      "    </tr>\n",
      "    <tr>\n",
      "      <td>USA</td>\n",
      "      <td>United States</td>\n",
      "      <td align=\"right\">323.13</td>\n",
      "      <td align=\"right\">18624.47</td>\n",
      "      <td align=\"right\">78.69</td>\n",
      "      <td align=\"right\">395.88</td>\n",
      "    </tr>\n",
      "    <tr>\n",
      "      <td>VNM</td>\n",
      "      <td>Vietnam</td>\n",
      "      <td align=\"right\">94.57</td>\n",
      "      <td align=\"right\">205.28</td>\n",
      "      <td align=\"right\">76.25</td>\n",
      "      <td align=\"right\">120.6</td>\n",
      "    </tr>\n",
      "  </tbody>\n",
      "</table>\n"
     ]
    }
   ],
   "source": [
    "util.print_xml(tables[0])"
   ]
  },
  {
   "cell_type": "markdown",
   "metadata": {},
   "source": [
    "### Get List of Column Names"
   ]
  },
  {
   "cell_type": "code",
   "execution_count": null,
   "metadata": {},
   "outputs": [],
   "source": []
  },
  {
   "cell_type": "markdown",
   "metadata": {},
   "source": [
    "### Obtaining Data: All Table Data"
   ]
  },
  {
   "cell_type": "code",
   "execution_count": null,
   "metadata": {},
   "outputs": [],
   "source": []
  },
  {
   "cell_type": "markdown",
   "metadata": {},
   "source": [
    "### Obtaining Data: Column at a Time"
   ]
  },
  {
   "cell_type": "code",
   "execution_count": null,
   "metadata": {},
   "outputs": [],
   "source": []
  },
  {
   "cell_type": "markdown",
   "metadata": {},
   "source": [
    "## Static Web Page Example: Lists\n",
    "\n",
    "http://datasystems.denison.edu/ind0.html"
   ]
  },
  {
   "cell_type": "code",
   "execution_count": 6,
   "metadata": {},
   "outputs": [
    {
     "data": {
      "text/plain": [
       "'/Users/tcbressoud/Dropbox/cs181-DataSystems/cs181-bressoud/f20_class/source/Web-Scraping'"
      ]
     },
     "execution_count": 6,
     "metadata": {},
     "output_type": "execute_result"
    }
   ],
   "source": [
    "os.getcwd()"
   ]
  },
  {
   "cell_type": "code",
   "execution_count": 23,
   "metadata": {},
   "outputs": [],
   "source": [
    "!curl -s -o ind0.html http://datasystems.denison.edu/ind0.html"
   ]
  },
  {
   "cell_type": "code",
   "execution_count": 24,
   "metadata": {},
   "outputs": [
    {
     "name": "stdout",
     "output_type": "stream",
     "text": [
      "<!DOCTYPE html>\n",
      "<html xmlns=\"http://www.w3.org/1999/xhtml\" xml:lang=\"en\" lang=\"en\">\n",
      "\t<head>\n",
      "\t\t<meta charset=\"utf-8\" />\n",
      "\t\t<meta http-equiv=\"X-UA-Compatible\" content=\"IE=edge\" />\n"
     ]
    }
   ],
   "source": [
    "location = \"datasystems.denison.edu\"\n",
    "resource = \"/ind0.html\"\n",
    "\n",
    "url = util.buildURL(resource, location)\n",
    "r2 = requests.get(url)\n",
    "assert r2.status_code == 200\n",
    "\n",
    "util.print_text(r2.text, nlines=5)"
   ]
  },
  {
   "cell_type": "code",
   "execution_count": 36,
   "metadata": {},
   "outputs": [],
   "source": []
  }
 ],
 "metadata": {
  "kernelspec": {
   "display_name": "Python 3",
   "language": "python",
   "name": "python3"
  },
  "language_info": {
   "codemirror_mode": {
    "name": "ipython",
    "version": 3
   },
   "file_extension": ".py",
   "mimetype": "text/x-python",
   "name": "python",
   "nbconvert_exporter": "python",
   "pygments_lexer": "ipython3",
   "version": "3.7.6"
  }
 },
 "nbformat": 4,
 "nbformat_minor": 4
}
