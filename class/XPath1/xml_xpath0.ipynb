{
 "cells": [
  {
   "cell_type": "code",
   "execution_count": 2,
   "metadata": {},
   "outputs": [],
   "source": [
    "from lxml import etree\n",
    "import os.path"
   ]
  },
  {
   "cell_type": "code",
   "execution_count": 3,
   "metadata": {},
   "outputs": [],
   "source": [
    "myparser = etree.XMLParser(remove_blank_text=True)\n",
    "path1 = os.path.join(\"publicdata\", \"ind0.xml\")\n",
    "ind_tree = etree.parse(path1, parser=myparser)\n",
    "ind_root = ind_tree.getroot()"
   ]
  },
  {
   "cell_type": "code",
   "execution_count": 4,
   "metadata": {},
   "outputs": [],
   "source": [
    "def nodeInfo(node):\n",
    "    print(\"Tag:\", node.tag)\n",
    "    print(\"Text:\", repr(node.text))\n",
    "    print(\"XML Attributes:\", node.attrib)"
   ]
  },
  {
   "cell_type": "code",
   "execution_count": 5,
   "metadata": {},
   "outputs": [
    {
     "name": "stdout",
     "output_type": "stream",
     "text": [
      "Tag: indicators\n",
      "Text: None\n",
      "XML Attributes: {}\n"
     ]
    }
   ],
   "source": [
    "nodeInfo(ind_root)"
   ]
  },
  {
   "cell_type": "code",
   "execution_count": 18,
   "metadata": {},
   "outputs": [
    {
     "name": "stdout",
     "output_type": "stream",
     "text": [
      "Tag: country\n",
      "Text: None\n",
      "XML Attributes: {'code': 'FRA', 'name': 'France'}\n",
      "Tag: country\n",
      "Text: None\n",
      "XML Attributes: {'code': 'GBR', 'name': 'United Kingdom'}\n",
      "Tag: country\n",
      "Text: None\n",
      "XML Attributes: {'code': 'USA', 'name': 'United States'}\n"
     ]
    }
   ],
   "source": [
    "for country in ind_root.getchildren():\n",
    "    nodeInfo(country)"
   ]
  },
  {
   "cell_type": "code",
   "execution_count": 8,
   "metadata": {},
   "outputs": [
    {
     "name": "stdout",
     "output_type": "stream",
     "text": [
      "Tag: country\n",
      "Text: None\n",
      "XML Attributes: {'code': 'GBR', 'name': 'United Kingdom'}\n"
     ]
    }
   ],
   "source": [
    "nodeInfo(ind_root[1])"
   ]
  },
  {
   "cell_type": "markdown",
   "metadata": {},
   "source": [
    "**Path investigation**\n",
    "\n",
    "1. Path for root\n",
    "2. Path with multiple tag-steps to get single Element result\n",
    "3. Path with multiple tag-steps to get multiple Element results\n",
    "4. Path with no tag match\n",
    "5. Path with text match\n",
    "6. Path with attribute match (but not predicate)\n",
    "7. Path with single level wildcard\n",
    "8. Path with multi-level wildcard"
   ]
  },
  {
   "cell_type": "code",
   "execution_count": 15,
   "metadata": {},
   "outputs": [
    {
     "data": {
      "text/plain": [
       "[<Element indicators at 0x10d7d93c0>]"
      ]
     },
     "execution_count": 15,
     "metadata": {},
     "output_type": "execute_result"
    }
   ],
   "source": [
    "ind_root.xpath(\"/indicators\")"
   ]
  },
  {
   "cell_type": "code",
   "execution_count": 17,
   "metadata": {},
   "outputs": [
    {
     "data": {
      "text/plain": [
       "[<Element timedata at 0x10d86f500>, <Element timedata at 0x10d86f550>]"
      ]
     },
     "execution_count": 17,
     "metadata": {},
     "output_type": "execute_result"
    }
   ],
   "source": [
    "ind_root[1].xpath(\"timedata\")"
   ]
  },
  {
   "cell_type": "code",
   "execution_count": null,
   "metadata": {},
   "outputs": [],
   "source": []
  }
 ],
 "metadata": {
  "kernelspec": {
   "display_name": "Python 3",
   "language": "python",
   "name": "python3"
  },
  "language_info": {
   "codemirror_mode": {
    "name": "ipython",
    "version": 3
   },
   "file_extension": ".py",
   "mimetype": "text/x-python",
   "name": "python",
   "nbconvert_exporter": "python",
   "pygments_lexer": "ipython3",
   "version": "3.7.6"
  }
 },
 "nbformat": 4,
 "nbformat_minor": 4
}
