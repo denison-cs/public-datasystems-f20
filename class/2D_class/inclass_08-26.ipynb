{
 "cells": [
  {
   "cell_type": "code",
   "execution_count": 2,
   "metadata": {},
   "outputs": [],
   "source": [
    "topnames = [\n",
    "    {'year':2018, 'sex':'Male', 'name':'Liam', 'count':19837}, \n",
    "    {'year':2018, 'sex':'Female', 'name':'Emma', 'count':18688}, \n",
    "    {'year':2017, 'sex':'Male', 'name':'Liam', 'count':18798}\n",
    "]"
   ]
  },
  {
   "cell_type": "code",
   "execution_count": null,
   "metadata": {},
   "outputs": [],
   "source": []
  }
 ],
 "metadata": {
  "kernelspec": {
   "display_name": "Python 3",
   "language": "python",
   "name": "python3"
  },
  "language_info": {
   "codemirror_mode": {
    "name": "ipython",
    "version": 3
   },
   "file_extension": ".py",
   "mimetype": "text/x-python",
   "name": "python",
   "nbconvert_exporter": "python",
   "pygments_lexer": "ipython3",
   "version": "3.7.6"
  }
 },
 "nbformat": 4,
 "nbformat_minor": 4
}
