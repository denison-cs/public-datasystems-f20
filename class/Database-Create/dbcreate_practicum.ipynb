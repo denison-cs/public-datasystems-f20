{
 "cells": [
  {
   "cell_type": "markdown",
   "metadata": {},
   "source": [
    "# Database Creation/Population Practicum"
   ]
  },
  {
   "cell_type": "code",
   "execution_count": 1,
   "metadata": {
    "nbgrader": {
     "grade": false,
     "grade_id": "cell-b9abcf27cf7faf8f",
     "locked": true,
     "schema_version": 3,
     "solution": false,
     "task": false
    }
   },
   "outputs": [],
   "source": [
    "import pandas as pd\n",
    "import os\n",
    "import os.path\n",
    "import json\n",
    "import sys\n",
    "import importlib\n",
    "import sqlalchemy as sa\n",
    "\n",
    "if os.path.isdir(os.path.join(\"../../..\", \"modules\")):\n",
    "    module_dir = os.path.join(\"../../..\", \"modules\")\n",
    "else:\n",
    "    module_dir = os.path.join(\"../..\", \"modules\")\n",
    "\n",
    "module_path = os.path.abspath(module_dir)\n",
    "if not module_path in sys.path:\n",
    "    sys.path.append(module_path)\n",
    "\n",
    "import dbutil\n",
    "importlib.reload(dbutil)\n",
    "\n",
    "def sqlite_cstring(database, dbdir=\".\", driver=\"pysqlite\", protocol=\"sqlite\"):\n",
    "    if driver is None:\n",
    "        cstring = f\"{protocol}:///{os.path.join(dbdir, database+'.db')}\"\n",
    "    else:\n",
    "        cstring = f\"{protocol}+{driver}:///{os.path.join(dbdir, database+'.db')}\"\n",
    "    return cstring\n",
    "\n",
    "def db_connect(cstring):\n",
    "    engine = sa.create_engine(cstring)\n",
    "    connection = engine.connect()\n",
    "    return engine, connection\n",
    "\n",
    "def db_removedatabase(cstring):\n",
    "    if cstring == \"no cstring\":\n",
    "        return\n",
    "    if cstring[:6] != \"sqlite\":\n",
    "        print(\"Connection string is expected to be for sqlite.  Yours:\", cstring)\n",
    "        return\n",
    "    \n",
    "    i = cstring.find(\":///\")\n",
    "    if i == -1:\n",
    "        print(\"Connection string may be malformed.  No ':///' found in\", cstring)\n",
    "        return\n",
    "    \n",
    "    dbpath = cstring[i+4:]\n",
    "    if not os.path.exists(dbpath):\n",
    "        print(f\"Database path specified in cstring ({dbpath}) does not exist\")\n",
    "        return\n",
    "    \n",
    "    if not os.path.isfile(dbpath):\n",
    "        print(f\"Database path specified in cstring ({dbpath}) does not resolve to a file\")\n",
    "        \n",
    "    print(f\"About to remove database file {dbpath}\")\n",
    "    answer = input(\"Continue? ([Y]/n)\")\n",
    "    if len(answer) < 1 or answer[0].lower() != 'y':\n",
    "        print(f\"Aborting removal of database {dbpath}\")\n",
    "        return\n",
    "    \n",
    "    os.remove(dbpath)\n",
    "    print()\n",
    "    \n",
    "dbfiledir = \"../../dbfiles\"\n",
    "if not os.path.isdir(dbfiledir):\n",
    "    dbfiledir =  \"../\" + dbfiledir\n",
    "assert os.path.isdir(dbfiledir)\n",
    "\n",
    "cstring = \"no cstring\"\n",
    "%load_ext sql"
   ]
  },
  {
   "cell_type": "code",
   "execution_count": 2,
   "metadata": {},
   "outputs": [],
   "source": [
    "# Note that this cell is an interactive cell, that requests a confimation\n",
    "# from the user prior to deleting the database file specified as a part\n",
    "# of cstring.\n",
    "\n",
    "# On  first run of this notebook, the special cstring set in  the first\n",
    "# cell will \n",
    "db_removedatabase(cstring)"
   ]
  },
  {
   "cell_type": "markdown",
   "metadata": {},
   "source": [
    "## 1. Preparing an \"empty\" SQLite Database\n",
    "\n",
    "Edit `database` below to be your own Denison login (not including the `@denison.edu`).  **If the value you pick is not unique, and your database \"collides\" with another student's database, my running of your notebook will fail.**\n",
    "\n",
    "After execution of this cell, there will be a database created in the `dbfiledir` directory.  You should be able to create a connection using TablePlus to this new empty database.  If this cell is executed and the database already exists, it will still simply establish an engine and connection to the database (named `e` and `c`, respectively)"
   ]
  },
  {
   "cell_type": "code",
   "execution_count": null,
   "metadata": {},
   "outputs": [],
   "source": [
    "database = \"nostudent\"\n",
    "cstring = sqlite_cstring(database, dbfiledir)"
   ]
  },
  {
   "cell_type": "code",
   "execution_count": null,
   "metadata": {},
   "outputs": [],
   "source": [
    "%sql $cstring\n",
    "# e, c = db_connect(cstring)  # Non-SQL-magic to establish the connection\n"
   ]
  },
  {
   "cell_type": "markdown",
   "metadata": {},
   "source": [
    "## 2. Table Creation Practice\n",
    "\n",
    "Refer to your book (section 14.5) and/or one of the following for the syntax of table creation:\n",
    "\n",
    "- https://www.tutorialspoint.com/sql/sql-create-table.htm\n",
    "- https://www.w3schools.com/sql/sql_create_table.asp\n",
    "\n",
    "and you can use the following as a reference of data types you can choose for the data type constraint on the acceptable values for a field\n",
    "\n",
    "- https://www.tutorialspoint.com/sql/sql-data-types.htm\n",
    "\n",
    "Then, fill in a string value for `sql_statement` below (just like we did with `query` in previous exercises), with the syntax for creating a table named `topnames` with fields of `year`, `sex`, `name`, and `count`.  The data type for  year and for count should be INT, and for sex and name should be VARCHAR where, in parenthesis, you specify the maximum length of the variable length character string.\n",
    "\n",
    "Start with a version that omits a primary key.\n",
    "\n",
    "What happens if you execute the cell twice?  On an error, be sure and look for the error message (typically at the bottom of a traceback) and determine **exactly** what the error is."
   ]
  },
  {
   "cell_type": "code",
   "execution_count": null,
   "metadata": {
    "nbgrader": {
     "grade": true,
     "grade_id": "cell-154b2150749e6b31",
     "locked": false,
     "points": 0,
     "schema_version": 3,
     "solution": true,
     "task": false
    }
   },
   "outputs": [],
   "source": [
    "sql_statment = \"\"\"\n",
    "\"\"\"\n",
    "\n",
    "# BEGIN SOLUTION\n",
    "sql_statement = \"\"\"\n",
    "CREATE TABLE topnames (\n",
    "  year INT,\n",
    "  sex  VARCHAR(6),\n",
    "  name VARCHAR(20),\n",
    "  count INT\n",
    ")\n",
    "\"\"\"\n",
    "# END SOLUTION\n",
    "%sql $sql_statement"
   ]
  },
  {
   "cell_type": "markdown",
   "metadata": {},
   "source": [
    "**Q** Use `TablePlus` to create a connection to your database.  When connected, and following a successful creation, you should see the table and the \"Data\" spreadsheet view will show no contents in the table.  At the bottom of the window, there are two buttons, by which you can toggle back and forth between the data spreadsheet view and a view that shows the `Structure` of the selected table. "
   ]
  },
  {
   "cell_type": "markdown",
   "metadata": {},
   "source": [
    "**Q** Find the SQL syntax for **dropping** a table that currently exists in a database.  Then fill in `sql_statement` with that SQL, adapted to drop the `topnames` table."
   ]
  },
  {
   "cell_type": "code",
   "execution_count": null,
   "metadata": {
    "nbgrader": {
     "grade": true,
     "grade_id": "cell-cb2f45a1296bc6bc",
     "locked": false,
     "points": 0,
     "schema_version": 3,
     "solution": true,
     "task": false
    }
   },
   "outputs": [],
   "source": [
    "sql_statment = \"\"\"\n",
    "\"\"\"\n",
    "\n",
    "# BEGIN SOLUTION\n",
    "sql_statement = \"\"\"\n",
    "DROP TABLE topnames\n",
    "\"\"\"\n",
    "# END SOLUTION\n",
    "%sql $sql_statement"
   ]
  },
  {
   "cell_type": "markdown",
   "metadata": {},
   "source": [
    "**Q** Next, copy your create-table SQL from earlier, and modify it to constrain it to have a composite primary key consisting of both `year` and `sex`.  Also, add constraints to these two fields to specify that they **cannot** be null.  You can do these two steps separately (with the requisite drop of the table in between."
   ]
  },
  {
   "cell_type": "code",
   "execution_count": null,
   "metadata": {
    "nbgrader": {
     "grade": true,
     "grade_id": "cell-77be1d7d329dd0a6",
     "locked": false,
     "points": 0,
     "schema_version": 3,
     "solution": true,
     "task": false
    }
   },
   "outputs": [],
   "source": [
    "sql_statment = \"\"\"\n",
    "\"\"\"\n",
    "\n",
    "# BEGIN SOLUTION\n",
    "sql_statement = \"\"\"\n",
    "CREATE TABLE topnames (\n",
    "  year INT NOT NULL,\n",
    "  sex  VARCHAR(6) NOT NULL,\n",
    "  name VARCHAR(20),\n",
    "  count INT,\n",
    "  PRIMARY KEY (year, sex)\n",
    ")\n",
    "\"\"\"\n",
    "# END SOLUTION\n",
    "%sql $sql_statement"
   ]
  },
  {
   "cell_type": "markdown",
   "metadata": {},
   "source": [
    "**Q** In the cell that follows, I have given you an appropriate drop SQL command.  Your job is to add a CONSTRAINT that checks whether or not the count value is >= 0 (to keep negative values from becomming part of your database)."
   ]
  },
  {
   "cell_type": "code",
   "execution_count": null,
   "metadata": {
    "nbgrader": {
     "grade": true,
     "grade_id": "cell-6667de5fa3b05366",
     "locked": false,
     "points": 0,
     "schema_version": 3,
     "solution": true,
     "task": false
    }
   },
   "outputs": [],
   "source": [
    "drop_table = \"DROP TABLE IF EXISTS topnames\"\n",
    "\n",
    "sql_statment = \"\"\"\n",
    "\"\"\"\n",
    "\n",
    "# BEGIN SOLUTION\n",
    "sql_statement = \"\"\"\n",
    "CREATE TABLE IF NOT EXISTS topnames (\n",
    "  year INT NOT NULL,\n",
    "  sex  VARCHAR(6) NOT NULL,\n",
    "  name VARCHAR(20),\n",
    "  count INT,\n",
    "  PRIMARY KEY (year, sex),\n",
    "  CONSTRAINT countvalid CHECK (count >= 0)\n",
    ")\n",
    "\"\"\"\n",
    "# END SOLUTION\n",
    "%sql $drop_table\n",
    "%sql $sql_statement"
   ]
  },
  {
   "cell_type": "markdown",
   "metadata": {},
   "source": [
    "**Q** With this database table, we are now going to practice some inserts.  The instructor will lead you through those steps.  To begin, look at the following link: https://www.w3schools.com/sql/sql_insert.asp, and see if you can write the SQL to \"hard code\" entering a set of values as a row in your `topnames` table."
   ]
  },
  {
   "cell_type": "code",
   "execution_count": null,
   "metadata": {},
   "outputs": [],
   "source": [
    "onerow  = [2018, 'Female', 'Emma', 18688]\n",
    "\n",
    "setofrows = [\n",
    "    [2017, 'Female', 'Emma', 19800],\n",
    "    [2017, 'Male', 'Liam', 19798],\n",
    "    [2018, 'Female', 'Emma', 18688],\n",
    "    [2018, 'Male', 'Liam', 19836]\n",
    "]"
   ]
  },
  {
   "cell_type": "code",
   "execution_count": null,
   "metadata": {
    "nbgrader": {
     "grade": true,
     "grade_id": "cell-74512e8cf66731de",
     "locked": false,
     "points": 0,
     "schema_version": 3,
     "solution": true,
     "task": false
    }
   },
   "outputs": [],
   "source": [
    "sql_statment = \"\"\"\n",
    "\"\"\"\n",
    "\n",
    "# BEGIN SOLUTION\n",
    "sql_statement = \"\"\"\n",
    "INSERT INTO topnames (year, sex, name, count)\n",
    "VALUES (2018, 'Female', 'Emma', 18688)\n",
    "\"\"\"\n",
    "# END SOLUTION\n",
    "%sql $sql_statement"
   ]
  },
  {
   "cell_type": "markdown",
   "metadata": {},
   "source": [
    "**Q** Next, we want to construct an SQL statement that incorporates Python program variables into the SQL, so that the data need not be hard-coded."
   ]
  },
  {
   "cell_type": "code",
   "execution_count": null,
   "metadata": {
    "nbgrader": {
     "grade": true,
     "grade_id": "cell-8923fb4505f4699c",
     "locked": false,
     "points": 0,
     "schema_version": 3,
     "solution": true,
     "task": false
    }
   },
   "outputs": [],
   "source": [
    "testrow =  [2016, 'Male', \"Thomas\", 5]\n",
    "sql_statement = \"\"\"\n",
    "\"\"\"\n",
    "\n",
    "### BEGIN SOLUTION\n",
    "template = \"\"\"\n",
    "INSERT INTO topnames (year, sex, name, count)\n",
    "VALUES ({}, '{}', '{}', {})\n",
    "\"\"\"\n",
    "sql_statement = template.format(testrow[0], testrow[1], testrow[2], testrow[3])\n",
    "\n",
    "sql_statement = f\"\"\"\n",
    "INSERT INTO topnames (year, sex, name, count)\n",
    "VALUES ({testrow[0]}, '{testrow[1]}', '{testrow[2]}', {testrow[3]})\n",
    "\"\"\"\n",
    "### END SOLUTIOH\n",
    "print(sql_statement)"
   ]
  },
  {
   "cell_type": "code",
   "execution_count": null,
   "metadata": {},
   "outputs": [],
   "source": [
    "%sql $sql_statement"
   ]
  },
  {
   "cell_type": "code",
   "execution_count": null,
   "metadata": {},
   "outputs": [],
   "source": []
  }
 ],
 "metadata": {
  "celltoolbar": "Create Assignment",
  "kernelspec": {
   "display_name": "Python 3",
   "language": "python",
   "name": "python3"
  },
  "language_info": {
   "codemirror_mode": {
    "name": "ipython",
    "version": 3
   },
   "file_extension": ".py",
   "mimetype": "text/x-python",
   "name": "python",
   "nbconvert_exporter": "python",
   "pygments_lexer": "ipython3",
   "version": "3.7.6"
  }
 },
 "nbformat": 4,
 "nbformat_minor": 4
}
