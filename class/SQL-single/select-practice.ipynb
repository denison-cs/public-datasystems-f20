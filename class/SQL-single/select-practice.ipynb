{
 "cells": [
  {
   "cell_type": "code",
   "execution_count": 1,
   "metadata": {},
   "outputs": [],
   "source": [
    "import pandas as pd\n",
    "import os\n",
    "import os.path\n",
    "import json\n",
    "import sys\n",
    "import importlib\n",
    "\n",
    "module_dir = \"../../modules\"\n",
    "module_path = os.path.abspath(module_dir)\n",
    "if not module_path in sys.path:\n",
    "    sys.path.append(module_path)\n",
    "\n",
    "import dbutil\n",
    "importlib.reload(dbutil)\n",
    "\n",
    "%load_ext sql"
   ]
  },
  {
   "cell_type": "markdown",
   "metadata": {},
   "source": [
    "### Set User Credentials\n",
    "\n",
    "> **Edit `creds.json` to reflect your mysql user and password**\n",
    "\n",
    "> This must be done **prior** to executing the following cell "
   ]
  },
  {
   "cell_type": "code",
   "execution_count": 2,
   "metadata": {},
   "outputs": [],
   "source": [
    "dbsource = \"sqlite\"\n",
    "db = \"book\"\n",
    "cstring = dbutil.db_cstring(dbsource, \"creds.json\", \".\", db)"
   ]
  },
  {
   "cell_type": "code",
   "execution_count": 3,
   "metadata": {},
   "outputs": [
    {
     "name": "stdout",
     "output_type": "stream",
     "text": [
      "Connection string: sqlite:///../../dbfiles/book.db\n"
     ]
    }
   ],
   "source": [
    "print(\"Connection string:\", cstring)"
   ]
  },
  {
   "cell_type": "markdown",
   "metadata": {},
   "source": [
    "### Establish Connection from Client to Server\n",
    "\n",
    "The cell below uses the Python variable constructed earlier to actually establish a connection with the server.  \n",
    "\n",
    "If you cannot get a connection established, switch over to MySQL Workbench and try from that different client."
   ]
  },
  {
   "cell_type": "code",
   "execution_count": 4,
   "metadata": {},
   "outputs": [],
   "source": [
    "%sql $cstring"
   ]
  },
  {
   "cell_type": "markdown",
   "metadata": {},
   "source": [
    "#### Make a Query"
   ]
  },
  {
   "cell_type": "markdown",
   "metadata": {},
   "source": [
    "Try and execute the following line, which uses an \"inline\" sql magic to exectute a query to the database and retrieve the result."
   ]
  },
  {
   "cell_type": "code",
   "execution_count": 5,
   "metadata": {
    "nbgrader": {
     "grade": true,
     "grade_id": "cell-bbdb09230afb60cf",
     "locked": false,
     "points": 0,
     "schema_version": 3,
     "solution": true,
     "task": false
    }
   },
   "outputs": [
    {
     "name": "stdout",
     "output_type": "stream",
     "text": [
      " * sqlite:///../../dbfiles/book.db\n",
      "Done.\n"
     ]
    },
    {
     "data": {
      "text/html": [
       "<table>\n",
       "    <tr>\n",
       "        <th>code</th>\n",
       "        <th>pop</th>\n",
       "        <th>gdp</th>\n",
       "        <th>life</th>\n",
       "        <th>cell</th>\n",
       "    </tr>\n",
       "    <tr>\n",
       "        <td>CHN</td>\n",
       "        <td>1386.4</td>\n",
       "        <td>12143.5</td>\n",
       "        <td>76.4</td>\n",
       "        <td>1469.88</td>\n",
       "    </tr>\n",
       "    <tr>\n",
       "        <td>FRA</td>\n",
       "        <td>66.87</td>\n",
       "        <td>2586.29</td>\n",
       "        <td>82.5</td>\n",
       "        <td>69.02</td>\n",
       "    </tr>\n",
       "    <tr>\n",
       "        <td>GBR</td>\n",
       "        <td>66.06</td>\n",
       "        <td>2637.87</td>\n",
       "        <td>81.2</td>\n",
       "        <td>79.1</td>\n",
       "    </tr>\n",
       "    <tr>\n",
       "        <td>IND</td>\n",
       "        <td>1338.66</td>\n",
       "        <td>2652.55</td>\n",
       "        <td>68.8</td>\n",
       "        <td>1168.9</td>\n",
       "    </tr>\n",
       "    <tr>\n",
       "        <td>USA</td>\n",
       "        <td>325.15</td>\n",
       "        <td>19485.4</td>\n",
       "        <td>78.5</td>\n",
       "        <td>391.6</td>\n",
       "    </tr>\n",
       "</table>"
      ],
      "text/plain": [
       "[('CHN', 1386.4, 12143.5, 76.4, 1469.88),\n",
       " ('FRA', 66.87, 2586.29, 82.5, 69.02),\n",
       " ('GBR', 66.06, 2637.87, 81.2, 79.1),\n",
       " ('IND', 1338.66, 2652.55, 68.8, 1168.9),\n",
       " ('USA', 325.15, 19485.4, 78.5, 391.6)]"
      ]
     },
     "execution_count": 5,
     "metadata": {},
     "output_type": "execute_result"
    }
   ],
   "source": [
    "%sql SELECT * from indicators0"
   ]
  },
  {
   "cell_type": "code",
   "execution_count": null,
   "metadata": {},
   "outputs": [],
   "source": []
  },
  {
   "cell_type": "code",
   "execution_count": null,
   "metadata": {},
   "outputs": [],
   "source": []
  },
  {
   "cell_type": "code",
   "execution_count": null,
   "metadata": {},
   "outputs": [],
   "source": []
  },
  {
   "cell_type": "code",
   "execution_count": null,
   "metadata": {},
   "outputs": [],
   "source": []
  },
  {
   "cell_type": "code",
   "execution_count": null,
   "metadata": {},
   "outputs": [],
   "source": []
  },
  {
   "cell_type": "code",
   "execution_count": null,
   "metadata": {},
   "outputs": [],
   "source": []
  },
  {
   "cell_type": "code",
   "execution_count": null,
   "metadata": {},
   "outputs": [],
   "source": []
  },
  {
   "cell_type": "code",
   "execution_count": null,
   "metadata": {},
   "outputs": [],
   "source": []
  },
  {
   "cell_type": "code",
   "execution_count": null,
   "metadata": {},
   "outputs": [],
   "source": []
  },
  {
   "cell_type": "code",
   "execution_count": null,
   "metadata": {},
   "outputs": [],
   "source": []
  },
  {
   "cell_type": "code",
   "execution_count": null,
   "metadata": {},
   "outputs": [],
   "source": []
  },
  {
   "cell_type": "code",
   "execution_count": null,
   "metadata": {},
   "outputs": [],
   "source": []
  },
  {
   "cell_type": "code",
   "execution_count": null,
   "metadata": {},
   "outputs": [],
   "source": []
  },
  {
   "cell_type": "markdown",
   "metadata": {},
   "source": [
    "## Shift to a Different Database"
   ]
  },
  {
   "cell_type": "code",
   "execution_count": 6,
   "metadata": {},
   "outputs": [
    {
     "name": "stdout",
     "output_type": "stream",
     "text": [
      "Connection string: sqlite:///../../dbfiles/school.db\n"
     ]
    }
   ],
   "source": [
    "dbsource = \"sqlite\"\n",
    "db = \"school\"\n",
    "cstring = dbutil.db_cstring(dbsource, \"creds.json\", \".\", db)\n",
    "print(\"Connection string:\", cstring)"
   ]
  },
  {
   "cell_type": "code",
   "execution_count": 7,
   "metadata": {},
   "outputs": [],
   "source": [
    "%sql $cstring"
   ]
  },
  {
   "cell_type": "code",
   "execution_count": null,
   "metadata": {},
   "outputs": [],
   "source": []
  },
  {
   "cell_type": "code",
   "execution_count": 8,
   "metadata": {
    "nbgrader": {
     "grade": true,
     "grade_id": "cell-bbdb09230afb60cf",
     "locked": false,
     "points": 0,
     "schema_version": 3,
     "solution": true,
     "task": false
    }
   },
   "outputs": [
    {
     "name": "stdout",
     "output_type": "stream",
     "text": [
      "   sqlite:///../../dbfiles/book.db\n",
      " * sqlite:///../../dbfiles/school.db\n",
      "Done.\n"
     ]
    },
    {
     "data": {
      "text/html": [
       "<table>\n",
       "    <tr>\n",
       "        <th>departmentid</th>\n",
       "        <th>departmentname</th>\n",
       "        <th>departmentchair</th>\n",
       "        <th>division</th>\n",
       "    </tr>\n",
       "    <tr>\n",
       "        <td>ANSO</td>\n",
       "        <td>Anthropology and Sociology</td>\n",
       "        <td>None</td>\n",
       "        <td>Social Sciences</td>\n",
       "    </tr>\n",
       "    <tr>\n",
       "        <td>ART</td>\n",
       "        <td>Art History and Visual Culture</td>\n",
       "        <td>9252</td>\n",
       "        <td>Fine Arts</td>\n",
       "    </tr>\n",
       "    <tr>\n",
       "        <td>BIOL</td>\n",
       "        <td>Biology</td>\n",
       "        <td>None</td>\n",
       "        <td>Natural Sciences</td>\n",
       "    </tr>\n",
       "    <tr>\n",
       "        <td>BLST</td>\n",
       "        <td>Black Studies</td>\n",
       "        <td>9133</td>\n",
       "        <td>Interdisciplinary</td>\n",
       "    </tr>\n",
       "    <tr>\n",
       "        <td>CHEM</td>\n",
       "        <td>Chemistry and Biochemistry</td>\n",
       "        <td>9143</td>\n",
       "        <td>Natural Sciences</td>\n",
       "    </tr>\n",
       "    <tr>\n",
       "        <td>CINE</td>\n",
       "        <td>Cinema</td>\n",
       "        <td>9042</td>\n",
       "        <td>Fine Arts</td>\n",
       "    </tr>\n",
       "    <tr>\n",
       "        <td>CLAS</td>\n",
       "        <td>Classical Studies</td>\n",
       "        <td>9111</td>\n",
       "        <td>Humanities</td>\n",
       "    </tr>\n",
       "    <tr>\n",
       "        <td>COMM</td>\n",
       "        <td>Communication</td>\n",
       "        <td>9144</td>\n",
       "        <td>Social Sciences</td>\n",
       "    </tr>\n",
       "    <tr>\n",
       "        <td>DANC</td>\n",
       "        <td>Dance</td>\n",
       "        <td>9180</td>\n",
       "        <td>Fine Arts</td>\n",
       "    </tr>\n",
       "    <tr>\n",
       "        <td>EAST</td>\n",
       "        <td>East Asian Studies</td>\n",
       "        <td>9257</td>\n",
       "        <td>Interdisciplinary</td>\n",
       "    </tr>\n",
       "    <tr>\n",
       "        <td>ECON</td>\n",
       "        <td>Economics</td>\n",
       "        <td>9291</td>\n",
       "        <td>Social Sciences</td>\n",
       "    </tr>\n",
       "    <tr>\n",
       "        <td>EDUC</td>\n",
       "        <td>Education</td>\n",
       "        <td>None</td>\n",
       "        <td>Social Sciences</td>\n",
       "    </tr>\n",
       "    <tr>\n",
       "        <td>ENGL</td>\n",
       "        <td>English</td>\n",
       "        <td>9142</td>\n",
       "        <td>Humanities</td>\n",
       "    </tr>\n",
       "    <tr>\n",
       "        <td>ENVS</td>\n",
       "        <td>Environmental Studies</td>\n",
       "        <td>9253</td>\n",
       "        <td>Interdisciplinary</td>\n",
       "    </tr>\n",
       "    <tr>\n",
       "        <td>FYS</td>\n",
       "        <td>First Year Seminar</td>\n",
       "        <td>None</td>\n",
       "        <td>Interdisciplinary</td>\n",
       "    </tr>\n",
       "    <tr>\n",
       "        <td>GEOS</td>\n",
       "        <td>Geosciences</td>\n",
       "        <td>None</td>\n",
       "        <td>Natural Sciences</td>\n",
       "    </tr>\n",
       "    <tr>\n",
       "        <td>HIST</td>\n",
       "        <td>History</td>\n",
       "        <td>9248</td>\n",
       "        <td>Humanities</td>\n",
       "    </tr>\n",
       "    <tr>\n",
       "        <td>HNRS</td>\n",
       "        <td>Honors</td>\n",
       "        <td>None</td>\n",
       "        <td>Interdisciplinary</td>\n",
       "    </tr>\n",
       "    <tr>\n",
       "        <td>INTD</td>\n",
       "        <td>Interdepartmental</td>\n",
       "        <td>None</td>\n",
       "        <td>Interdisciplinary</td>\n",
       "    </tr>\n",
       "    <tr>\n",
       "        <td>INTL</td>\n",
       "        <td>International Studies</td>\n",
       "        <td>9178</td>\n",
       "        <td>Interdisciplinary</td>\n",
       "    </tr>\n",
       "    <tr>\n",
       "        <td>LACS</td>\n",
       "        <td>Latin Amer &amp;Caribbean Studies</td>\n",
       "        <td>None</td>\n",
       "        <td>Interdisciplinary</td>\n",
       "    </tr>\n",
       "    <tr>\n",
       "        <td>LANG</td>\n",
       "        <td>Modern Language</td>\n",
       "        <td>9153</td>\n",
       "        <td>Humanities</td>\n",
       "    </tr>\n",
       "    <tr>\n",
       "        <td>MATH</td>\n",
       "        <td>Mathematics &amp; Computer Science</td>\n",
       "        <td>9140</td>\n",
       "        <td>Natural Sciences</td>\n",
       "    </tr>\n",
       "    <tr>\n",
       "        <td>MTA</td>\n",
       "        <td>Media Technology and Arts</td>\n",
       "        <td>None</td>\n",
       "        <td>Interdisciplinary</td>\n",
       "    </tr>\n",
       "    <tr>\n",
       "        <td>MUS</td>\n",
       "        <td>Music</td>\n",
       "        <td>9116</td>\n",
       "        <td>Fine Arts</td>\n",
       "    </tr>\n",
       "    <tr>\n",
       "        <td>NEUR</td>\n",
       "        <td>Neuroscience</td>\n",
       "        <td>None</td>\n",
       "        <td>Interdisciplinary</td>\n",
       "    </tr>\n",
       "    <tr>\n",
       "        <td>PHED</td>\n",
       "        <td>Health, Exercise, &amp; Sport Stud</td>\n",
       "        <td>9073</td>\n",
       "        <td>Social Sciences</td>\n",
       "    </tr>\n",
       "    <tr>\n",
       "        <td>PHIL</td>\n",
       "        <td>Philosophy</td>\n",
       "        <td>9085</td>\n",
       "        <td>Humanities</td>\n",
       "    </tr>\n",
       "    <tr>\n",
       "        <td>PHYS</td>\n",
       "        <td>Physics</td>\n",
       "        <td>9089</td>\n",
       "        <td>Natural Sciences</td>\n",
       "    </tr>\n",
       "    <tr>\n",
       "        <td>POSC</td>\n",
       "        <td>Political Science</td>\n",
       "        <td>9064</td>\n",
       "        <td>Social Sciences</td>\n",
       "    </tr>\n",
       "    <tr>\n",
       "        <td>PPE</td>\n",
       "        <td>Philosophy/PoliSci/Economics</td>\n",
       "        <td>None</td>\n",
       "        <td>Interdisciplinary</td>\n",
       "    </tr>\n",
       "    <tr>\n",
       "        <td>PSYC</td>\n",
       "        <td>Psychology</td>\n",
       "        <td>9107</td>\n",
       "        <td>Natural Sciences</td>\n",
       "    </tr>\n",
       "    <tr>\n",
       "        <td>QS</td>\n",
       "        <td>Queer Studies</td>\n",
       "        <td>None</td>\n",
       "        <td>Interdisciplinary</td>\n",
       "    </tr>\n",
       "    <tr>\n",
       "        <td>REL</td>\n",
       "        <td>Religion</td>\n",
       "        <td>9285</td>\n",
       "        <td>Humanities</td>\n",
       "    </tr>\n",
       "    <tr>\n",
       "        <td>THTR</td>\n",
       "        <td>Theatre</td>\n",
       "        <td>9204</td>\n",
       "        <td>Fine Arts</td>\n",
       "    </tr>\n",
       "    <tr>\n",
       "        <td>WGST</td>\n",
       "        <td>Women&#x27;s and Gender Studies</td>\n",
       "        <td>None</td>\n",
       "        <td>Interdisciplinary</td>\n",
       "    </tr>\n",
       "</table>"
      ],
      "text/plain": [
       "[('ANSO', 'Anthropology and Sociology', None, 'Social Sciences'),\n",
       " ('ART', 'Art History and Visual Culture', 9252, 'Fine Arts'),\n",
       " ('BIOL', 'Biology', None, 'Natural Sciences'),\n",
       " ('BLST', 'Black Studies', 9133, 'Interdisciplinary'),\n",
       " ('CHEM', 'Chemistry and Biochemistry', 9143, 'Natural Sciences'),\n",
       " ('CINE', 'Cinema', 9042, 'Fine Arts'),\n",
       " ('CLAS', 'Classical Studies', 9111, 'Humanities'),\n",
       " ('COMM', 'Communication', 9144, 'Social Sciences'),\n",
       " ('DANC', 'Dance', 9180, 'Fine Arts'),\n",
       " ('EAST', 'East Asian Studies', 9257, 'Interdisciplinary'),\n",
       " ('ECON', 'Economics', 9291, 'Social Sciences'),\n",
       " ('EDUC', 'Education', None, 'Social Sciences'),\n",
       " ('ENGL', 'English', 9142, 'Humanities'),\n",
       " ('ENVS', 'Environmental Studies', 9253, 'Interdisciplinary'),\n",
       " ('FYS', 'First Year Seminar', None, 'Interdisciplinary'),\n",
       " ('GEOS', 'Geosciences', None, 'Natural Sciences'),\n",
       " ('HIST', 'History', 9248, 'Humanities'),\n",
       " ('HNRS', 'Honors', None, 'Interdisciplinary'),\n",
       " ('INTD', 'Interdepartmental', None, 'Interdisciplinary'),\n",
       " ('INTL', 'International Studies', 9178, 'Interdisciplinary'),\n",
       " ('LACS', 'Latin Amer &Caribbean Studies', None, 'Interdisciplinary'),\n",
       " ('LANG', 'Modern Language', 9153, 'Humanities'),\n",
       " ('MATH', 'Mathematics & Computer Science', 9140, 'Natural Sciences'),\n",
       " ('MTA', 'Media Technology and Arts', None, 'Interdisciplinary'),\n",
       " ('MUS', 'Music', 9116, 'Fine Arts'),\n",
       " ('NEUR', 'Neuroscience', None, 'Interdisciplinary'),\n",
       " ('PHED', 'Health, Exercise, & Sport Stud', 9073, 'Social Sciences'),\n",
       " ('PHIL', 'Philosophy', 9085, 'Humanities'),\n",
       " ('PHYS', 'Physics', 9089, 'Natural Sciences'),\n",
       " ('POSC', 'Political Science', 9064, 'Social Sciences'),\n",
       " ('PPE', 'Philosophy/PoliSci/Economics', None, 'Interdisciplinary'),\n",
       " ('PSYC', 'Psychology', 9107, 'Natural Sciences'),\n",
       " ('QS', 'Queer Studies', None, 'Interdisciplinary'),\n",
       " ('REL', 'Religion', 9285, 'Humanities'),\n",
       " ('THTR', 'Theatre', 9204, 'Fine Arts'),\n",
       " ('WGST', \"Women's and Gender Studies\", None, 'Interdisciplinary')]"
      ]
     },
     "execution_count": 8,
     "metadata": {},
     "output_type": "execute_result"
    }
   ],
   "source": [
    "%sql SELECT * from departments"
   ]
  },
  {
   "cell_type": "code",
   "execution_count": null,
   "metadata": {},
   "outputs": [],
   "source": []
  }
 ],
 "metadata": {
  "celltoolbar": "Create Assignment",
  "kernelspec": {
   "display_name": "Python 3",
   "language": "python",
   "name": "python3"
  },
  "language_info": {
   "codemirror_mode": {
    "name": "ipython",
    "version": 3
   },
   "file_extension": ".py",
   "mimetype": "text/x-python",
   "name": "python",
   "nbconvert_exporter": "python",
   "pygments_lexer": "ipython3",
   "version": "3.7.9"
  }
 },
 "nbformat": 4,
 "nbformat_minor": 4
}
