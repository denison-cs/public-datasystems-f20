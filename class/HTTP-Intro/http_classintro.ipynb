{
 "cells": [
  {
   "cell_type": "markdown",
   "metadata": {},
   "source": [
    "# Introducing HTTP"
   ]
  },
  {
   "cell_type": "code",
   "execution_count": 32,
   "metadata": {
    "nbgrader": {
     "grade": false,
     "grade_id": "cell-b9abcf27cf7faf8f",
     "locked": true,
     "schema_version": 3,
     "solution": false,
     "task": false
    }
   },
   "outputs": [
    {
     "data": {
      "text/plain": [
       "<module 'mysocket' from '/Users/tcbressoud/Dropbox/cs181-DataSystems/cs181-bressoud/f20_class/modules/mysocket.py'>"
      ]
     },
     "execution_count": 32,
     "metadata": {},
     "output_type": "execute_result"
    }
   ],
   "source": [
    "import os\n",
    "import os.path\n",
    "import sys\n",
    "import importlib\n",
    "\n",
    "if os.path.isdir(os.path.join(\"../../..\", \"modules\")):\n",
    "    module_dir = os.path.join(\"../../..\", \"modules\")\n",
    "else:\n",
    "    module_dir = os.path.join(\"../..\", \"modules\")\n",
    "\n",
    "module_path = os.path.abspath(module_dir)\n",
    "if not module_path in sys.path:\n",
    "    sys.path.append(module_path)\n",
    "\n",
    "import mysocket as sock\n",
    "importlib.reload(sock)"
   ]
  },
  {
   "cell_type": "markdown",
   "metadata": {},
   "source": [
    "## Request/Response Sequence\n",
    "\n",
    "\n",
    "1. Establish a TCP socket connection with server machine $\\textit{host}$ at port $\\textit{port}$; call it `connection`.  \n",
    "2. Build a correctly formatted HTTP request string and assign it to a string variable, `request_message`.  This will use a an HTTP method (`GET`) and will include a header `Host` with value $\\textit{host}$ and use \\textit{resource path} as the URI in the *request-line*.  \n",
    "3. Perform a `send` of the string `request_message` over `connection`.  \n",
    "4. Perform a `receive` of the HTTP message response from `connection`.  Assuming a valid response message, this must retrieve the string of characters up to and including the \\textit{empty-line} after the message headers, and then, based on additional information, must retrieve the `body` of the response.  \n",
    "5. Perform a `close()` operation on `connection`.  "
   ]
  },
  {
   "cell_type": "markdown",
   "metadata": {},
   "source": [
    "## Provided Helper Functions\n",
    "\n",
    "In module `mysocket`, imported above as\n",
    "```\n",
    "import mysocket as sock\n",
    "```"
   ]
  },
  {
   "cell_type": "markdown",
   "metadata": {},
   "source": [
    "Function                                           | Description\n",
    "---------------------------------------------------|-------------------------------------------------------------------\n",
    "`makeConnection(host, port)`                       | Establish a TCP connection from the client machine to a server at the given machine `host` and listening at the given `port`. This returns the socket connection.  This corresponds to Step 1 of the client-side steps.\n",
    "`sendString(conn, s)`                              | Given an established socket `conn`, take `s`, a string, and send it over the connection.  This corresponds to Step 3 of the client-side steps, where `s` would define all the characters making up a complete HTTP request.\n",
    "`receiveTillClose(conn)`                            | This performs a socket `recv()` from the connection, consuming data until the server closes the connection.  This returns the complete HTTP response message. This corresponds to Step 4 of the client-side steps, and assumes that a connection close will define the end of the response message.\n",
    "\n",
    "-----------------------------------------------------------------------------------------------------------------------\n"
   ]
  },
  {
   "cell_type": "markdown",
   "metadata": {},
   "source": [
    "**Step 1**"
   ]
  },
  {
   "cell_type": "code",
   "execution_count": 33,
   "metadata": {},
   "outputs": [],
   "source": [
    "connection = sock.makeConnection(\"httpbin.org\", 80)\n",
    "assert connection is not None"
   ]
  },
  {
   "cell_type": "markdown",
   "metadata": {},
   "source": [
    "**Step 2**"
   ]
  },
  {
   "cell_type": "code",
   "execution_count": 34,
   "metadata": {},
   "outputs": [],
   "source": [
    "request_line = 'GET / HTTP/1.1\\r\\n'\n",
    "host_line = 'Host: httpbin.org\\r\\n'\n",
    "one_and_done = 'Connection: close\\r\\n'\n",
    "empty_line = '\\r\\n'\n",
    "\n",
    "request_message = request_line + host_line + \\\n",
    "                  one_and_done + empty_line"
   ]
  },
  {
   "cell_type": "markdown",
   "metadata": {},
   "source": [
    "**Step 3**"
   ]
  },
  {
   "cell_type": "code",
   "execution_count": 35,
   "metadata": {},
   "outputs": [],
   "source": [
    "sock.sendString(connection, request_message)"
   ]
  },
  {
   "cell_type": "markdown",
   "metadata": {},
   "source": [
    "**Step 4**"
   ]
  },
  {
   "cell_type": "code",
   "execution_count": 36,
   "metadata": {},
   "outputs": [],
   "source": [
    "response = sock.receiveTillClose(connection)"
   ]
  },
  {
   "cell_type": "markdown",
   "metadata": {},
   "source": [
    "**Step 5**"
   ]
  },
  {
   "cell_type": "code",
   "execution_count": 37,
   "metadata": {},
   "outputs": [],
   "source": [
    "connection.close()"
   ]
  },
  {
   "cell_type": "markdown",
   "metadata": {},
   "source": [
    "------\n",
    "\n",
    "Showing the first 250 characters in the response ..."
   ]
  },
  {
   "cell_type": "code",
   "execution_count": 38,
   "metadata": {},
   "outputs": [
    {
     "name": "stdout",
     "output_type": "stream",
     "text": [
      "'HTTP/1.1 200 OK\\r\\nDate: Thu, 29 Oct 2020 20:27:10 GMT\\r\\nContent-Type: text/html; charset=utf-8\\r\\nContent-Length: 9593\\r\\nConnection: close\\r\\nServer: gunicorn/19.9.0\\r\\nAccess-Control-Allow-Origin: *\\r\\nAccess-Control-Allow-Credentials: true\\r\\n\\r\\n<!DOCTYPE html>\\n'\n"
     ]
    }
   ],
   "source": [
    "print(repr(response[:250]))"
   ]
  },
  {
   "cell_type": "markdown",
   "metadata": {},
   "source": [
    "--------\n",
    "\n",
    "And printing the first 250 characters of the respose ..."
   ]
  },
  {
   "cell_type": "code",
   "execution_count": 39,
   "metadata": {},
   "outputs": [
    {
     "name": "stdout",
     "output_type": "stream",
     "text": [
      "HTTP/1.1 200 OK\n",
      "Date: Thu, 29 Oct 2020 20:27:10 GMT\n",
      "Content-Type: text/html; charset=utf-8\n",
      "Content-Length: 9593\n",
      "Connection: close\n",
      "Server: gunicorn/19.9.0\n",
      "Access-Control-Allow-Origin: *\n",
      "Access-Control-Allow-Credentials: true\n",
      "\n",
      "<!DOCTYPE html>\n",
      "\n"
     ]
    }
   ],
   "source": [
    "print(response[:250])"
   ]
  },
  {
   "cell_type": "markdown",
   "metadata": {},
   "source": [
    "**Q** Now repeat the process for the resource `/basic.html` at the server `datasystems.denison.edu`, still using port 80.  Name the connection `c2`, the full message to send `request`, and the resoonse `r`."
   ]
  },
  {
   "cell_type": "code",
   "execution_count": 48,
   "metadata": {},
   "outputs": [],
   "source": [
    "# YOUR SOLUTION HERE"
   ]
  },
  {
   "cell_type": "code",
   "execution_count": 43,
   "metadata": {},
   "outputs": [],
   "source": [
    "url = \"http://datasystems.denison.edu/basic.html\""
   ]
  },
  {
   "cell_type": "code",
   "execution_count": 44,
   "metadata": {},
   "outputs": [],
   "source": [
    "s = !curl -v -s $url"
   ]
  },
  {
   "cell_type": "code",
   "execution_count": 45,
   "metadata": {},
   "outputs": [
    {
     "data": {
      "text/plain": [
       "['*   Trying 140.141.2.184:80...',\n",
       " '* Connected to datasystems.denison.edu (140.141.2.184) port 80 (#0)',\n",
       " '> GET /basic.html HTTP/1.1',\n",
       " '> Host: datasystems.denison.edu',\n",
       " '> User-Agent: curl/7.71.1',\n",
       " '> Accept: */*',\n",
       " '> ',\n",
       " '* Mark bundle as not supporting multiuse',\n",
       " '< HTTP/1.1 200 OK',\n",
       " '< Date: Thu, 29 Oct 2020 20:28:39 GMT',\n",
       " '< Server: Apache',\n",
       " '< Accept-Ranges: bytes',\n",
       " '< Content-Length: 496',\n",
       " '< Connection: close',\n",
       " '< Content-Type: text/html; charset=UTF-8',\n",
       " '< ',\n",
       " '{ [496 bytes data]',\n",
       " '* Closing connection 0',\n",
       " '<!DOCTYPE html>',\n",
       " '<html lang=\"en\">',\n",
       " '  <head>',\n",
       " '    <title>Data Systems Basic HTML Page</title>',\n",
       " '  </head>',\n",
       " '  <body>',\n",
       " '    <h1>First Level Heading</h1>',\n",
       " '',\n",
       " '    <p>Paragraph defined in <b>body</b>.',\n",
       " '',\n",
       " '    <h2>Second Level Heading</h2>',\n",
       " '',\n",
       " '    <a href=\"http://docs.python.org\">Link</a> to Python documentation.',\n",
       " '    </p>',\n",
       " '',\n",
       " '    <ul>',\n",
       " '      <li>Item 1',\n",
       " '      <ol>',\n",
       " '        <li>Item 1 nested</li>',\n",
       " '        <li>Item 2 nested</li>',\n",
       " '      </ol>',\n",
       " '      </li>',\n",
       " '      <li>Item 2</li>',\n",
       " '      <li>Item 3</li>',\n",
       " '    </ul>',\n",
       " '  </body>',\n",
       " '</html>']"
      ]
     },
     "execution_count": 45,
     "metadata": {},
     "output_type": "execute_result"
    }
   ],
   "source": [
    "s"
   ]
  },
  {
   "cell_type": "code",
   "execution_count": 47,
   "metadata": {},
   "outputs": [
    {
     "name": "stdout",
     "output_type": "stream",
     "text": [
      "Help on function makeConnection in module mysocket:\n",
      "\n",
      "makeConnection(location, port=80, proxy=False)\n",
      "    Description: Establish a TCP connection from the client machine and\n",
      "    process running this function to a presumed server listening at the\n",
      "    given port (80 by default) and located at Internet endpoint given by\n",
      "    location.\n",
      "    \n",
      "    Returns an established socket connection, if successful, and None on\n",
      "    failure.\n",
      "\n"
     ]
    }
   ],
   "source": [
    "help(sock.makeConnection)"
   ]
  },
  {
   "cell_type": "code",
   "execution_count": null,
   "metadata": {},
   "outputs": [],
   "source": []
  }
 ],
 "metadata": {
  "kernelspec": {
   "display_name": "Python 3",
   "language": "python",
   "name": "python3"
  },
  "language_info": {
   "codemirror_mode": {
    "name": "ipython",
    "version": 3
   },
   "file_extension": ".py",
   "mimetype": "text/x-python",
   "name": "python",
   "nbconvert_exporter": "python",
   "pygments_lexer": "ipython3",
   "version": "3.7.6"
  }
 },
 "nbformat": 4,
 "nbformat_minor": 4
}
