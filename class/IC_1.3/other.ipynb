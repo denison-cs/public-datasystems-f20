{
 "cells": [
  {
   "cell_type": "markdown",
   "metadata": {},
   "source": [
    "Before you turn this problem in, make sure everything runs as expected. First, **restart the kernel** (in the menubar, select Kernel$\\rightarrow$Restart) and then **run all cells** (in the menubar, select Cell$\\rightarrow$Run All).\n",
    "\n",
    "Make sure you fill in any place that says `YOUR CODE HERE` or \"YOUR ANSWER HERE\", as well as your name and collaborators below:"
   ]
  },
  {
   "cell_type": "code",
   "execution_count": null,
   "metadata": {},
   "outputs": [],
   "source": [
    "NAME = \"\"\n",
    "COLLABORATORS = \"\""
   ]
  },
  {
   "cell_type": "markdown",
   "metadata": {},
   "source": [
    "---"
   ]
  },
  {
   "cell_type": "code",
   "execution_count": null,
   "metadata": {},
   "outputs": [],
   "source": [
    "import os\n",
    "import os.path\n",
    "import io\n",
    "import sys\n",
    "from contextlib import redirect_stdout\n",
    "\n",
    "datadir = \"publicdata\""
   ]
  },
  {
   "cell_type": "markdown",
   "metadata": {},
   "source": [
    "**Q** Write a function\n",
    "\n",
    "    lastWords(filepath)\n",
    "\n",
    "that creates and returns a list of strings consisting of the last word in each of the lines of the text file whose location is given by `filepath`.  The items in the list should not include any newline or whitespace as part of any of the words, and there should not be any items in the list for any lines consisting of all whitespace.  Make sure you remove any trailing punctuation."
   ]
  },
  {
   "cell_type": "code",
   "execution_count": null,
   "metadata": {
    "deletable": false,
    "nbgrader": {
     "cell_type": "code",
     "checksum": "8f70b231f6bf515434af4093c2784775",
     "grade": false,
     "grade_id": "cell-05079d58ab7fbd80",
     "locked": false,
     "schema_version": 3,
     "solution": true,
     "task": false
    }
   },
   "outputs": [],
   "source": [
    "# Solution cell\n",
    "\n",
    "# YOUR CODE HERE\n",
    "raise NotImplementedError()\n",
    "filepath = os.path.join(datadir, \"tennyson.txt\")\n",
    "print(lastWords(filepath))"
   ]
  },
  {
   "cell_type": "code",
   "execution_count": null,
   "metadata": {
    "deletable": false,
    "editable": false,
    "nbgrader": {
     "cell_type": "code",
     "checksum": "07063d30d51005e8722b458a3d620f9a",
     "grade": true,
     "grade_id": "cell-ad7839c06c090b55",
     "locked": true,
     "points": 3,
     "schema_version": 3,
     "solution": false,
     "task": false
    }
   },
   "outputs": [],
   "source": [
    "# Testing cell\n",
    "\n",
    "assert lastWords(os.path.join(datadir, \"tennyson.txt\")) == ['bell', 'dark', 'farewell', 'embark']\n"
   ]
  },
  {
   "cell_type": "markdown",
   "metadata": {},
   "source": [
    "**Q:** Write a function\n",
    "\n",
    "    printType(path)\n",
    "\n",
    "that prints the string \"Is a directory\" (without quotes) if the given `path` is a path to a directory, and prints \"Is a file\" if the given `path` is a regular file, and prints \"Does not exist\" if the path does not yield a traversal to an actual file or directory in the file system.  Note that the printed strings must match *exactly* in case and character sequence to the given specification."
   ]
  },
  {
   "cell_type": "code",
   "execution_count": null,
   "metadata": {
    "deletable": false,
    "nbgrader": {
     "cell_type": "code",
     "checksum": "9d2fefeb8590599a38c8d96c263ca1b8",
     "grade": false,
     "grade_id": "cell-27e2396f330b04d3",
     "locked": false,
     "schema_version": 3,
     "solution": true,
     "task": false
    }
   },
   "outputs": [],
   "source": [
    "# Solution cell\n",
    "\n",
    "# YOUR CODE HERE\n",
    "raise NotImplementedError()\n",
    "printType(\".\")"
   ]
  },
  {
   "cell_type": "code",
   "execution_count": null,
   "metadata": {
    "deletable": false,
    "editable": false,
    "nbgrader": {
     "cell_type": "code",
     "checksum": "4e641f9f7850c35b90dd0a94c151f7c0",
     "grade": true,
     "grade_id": "cell-69dfc208049b8488",
     "locked": true,
     "points": 3,
     "schema_version": 3,
     "solution": false,
     "task": false
    }
   },
   "outputs": [],
   "source": [
    "# Testing cell\n",
    "\n",
    "path1 = \"./other.ipynb\"\n",
    "path2 = os.path.abspath(\"publicdata\")\n",
    "path3 = \"publicdata/foo.txt\"\n",
    "\n",
    "result = io.StringIO()\n",
    "with redirect_stdout(result):\n",
    "    printType(path1)\n",
    "assert result.getvalue() == \"Is a file\\n\"\n",
    "\n",
    "result = io.StringIO()\n",
    "with redirect_stdout(result):\n",
    "    printType(path2)\n",
    "assert result.getvalue() == \"Is a directory\\n\"\n",
    "\n",
    "result = io.StringIO()\n",
    "with redirect_stdout(result):\n",
    "    printType(path3)\n",
    "assert result.getvalue() == \"Does not exist\\n\""
   ]
  },
  {
   "cell_type": "markdown",
   "metadata": {},
   "source": [
    "**Q** Write a function\n",
    "\n",
    "    vectorLengths(data)\n",
    "\n",
    "that generates and returns a new list, where each element in the created list contains the integer length of the corresponding element from `data`.  So, for example, \n",
    "\n",
    "    vectorLengths(['this', 'is', 'a', 'short', 'list'])\n",
    "\n",
    "yields the list `[4, 2, 1, 5, 4]`."
   ]
  },
  {
   "cell_type": "code",
   "execution_count": null,
   "metadata": {
    "deletable": false,
    "nbgrader": {
     "cell_type": "code",
     "checksum": "b1606582788e055d577ddb51fd8c35ce",
     "grade": true,
     "grade_id": "cell-cfc3510a27b1b462",
     "locked": false,
     "points": 2,
     "schema_version": 3,
     "solution": true,
     "task": false
    }
   },
   "outputs": [],
   "source": [
    "# YOUR CODE HERE\n",
    "raise NotImplementedError()"
   ]
  },
  {
   "cell_type": "markdown",
   "metadata": {},
   "source": [
    "**Q** Write a function \n",
    "\n",
    "    apply_func(f,data) \n",
    "\n",
    "that modifies `data` by applying a function `f` to each item in `data`.  Note that this modifies `data` in place, and does not create a new list, nor return a value from the function."
   ]
  },
  {
   "cell_type": "code",
   "execution_count": null,
   "metadata": {
    "deletable": false,
    "nbgrader": {
     "cell_type": "code",
     "checksum": "6314dbf51c45820b35fd22c3d1a7a945",
     "grade": true,
     "grade_id": "cell-b20194501fa27e7e",
     "locked": false,
     "points": 2,
     "schema_version": 3,
     "solution": true,
     "task": false
    }
   },
   "outputs": [],
   "source": [
    "# Solution cell\n",
    "\n",
    "# YOUR CODE HERE\n",
    "raise NotImplementedError()"
   ]
  },
  {
   "cell_type": "markdown",
   "metadata": {},
   "source": [
    "**Q** Write a general function\n",
    "\n",
    "    apply_binary(vec1,vec2,f)\n",
    "\n",
    "that applies a binary function `f` to two lists `vec1` and `vec2` (of the same length) and returns the resulting list."
   ]
  },
  {
   "cell_type": "code",
   "execution_count": null,
   "metadata": {
    "deletable": false,
    "nbgrader": {
     "cell_type": "code",
     "checksum": "cbdb8333fa3cb6ae29f32edf5e395df1",
     "grade": true,
     "grade_id": "cell-157323bf54c7cabb",
     "locked": false,
     "points": 2,
     "schema_version": 3,
     "solution": true,
     "task": false
    }
   },
   "outputs": [],
   "source": [
    "# Solution cell\n",
    "# YOUR CODE HERE\n",
    "raise NotImplementedError()"
   ]
  }
 ],
 "metadata": {
  "kernelspec": {
   "display_name": "Python 3",
   "language": "python",
   "name": "python3"
  },
  "language_info": {
   "codemirror_mode": {
    "name": "ipython",
    "version": 3
   },
   "file_extension": ".py",
   "mimetype": "text/x-python",
   "name": "python",
   "nbconvert_exporter": "python",
   "pygments_lexer": "ipython3",
   "version": "3.7.6"
  }
 },
 "nbformat": 4,
 "nbformat_minor": 4
}
