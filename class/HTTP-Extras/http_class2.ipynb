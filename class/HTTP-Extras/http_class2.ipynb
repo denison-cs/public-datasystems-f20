{
 "cells": [
  {
   "cell_type": "markdown",
   "metadata": {},
   "source": [
    "# HTTP Additional Coverage"
   ]
  },
  {
   "cell_type": "code",
   "execution_count": 2,
   "metadata": {},
   "outputs": [],
   "source": [
    "import requests"
   ]
  },
  {
   "cell_type": "code",
   "execution_count": 1,
   "metadata": {
    "nbgrader": {
     "grade": false,
     "grade_id": "cell-b9abcf27cf7faf8f",
     "locked": true,
     "schema_version": 3,
     "solution": false,
     "task": false
    }
   },
   "outputs": [
    {
     "data": {
      "text/plain": [
       "<module 'util' from '/Users/tcbressoud/Dropbox/cs181-DataSystems/cs181-bressoud/f20_class/modules/util.py'>"
      ]
     },
     "execution_count": 1,
     "metadata": {},
     "output_type": "execute_result"
    }
   ],
   "source": [
    "import os\n",
    "import os.path\n",
    "import sys\n",
    "import importlib\n",
    "\n",
    "if os.path.isdir(os.path.join(\"../../..\", \"modules\")):\n",
    "    module_dir = os.path.join(\"../../..\", \"modules\")\n",
    "else:\n",
    "    module_dir = os.path.join(\"../..\", \"modules\")\n",
    "\n",
    "module_path = os.path.abspath(module_dir)\n",
    "if not module_path in sys.path:\n",
    "    sys.path.append(module_path)\n",
    "\n",
    "import mysocket as sock\n",
    "importlib.reload(sock)\n",
    "\n",
    "import util\n",
    "importlib.reload(util)"
   ]
  },
  {
   "cell_type": "markdown",
   "metadata": {},
   "source": [
    "## Query String Examples\n",
    "\n",
    "> Important for controlling requests to be used in Web Scraping and in API requests for data.\n",
    "\n",
    "### Standalone Query String URL Encoding"
   ]
  },
  {
   "cell_type": "code",
   "execution_count": 3,
   "metadata": {},
   "outputs": [
    {
     "data": {
      "text/plain": [
       "'Hell%C3%B6%20W%C3%B6rld%40Python%3F'"
      ]
     },
     "execution_count": 3,
     "metadata": {},
     "output_type": "execute_result"
    }
   ],
   "source": [
    "import urllib.parse\n",
    "\n",
    "qstring_value = 'Hellö Wörld@Python?'\n",
    "urllib.parse.quote(qstring_value)"
   ]
  },
  {
   "cell_type": "code",
   "execution_count": 4,
   "metadata": {},
   "outputs": [
    {
     "data": {
      "text/plain": [
       "'Hell%C3%B6+W%C3%B6rld%40Python%3F'"
      ]
     },
     "execution_count": 4,
     "metadata": {},
     "output_type": "execute_result"
    }
   ],
   "source": [
    "urllib.parse.quote_plus(qstring_value)"
   ]
  },
  {
   "cell_type": "code",
   "execution_count": 11,
   "metadata": {},
   "outputs": [
    {
     "data": {
      "text/plain": [
       "'q=Python+URL+encoding&as_sitesearch=www.urlencoder.io&foo=Hell%C3%B6+W%C3%B6rld%40Python%3F'"
      ]
     },
     "execution_count": 11,
     "metadata": {},
     "output_type": "execute_result"
    }
   ],
   "source": [
    "paramD = {'q': 'Python URL encoding', 'as_sitesearch': 'www.urlencoder.io', 'foo': 'Hellö Wörld@Python?'}\n",
    "urllib.parse.urlencode(paramD)"
   ]
  },
  {
   "cell_type": "markdown",
   "metadata": {},
   "source": [
    "### Query String URL Encoding as Part of `requests`\n",
    "\n",
    "#### Separate Generation of Request from Issue and Generation of Response"
   ]
  },
  {
   "cell_type": "code",
   "execution_count": 17,
   "metadata": {},
   "outputs": [
    {
     "name": "stdout",
     "output_type": "stream",
     "text": [
      "https://httpbin.org/get\n"
     ]
    }
   ],
   "source": [
    "location = \"httpbin.org\"\n",
    "resource = \"/get\"\n",
    "url = util.buildURL(resource, location, protocol=\"https\")\n",
    "print(url)\n",
    "\n",
    "paramD = {'q': 'Python URL encoding', 'foo': '?@/'}\n",
    "request = requests.Request(\"GET\", url, params=paramD)\n",
    "prepared = request.prepare()"
   ]
  },
  {
   "cell_type": "code",
   "execution_count": 19,
   "metadata": {},
   "outputs": [
    {
     "name": "stdout",
     "output_type": "stream",
     "text": [
      "/get?q=Python+URL+encoding&foo=%3F%40%2F\n"
     ]
    }
   ],
   "source": [
    "print(prepared.path_url)"
   ]
  },
  {
   "cell_type": "code",
   "execution_count": 20,
   "metadata": {},
   "outputs": [
    {
     "name": "stdout",
     "output_type": "stream",
     "text": [
      "200\n",
      "{'args': {'foo': '?@/', 'q': 'Python URL encoding'}, 'headers': {'Accept-Encoding': 'identity', 'Host': 'httpbin.org', 'X-Amzn-Trace-Id': 'Root=1-5fa15908-5aefc3be1673c7e2092570a5'}, 'origin': '65.185.170.47', 'url': 'https://httpbin.org/get?q=Python+URL+encoding&foo=%3F%40%2F'}\n"
     ]
    }
   ],
   "source": [
    "s = requests.Session()\n",
    "response = s.send(prepared)\n",
    "print(response.status_code)\n",
    "print(response.json())"
   ]
  },
  {
   "cell_type": "markdown",
   "metadata": {},
   "source": [
    "#### Simple Interface"
   ]
  },
  {
   "cell_type": "code",
   "execution_count": 21,
   "metadata": {},
   "outputs": [
    {
     "name": "stdout",
     "output_type": "stream",
     "text": [
      "200\n",
      "{'args': {'foo': '?@/', 'q': 'Python URL encoding'}, 'headers': {'Accept': '*/*', 'Accept-Encoding': 'gzip, deflate', 'Host': 'httpbin.org', 'User-Agent': 'python-requests/2.24.0', 'X-Amzn-Trace-Id': 'Root=1-5fa1599f-4ff272b71fa01dab6a191375'}, 'origin': '65.185.170.47', 'url': 'https://httpbin.org/get?q=Python+URL+encoding&foo=%3F%40%2F'}\n"
     ]
    }
   ],
   "source": [
    "location = \"httpbin.org\"\n",
    "resource = \"/get\"\n",
    "url = util.buildURL(resource, location, protocol=\"https\")\n",
    "\n",
    "paramD = {'q': 'Python URL encoding', 'foo': '?@/'}\n",
    "response = requests.get(url, params=paramD)\n",
    "print(response.status_code)\n",
    "print(response.json())"
   ]
  },
  {
   "cell_type": "markdown",
   "metadata": {},
   "source": [
    "## POST Examples\n",
    "\n",
    "### Socket"
   ]
  },
  {
   "cell_type": "code",
   "execution_count": 48,
   "metadata": {},
   "outputs": [],
   "source": [
    "import json\n",
    "\n",
    "data_string = \"\"\"[\"foo\", \"bar\", {\"a\": 1, \"b\": 2}]\"\"\"\n",
    "\n",
    "request_line = 'POST /post?c=foo&d=baz HTTP/1.1\\r\\n'\n",
    "host_line = 'Host: httpbin.org\\r\\n'\n",
    "one_and_done = 'Connection: close\\r\\n'\n",
    "content = 'Content-Type: application/json\\r\\n'\n",
    "agent = 'User-Agent: curl/7.71.1\\r\\n'\n",
    "empty_line = '\\r\\n'\n",
    "\n",
    "request_message = request_line + host_line + \\\n",
    "                  one_and_done + content + agent + empty_line + data_string"
   ]
  },
  {
   "cell_type": "code",
   "execution_count": 49,
   "metadata": {
    "collapsed": true,
    "jupyter": {
     "outputs_hidden": true
    }
   },
   "outputs": [
    {
     "name": "stdout",
     "output_type": "stream",
     "text": [
      "POST /post?c=foo&d=baz HTTP/1.1\n",
      "Host: httpbin.org\n",
      "Connection: close\n",
      "Content-Type: application/json\n",
      "User-Agent: curl/7.71.1\n",
      "\n",
      "[\"foo\", \"bar\", {\"a\": 1, \"b\": 2}]\n"
     ]
    }
   ],
   "source": [
    "print(request_message)"
   ]
  },
  {
   "cell_type": "code",
   "execution_count": 50,
   "metadata": {
    "collapsed": true,
    "jupyter": {
     "outputs_hidden": true
    }
   },
   "outputs": [
    {
     "name": "stdout",
     "output_type": "stream",
     "text": [
      "HTTP/1.1 200 OK\n",
      "Date: Tue, 03 Nov 2020 14:07:11 GMT\n",
      "Content-Type: application/json\n",
      "Content-Length: 384\n",
      "Connection: close\n",
      "Server: gunicorn/19.9.0\n",
      "Access-Control-Allow-Origin: *\n",
      "Access-Control-Allow-Credentials: true\n",
      "\n",
      "{\n",
      "  \"args\": {\n",
      "    \"c\": \"foo\", \n",
      "    \"d\": \"baz\"\n",
      "  }, \n",
      "  \"data\": \"\", \n",
      "  \"files\": {}, \n",
      "  \"form\": {}, \n",
      "  \"headers\": {\n",
      "    \"Content-Type\": \"application/json\", \n",
      "    \"Host\": \"httpbin.org\", \n",
      "    \"User-Agent\": \"curl/7.71.1\", \n",
      "    \"X-Amzn-Trace-Id\": \"Root=1-5fa1640f-032dd4396d74f6f451eed86b\"\n",
      "  }, \n",
      "  \"json\": null, \n",
      "  \"origin\": \"65.185.170.47\", \n",
      "  \"url\": \"http://httpbin.org/post?c=foo&d=baz\"\n",
      "}\n",
      "\n"
     ]
    }
   ],
   "source": [
    "connection = sock.makeConnection(\"httpbin.org\", 80)\n",
    "sock.sendString(connection, request_message)\n",
    "reply = sock.receiveTillClose(connection)\n",
    "connection.close()\n",
    "print(reply)"
   ]
  },
  {
   "cell_type": "code",
   "execution_count": 51,
   "metadata": {},
   "outputs": [
    {
     "name": "stdout",
     "output_type": "stream",
     "text": [
      "POST /post?c=foo&d=baz HTTP/1.1\n",
      "Host: httpbin.org\n",
      "Connection: close\n",
      "\n",
      "q=Python+URL+encoding&foo=%3F%40%2F\n"
     ]
    }
   ],
   "source": [
    "formD = {'q': 'Python URL encoding', 'foo': '?@/'}\n",
    "data_string = urllib.parse.urlencode(formD)\n",
    "\n",
    "request_line = 'POST /post?c=foo&d=baz HTTP/1.1\\r\\n'\n",
    "host_line = 'Host: httpbin.org\\r\\n'\n",
    "one_and_done = 'Connection: close\\r\\n'\n",
    "empty_line = '\\r\\n'\n",
    "\n",
    "request_message = request_line + host_line + \\\n",
    "                  one_and_done + empty_line + data_string\n",
    "print(request_message)"
   ]
  },
  {
   "cell_type": "code",
   "execution_count": 52,
   "metadata": {},
   "outputs": [
    {
     "name": "stdout",
     "output_type": "stream",
     "text": [
      "HTTP/1.1 200 OK\n",
      "Date: Tue, 03 Nov 2020 14:07:16 GMT\n",
      "Content-Type: application/json\n",
      "Content-Length: 309\n",
      "Connection: close\n",
      "Server: gunicorn/19.9.0\n",
      "Access-Control-Allow-Origin: *\n",
      "Access-Control-Allow-Credentials: true\n",
      "\n",
      "{\n",
      "  \"args\": {\n",
      "    \"c\": \"foo\", \n",
      "    \"d\": \"baz\"\n",
      "  }, \n",
      "  \"data\": \"\", \n",
      "  \"files\": {}, \n",
      "  \"form\": {}, \n",
      "  \"headers\": {\n",
      "    \"Host\": \"httpbin.org\", \n",
      "    \"X-Amzn-Trace-Id\": \"Root=1-5fa16414-15485d3b373da44679321001\"\n",
      "  }, \n",
      "  \"json\": null, \n",
      "  \"origin\": \"65.185.170.47\", \n",
      "  \"url\": \"http://httpbin.org/post?c=foo&d=baz\"\n",
      "}\n",
      "\n"
     ]
    }
   ],
   "source": [
    "connection = sock.makeConnection(\"httpbin.org\", 80)\n",
    "sock.sendString(connection, request_message)\n",
    "reply = sock.receiveTillClose(connection)\n",
    "connection.close()\n",
    "print(reply)"
   ]
  },
  {
   "cell_type": "markdown",
   "metadata": {},
   "source": [
    "### curl"
   ]
  },
  {
   "cell_type": "code",
   "execution_count": 35,
   "metadata": {
    "collapsed": true,
    "jupyter": {
     "outputs_hidden": true
    }
   },
   "outputs": [
    {
     "name": "stdout",
     "output_type": "stream",
     "text": [
      "*   Trying 18.208.255.250:80...\n",
      "* Connected to httpbin.org (18.208.255.250) port 80 (#0)\n",
      "> POST /post HTTP/1.1\n",
      "> Host: httpbin.org\n",
      "> User-Agent: curl/7.71.1\n",
      "> Accept: */*\n",
      "> Content-Length: 33\n",
      "> Expect: 100-continue\n",
      "> \n",
      "* Mark bundle as not supporting multiuse\n",
      "< HTTP/1.1 100 Continue\n",
      "* We are completely uploaded and fine\n",
      "* Mark bundle as not supporting multiuse\n",
      "< HTTP/1.1 200 OK\n",
      "< Date: Tue, 03 Nov 2020 14:02:36 GMT\n",
      "< Content-Type: application/json\n",
      "< Content-Length: 454\n",
      "< Connection: keep-alive\n",
      "< Server: gunicorn/19.9.0\n",
      "< Access-Control-Allow-Origin: *\n",
      "< Access-Control-Allow-Credentials: true\n",
      "< \n",
      "{\n",
      "  \"args\": {}, \n",
      "  \"data\": \"[\\\"foo\\\", \\\"bar\\\", {\\\"a\\\": 1, \\\"b\\\": 2}]\\n\", \n",
      "  \"files\": {}, \n",
      "  \"form\": {}, \n",
      "  \"headers\": {\n",
      "    \"Accept\": \"*/*\", \n",
      "    \"Content-Length\": \"33\", \n",
      "    \"Host\": \"httpbin.org\", \n",
      "    \"User-Agent\": \"curl/7.71.1\", \n",
      "    \"X-Amzn-Trace-Id\": \"Root=1-5fa162fc-3da6d6b702bc4d2b73bc5b8a\"\n",
      "  }, \n",
      "  \"json\": [\n",
      "    \"foo\", \n",
      "    \"bar\", \n",
      "    {\n",
      "      \"a\": 1, \n",
      "      \"b\": 2\n",
      "    }\n",
      "  ], \n",
      "  \"origin\": \"65.185.170.47\", \n",
      "  \"url\": \"http://httpbin.org/post\"\n",
      "}\n",
      "* Connection #0 to host httpbin.org left intact\n"
     ]
    }
   ],
   "source": [
    "!curl -X POST -s -v -T postdata.json \"http://httpbin.org/post\""
   ]
  },
  {
   "cell_type": "code",
   "execution_count": 54,
   "metadata": {
    "collapsed": true,
    "jupyter": {
     "outputs_hidden": true
    }
   },
   "outputs": [
    {
     "name": "stdout",
     "output_type": "stream",
     "text": [
      "*   Trying 35.170.225.136:80...\n",
      "* Connected to httpbin.org (35.170.225.136) port 80 (#0)\n",
      "> POST /post?a=1&b=2 HTTP/1.1\n",
      "> Host: httpbin.org\n",
      "> User-Agent: curl/7.71.1\n",
      "> Accept: */*\n",
      "> Content-Length: 36\n",
      "> Content-Type: application/x-www-form-urlencoded\n",
      "> \n",
      "* upload completely sent off: 36 out of 36 bytes\n",
      "* Mark bundle as not supporting multiuse\n",
      "< HTTP/1.1 200 OK\n",
      "< Date: Tue, 03 Nov 2020 14:10:14 GMT\n",
      "< Content-Type: application/json\n",
      "< Content-Length: 504\n",
      "< Connection: keep-alive\n",
      "< Server: gunicorn/19.9.0\n",
      "< Access-Control-Allow-Origin: *\n",
      "< Access-Control-Allow-Credentials: true\n",
      "< \n",
      "{\n",
      "  \"args\": {\n",
      "    \"a\": \"1\", \n",
      "    \"b\": \"2\"\n",
      "  }, \n",
      "  \"data\": \"\", \n",
      "  \"files\": {}, \n",
      "  \"form\": {\n",
      "    \"newYear\": \"Get different year\", \n",
      "    \"year\": \"2001\"\n",
      "  }, \n",
      "  \"headers\": {\n",
      "    \"Accept\": \"*/*\", \n",
      "    \"Content-Length\": \"36\", \n",
      "    \"Content-Type\": \"application/x-www-form-urlencoded\", \n",
      "    \"Host\": \"httpbin.org\", \n",
      "    \"User-Agent\": \"curl/7.71.1\", \n",
      "    \"X-Amzn-Trace-Id\": \"Root=1-5fa164c6-00737d77087f315908fcd3cc\"\n",
      "  }, \n",
      "  \"json\": null, \n",
      "  \"origin\": \"65.185.170.47\", \n",
      "  \"url\": \"http://httpbin.org/post?a=1&b=2\"\n",
      "}\n",
      "* Connection #0 to host httpbin.org left intact\n"
     ]
    }
   ],
   "source": [
    "!curl -X POST -s -v -d year=2001 -d newYear='Get+different+year' \"http://httpbin.org/post?a=1&b=2\""
   ]
  },
  {
   "cell_type": "markdown",
   "metadata": {},
   "source": [
    "### requests"
   ]
  },
  {
   "cell_type": "code",
   "execution_count": 63,
   "metadata": {},
   "outputs": [],
   "source": [
    "location = \"httpbin.org\"\n",
    "resource = \"/post\"\n",
    "\n",
    "url = util.buildURL(resource, location, protocol=\"https\")\n",
    "\n",
    "paramD = {'a': 'foo', 'b': 'bar'}\n",
    "formD = {'q': 'Python URL encoding', 'foo': '?@/'}\n",
    "headerD = {'Accept': 'application/json'}"
   ]
  },
  {
   "cell_type": "code",
   "execution_count": 64,
   "metadata": {},
   "outputs": [],
   "source": [
    "request = requests.Request(\"POST\", url, params=paramD, data=formD, headers=headerD)\n",
    "prepared = request.prepare()"
   ]
  },
  {
   "cell_type": "code",
   "execution_count": 65,
   "metadata": {
    "collapsed": true,
    "jupyter": {
     "outputs_hidden": true
    }
   },
   "outputs": [
    {
     "name": "stdout",
     "output_type": "stream",
     "text": [
      "URI: /post?a=foo&b=bar\n",
      "Request Headers: {'Accept': 'application/json', 'Content-Length': '35', 'Content-Type': 'application/x-www-form-urlencoded'}\n",
      "Body: q=Python+URL+encoding&foo=%3F%40%2F\n"
     ]
    }
   ],
   "source": [
    "print(\"URI:\", prepared.path_url)\n",
    "print(\"Request Headers:\", prepared.headers)\n",
    "print(\"Body:\", prepared.body)"
   ]
  },
  {
   "cell_type": "code",
   "execution_count": 66,
   "metadata": {
    "collapsed": true,
    "jupyter": {
     "outputs_hidden": true
    }
   },
   "outputs": [
    {
     "name": "stdout",
     "output_type": "stream",
     "text": [
      "200\n",
      "{'args': {'a': 'foo', 'b': 'bar'}, 'data': '', 'files': {}, 'form': {'foo': '?@/', 'q': 'Python URL encoding'}, 'headers': {'Accept': 'application/json', 'Accept-Encoding': 'gzip, deflate', 'Content-Length': '35', 'Content-Type': 'application/x-www-form-urlencoded', 'Host': 'httpbin.org', 'User-Agent': 'python-requests/2.24.0', 'X-Amzn-Trace-Id': 'Root=1-5fa16835-44b7b2dc5305bddb5d134a7d'}, 'json': None, 'origin': '65.185.170.47', 'url': 'https://httpbin.org/post?a=foo&b=bar'}\n"
     ]
    }
   ],
   "source": [
    "response = requests.post(url, params=paramD, data=formD, headers=headerD)\n",
    "print(response.status_code)\n",
    "print(response.json())"
   ]
  },
  {
   "cell_type": "markdown",
   "metadata": {},
   "source": [
    "## Encoding -- Characters to Bytes"
   ]
  },
  {
   "cell_type": "code",
   "execution_count": 68,
   "metadata": {},
   "outputs": [],
   "source": [
    "mystring = 'Hellö Wörld@Python?'\n",
    "mybytes8 = mystring.encode('UTF-8')\n",
    "mybytes16 = mystring.encode('UTF-16BE')"
   ]
  },
  {
   "cell_type": "code",
   "execution_count": 69,
   "metadata": {},
   "outputs": [
    {
     "data": {
      "text/plain": [
       "19"
      ]
     },
     "execution_count": 69,
     "metadata": {},
     "output_type": "execute_result"
    }
   ],
   "source": [
    "len(mystring)"
   ]
  },
  {
   "cell_type": "code",
   "execution_count": 70,
   "metadata": {},
   "outputs": [
    {
     "data": {
      "text/plain": [
       "21"
      ]
     },
     "execution_count": 70,
     "metadata": {},
     "output_type": "execute_result"
    }
   ],
   "source": [
    "len(mybytes8)"
   ]
  },
  {
   "cell_type": "code",
   "execution_count": 71,
   "metadata": {},
   "outputs": [
    {
     "data": {
      "text/plain": [
       "38"
      ]
     },
     "execution_count": 71,
     "metadata": {},
     "output_type": "execute_result"
    }
   ],
   "source": [
    "len(mybytes16)"
   ]
  },
  {
   "cell_type": "code",
   "execution_count": 72,
   "metadata": {},
   "outputs": [
    {
     "data": {
      "text/plain": [
       "bytes"
      ]
     },
     "execution_count": 72,
     "metadata": {},
     "output_type": "execute_result"
    }
   ],
   "source": [
    "type(mybytes8)"
   ]
  },
  {
   "cell_type": "code",
   "execution_count": 73,
   "metadata": {},
   "outputs": [
    {
     "data": {
      "text/plain": [
       "'48656c6cc3b62057c3b6726c6440507974686f6e3f'"
      ]
     },
     "execution_count": 73,
     "metadata": {},
     "output_type": "execute_result"
    }
   ],
   "source": [
    "mybytes8.hex()"
   ]
  },
  {
   "cell_type": "code",
   "execution_count": 74,
   "metadata": {},
   "outputs": [
    {
     "data": {
      "text/plain": [
       "b'Hell\\xc3\\xb6 W\\xc3\\xb6rld@Python?'"
      ]
     },
     "execution_count": 74,
     "metadata": {},
     "output_type": "execute_result"
    }
   ],
   "source": [
    "mybytes8"
   ]
  },
  {
   "cell_type": "code",
   "execution_count": null,
   "metadata": {},
   "outputs": [],
   "source": [
    "mybytes8.decode()"
   ]
  }
 ],
 "metadata": {
  "kernelspec": {
   "display_name": "Python 3",
   "language": "python",
   "name": "python3"
  },
  "language_info": {
   "codemirror_mode": {
    "name": "ipython",
    "version": 3
   },
   "file_extension": ".py",
   "mimetype": "text/x-python",
   "name": "python",
   "nbconvert_exporter": "python",
   "pygments_lexer": "ipython3",
   "version": "3.7.6"
  }
 },
 "nbformat": 4,
 "nbformat_minor": 4
}
