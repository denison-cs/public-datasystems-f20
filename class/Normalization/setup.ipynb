{
 "cells": [
  {
   "cell_type": "markdown",
   "metadata": {},
   "source": [
    "Before you turn this problem in, make sure everything runs as expected. First, **restart the kernel** (in the menubar, select Kernel$\\rightarrow$Restart) and then **run all cells** (in the menubar, select Cell$\\rightarrow$Run All).\n",
    "\n",
    "Make sure you fill in any place that says `YOUR CODE HERE` or \"YOUR ANSWER HERE\", as well as your name and collaborators below:"
   ]
  },
  {
   "cell_type": "code",
   "execution_count": null,
   "metadata": {},
   "outputs": [],
   "source": [
    "NAME = \"\"\n",
    "COLLABORATORS = \"\""
   ]
  },
  {
   "cell_type": "markdown",
   "metadata": {},
   "source": [
    "---"
   ]
  },
  {
   "cell_type": "code",
   "execution_count": null,
   "metadata": {},
   "outputs": [],
   "source": [
    "import os\n",
    "import os.path\n",
    "import pandas as pd\n",
    "\n",
    "datadir = \"publicdata\""
   ]
  },
  {
   "cell_type": "code",
   "execution_count": null,
   "metadata": {},
   "outputs": [],
   "source": [
    "def meta2country_aggs(path):\n",
    "    df = pd.read_csv(path)\n",
    "    df.columns=['code', 'region', 'income', 'notes', 'country', 'extra']\n",
    "    df.set_index('code',inplace=True)\n",
    "    notaggs = df[pd.notna(df.region)].drop(['notes','extra'], axis=1)\n",
    "    aggs = df[pd.isna(df.region)].drop(['region','notes','income','extra'], axis=1)\n",
    "    aggs.columns=['aggregate']\n",
    "    notaggs = notaggs[['country', 'region', 'income']].copy()\n",
    "    return notaggs, aggs\n",
    "\n",
    "def ind2df(path, aggregates, indicator):\n",
    "    df = pd.read_csv(path, skiprows=4)\n",
    "    df.rename({'Country Name': 'country', 'Country Code': 'code', \n",
    "               'Indicator Name': 'indicator', 'Indicator Code': 'icode'}, \n",
    "               axis=1, inplace=True)\n",
    "    df.set_index('code', inplace=True)\n",
    "    df.drop(list(aggregates.index), axis=0, inplace=True)\n",
    "    #print(len(df))\n",
    "    for column_label in list(df.columns)[-1::-1]:\n",
    "        found_non_null = False\n",
    "        if df[column_label].isnull().all():\n",
    "            #print(\"Column {} all NaN\".format(column_label))\n",
    "            df.drop(column_label, axis=1, inplace=True)\n",
    "        else:\n",
    "            break\n",
    "    df.drop(['country', 'indicator', 'icode'], axis=1, inplace=True)\n",
    "    df.reset_index(inplace=True)\n",
    "    melted = df.melt(id_vars='code', var_name='year', value_name=indicator)\n",
    "    melted = melted.astype({'year': int})\n",
    "    melted.set_index(['year', 'code'], inplace=True)\n",
    "    melted.sort_index(inplace=True)\n",
    "    return melted\n",
    "\n",
    "def subsetind(oneindicator, year=2016, code=['USA','CAN']):\n",
    "    \"\"\" Subset a single indicator in both year(s) and country code(s)\n",
    "    \"\"\"\n",
    "    levellist = []\n",
    "    if isinstance(year, int):\n",
    "        yearsubset = oneindicator.xs(key=year, level='year').copy()\n",
    "    else:\n",
    "        yearsubset = oneindicator.loc[year].copy()\n",
    "        levellist.append('year')\n",
    "    \n",
    "    yearsubset.reset_index(inplace=True)\n",
    "    \n",
    "    if isinstance(code, str):\n",
    "        subset = yearsubset[yearsubset.code == code].copy()\n",
    "    else:\n",
    "        subset = yearsubset[yearsubset.code.apply(lambda x: x in code)].copy()\n",
    "    levellist.append('code')\n",
    "    subset.set_index(levellist, inplace=True)\n",
    "    subset.sort_index(inplace=True)\n",
    "    \n",
    "    return subset\n",
    "\n",
    "def build_indicators(indlist, conversions, metalist, yearlist, codelist, \n",
    "                     aggregates, countrydf, datadir):\n",
    "    conversions = conversions.copy()\n",
    "    indicator = indlist[0]\n",
    "    convscale, convround = conversions.pop(0)\n",
    "    path = os.path.join(datadir, indicator+'.csv')\n",
    "    oneindicator = ind2df(path, aggregates, indicator)\n",
    "    df = subsetind(oneindicator, year=yearlist, code=codelist)\n",
    "    df[indicator] = round(df[indicator] / convscale, convround)\n",
    "    for indicator in indlist[1:]:\n",
    "        convscale, convround = conversions.pop(0)\n",
    "        path = os.path.join(datadir, indicator+'.csv')\n",
    "        oneindicator = ind2df(path, aggregates, indicator)\n",
    "        nextdf = subsetind(oneindicator, year=yearlist, code=codelist)\n",
    "        nextdf[indicator] = round(nextdf[indicator] / convscale, convround)\n",
    "        df = pd.concat([df, nextdf], axis=1)\n",
    "\n",
    "    countrydf2 = countrydf.loc[codelist].copy()\n",
    "    countrydf2.reset_index(inplace=True)\n",
    "\n",
    "    metalist2 = ['code'] + metalist\n",
    "    metasub = countrydf2.loc[:, metalist2].copy()\n",
    "    metasub\n",
    "\n",
    "    df.reset_index(inplace=True)\n",
    "\n",
    "    result = pd.merge(metasub, df, on='code', how='inner')\n",
    "    if isinstance(yearlist, int):\n",
    "        result = result.set_index('code')\n",
    "    else:\n",
    "        result = result.set_index(['year', 'code'])\n",
    "    result = result.sort_index()\n",
    "    return result\n"
   ]
  },
  {
   "cell_type": "code",
   "execution_count": null,
   "metadata": {},
   "outputs": [],
   "source": [
    "path = os.path.join(datadir, \"worldbank\", \"countrymeta.csv\")\n",
    "countrymeta, aggregates = meta2country_aggs(path)"
   ]
  },
  {
   "cell_type": "code",
   "execution_count": null,
   "metadata": {},
   "outputs": [],
   "source": [
    "path = os.path.join(datadir, 'worldbank', 'land.csv')\n",
    "landindicator = ind2df(path, aggregates, 'land')\n",
    "lastyear = list(landindicator.index.levels[0])[-1]\n",
    "latestland = landindicator.xs(key=lastyear, level='year')\n",
    "countrydf = countrymeta.join(latestland, how=\"left\")\n"
   ]
  },
  {
   "cell_type": "code",
   "execution_count": null,
   "metadata": {},
   "outputs": [],
   "source": [
    "path = os.path.join(datadir, \"topnames.csv\")\n",
    "topnames0 = pd.read_csv(path)\n",
    "topnames = topnames0.set_index(['year', 'sex'])\n"
   ]
  },
  {
   "cell_type": "code",
   "execution_count": null,
   "metadata": {},
   "outputs": [],
   "source": [
    "indlist = ['pop', 'gdp', 'life']\n",
    "conversions = [(1000000, 2), (1000000000, 2), (1, 2)]\n",
    "metalist = ['country', 'land']\n",
    "yearlist = 2017\n",
    "codelist = ['CHN', 'IND', 'USA', 'GBR']\n",
    "\n",
    "inddatadir = os.path.join(datadir, \"worldbank\")\n",
    "df = build_indicators(indlist, conversions, metalist, yearlist, codelist, \n",
    "                      aggregates, countrydf, inddatadir)\n",
    "df.reset_index(inplace=True)\n",
    "newcountry = df['country'].combine(df['code'], lambda x, y: \"{}--{}\".format(y, x))\n",
    "df = df.drop(['code','country'], axis=1)\n",
    "df['country'] = newcountry\n",
    "df.set_index('country', inplace=True)\n",
    "df\n"
   ]
  },
  {
   "cell_type": "code",
   "execution_count": null,
   "metadata": {},
   "outputs": [],
   "source": [
    "df.to_csv(os.path.join(datadir, \"mashup1.csv\"), index=True)"
   ]
  },
  {
   "cell_type": "code",
   "execution_count": null,
   "metadata": {},
   "outputs": [],
   "source": [
    "path = os.path.join(datadir, \"tourism2.csv\")\n",
    "metropolis = pd.read_csv(path)\n",
    "metropolis = metropolis[['date','visitors', 'roomsavail', 'occupancy', 'gamingrevenue']].copy()\n",
    "metropolis.columns = ['date', 'visitors', 'rooms', 'occupancy', 'revenue']\n",
    "metropolis2 = metropolis.sort_values('date')\n",
    "#lasvegas2.head()\n",
    "metropolishead = metropolis.head()"
   ]
  },
  {
   "cell_type": "code",
   "execution_count": null,
   "metadata": {},
   "outputs": [],
   "source": [
    "metropolis2.to_csv(os.path.join(datadir, \"metropolis.csv\"), index=False)"
   ]
  },
  {
   "cell_type": "code",
   "execution_count": null,
   "metadata": {},
   "outputs": [],
   "source": [
    "indlist = ['pop', 'gdp', 'exports']\n",
    "conversions = [(1000000, 2), (1000000000, 2), (1000000000, 2)]\n",
    "metalist = []\n",
    "yearlist = 2017\n",
    "codelist = ['CHN', 'IND', 'GBR']\n",
    "\n",
    "inddatadir = os.path.join(datadir, \"worldbank\")\n",
    "df = build_indicators(indlist, conversions, metalist, yearlist, codelist, \n",
    "                      aggregates, countrydf, inddatadir)\n",
    "messy1 = df.reset_index()\n",
    "messy2 = messy1.melt(id_vars='code', \n",
    "                     value_vars = ['pop', 'gdp', 'exports'],\n",
    "                     var_name = 'indicator', value_name = 'value')\n",
    "messy3 = messy2.sort_values('code')\n",
    "mult_rows = messy3.reset_index().drop('index', axis=1)"
   ]
  },
  {
   "cell_type": "code",
   "execution_count": null,
   "metadata": {},
   "outputs": [],
   "source": [
    "mult_rows.to_csv(os.path.join(datadir, \"mult_rows.csv\"), index=False)"
   ]
  },
  {
   "cell_type": "code",
   "execution_count": null,
   "metadata": {},
   "outputs": [],
   "source": [
    "indlist = ['pop', 'gdp']\n",
    "conversions = [(1000000, 2), (1000000000, 2)]\n",
    "metalist = []\n",
    "yearlist = [2015, 2017]\n",
    "codelist = ['CHN', 'IND', 'GBR']\n",
    "\n",
    "inddatadir = os.path.join(datadir, \"worldbank\")\n",
    "df = build_indicators(indlist, conversions, metalist, yearlist, codelist, \n",
    "                      aggregates, countrydf, inddatadir)\n",
    "\n",
    "df2 = df.stack()\n",
    "mult_rows2 = df2.reset_index()\n",
    "mult_rows2.columns = ['year', 'code', 'indicator', 'value']\n",
    "mult_rows2.to_csv(os.path.join(datadir, \"mult_rows2.csv\"), index=False)"
   ]
  },
  {
   "cell_type": "code",
   "execution_count": null,
   "metadata": {},
   "outputs": [],
   "source": [
    "indlist = ['pop']\n",
    "conversions = [(1000000, 2)]\n",
    "metalist = []\n",
    "yearlist = [2014, 2015, 2016, 2017]\n",
    "codelist = ['CHN', 'IND', 'USA', 'GBR']\n",
    "\n",
    "inddatadir = os.path.join(datadir, \"worldbank\")\n",
    "df = build_indicators(indlist, conversions, metalist, yearlist, codelist, \n",
    "                      aggregates, countrydf, inddatadir)\n",
    "#df\n",
    "df2 = df.reset_index()\n",
    "df3 = df2.pivot(index='code', columns='year')\n",
    "df4 = df3.droplevel(0, axis=1)\n",
    "df4.columns = ['pop' + str(x) for x in list(df4.columns)]\n",
    "pop_columns = df4.reset_index()\n",
    "pop_columns.to_csv(os.path.join(datadir, \"pop_columns.csv\"), index=False)"
   ]
  },
  {
   "cell_type": "code",
   "execution_count": null,
   "metadata": {},
   "outputs": [],
   "source": [
    "indlist = ['pop', 'gdp']\n",
    "conversions = [(1000000, 2), (1000000000, 2)]\n",
    "metalist = []\n",
    "yearlist = [2015, 2016, 2017]\n",
    "codelist = ['CHN', 'IND', 'USA', 'GBR']\n",
    "\n",
    "inddatadir = os.path.join(datadir, \"worldbank\")\n",
    "df = build_indicators(indlist, conversions, metalist, yearlist, codelist, \n",
    "                      aggregates, countrydf, inddatadir)\n",
    "df2 = df.unstack(level='year')\n",
    "df2.columns = [\"{}{}\".format(x,y) for x,y in df2.columns.tolist()]\n",
    "popgdp_columns = df2\n",
    "popgdp_columns.to_csv(os.path.join(datadir, \"popgdp_columns.csv\"), index=True)"
   ]
  },
  {
   "cell_type": "code",
   "execution_count": null,
   "metadata": {},
   "outputs": [],
   "source": [
    "path = os.path.join(datadir, \"topnames.csv\")\n",
    "topnames = pd.read_csv(path)\n",
    "topnames.set_index(['year', 'sex'], inplace=True)\n",
    "topnames.sort_index(level='year', ascending=False, inplace=True)\n",
    "topnames.reset_index(inplace=True)\n",
    "\n",
    "topfemale = topnames.loc[topnames.sex == 'Female', ['year', 'name', 'count']]\n",
    "topfemale.reset_index(inplace=True)\n",
    "topfemale.drop(axis=1, columns=['index'],inplace=True)\n",
    "topmale = topnames.loc[topnames.sex == 'Male', ['year', 'name', 'count']]\n",
    "topmale.reset_index(inplace=True)\n",
    "topmale.drop(axis=1, columns=['index'],inplace=True)\n",
    "\n",
    "topmale.to_csv(os.path.join(datadir, \"topmale.csv\"), index=False)\n",
    "topfemale.to_csv(os.path.join(datadir, \"topfemale.csv\"), index=False)"
   ]
  },
  {
   "cell_type": "code",
   "execution_count": null,
   "metadata": {},
   "outputs": [],
   "source": [
    "indlist = ['pop', 'gdp']\n",
    "conversions = [(1000000, 2), (1000000000, 2)]\n",
    "metalist = ['country', 'land']\n",
    "yearlist = [2000, 2017]\n",
    "codelist = ['CHN', 'IND', 'USA']\n",
    "\n",
    "inddatadir = os.path.join(datadir, \"worldbank\")\n",
    "df = build_indicators(indlist, conversions, metalist, yearlist, codelist, \n",
    "                      aggregates, countrydf, inddatadir)\n",
    "mixed_table = df.reset_index()\n",
    "mixed_table.to_csv(os.path.join(datadir, \"mixed_table.csv\"), index=False)"
   ]
  },
  {
   "cell_type": "code",
   "execution_count": null,
   "metadata": {},
   "outputs": [],
   "source": []
  }
 ],
 "metadata": {
  "kernelspec": {
   "display_name": "Python 3",
   "language": "python",
   "name": "python3"
  },
  "language_info": {
   "codemirror_mode": {
    "name": "ipython",
    "version": 3
   },
   "file_extension": ".py",
   "mimetype": "text/x-python",
   "name": "python",
   "nbconvert_exporter": "python",
   "pygments_lexer": "ipython3",
   "version": "3.7.6"
  }
 },
 "nbformat": 4,
 "nbformat_minor": 4
}
