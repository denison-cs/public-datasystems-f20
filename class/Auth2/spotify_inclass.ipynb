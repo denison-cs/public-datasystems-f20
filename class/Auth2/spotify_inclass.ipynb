{
 "cells": [
  {
   "cell_type": "code",
   "execution_count": 5,
   "metadata": {
    "nbgrader": {
     "grade": false,
     "grade_id": "cell-b9abcf27cf7faf8f",
     "locked": true,
     "schema_version": 3,
     "solution": false,
     "task": false
    }
   },
   "outputs": [],
   "source": [
    "import requests\n",
    "\n",
    "import os\n",
    "import os.path\n",
    "import sys\n",
    "import importlib\n",
    "import webbrowser\n",
    "import base64\n",
    "from datetime import datetime, timedelta\n",
    "from requests.auth import HTTPBasicAuth\n",
    "\n",
    "if os.path.isdir(os.path.join(\"../../..\", \"modules\")):\n",
    "    module_dir = os.path.join(\"../../..\", \"modules\")\n",
    "else:\n",
    "    module_dir = os.path.join(\"../..\", \"modules\")\n",
    "\n",
    "module_path = os.path.abspath(module_dir)\n",
    "if not module_path in sys.path:\n",
    "    sys.path.append(module_path)"
   ]
  },
  {
   "cell_type": "code",
   "execution_count": 6,
   "metadata": {
    "nbgrader": {
     "grade": false,
     "grade_id": "cell-b9abcf27cf7faf8f",
     "locked": true,
     "schema_version": 3,
     "solution": false,
     "task": false
    }
   },
   "outputs": [
    {
     "data": {
      "text/plain": [
       "<module 'util' from '/Users/bressoud/Dropbox/cs181-DataSystems/cs181-bressoud/f20_class/modules/util.py'>"
      ]
     },
     "execution_count": 6,
     "metadata": {},
     "output_type": "execute_result"
    }
   ],
   "source": [
    "import util\n",
    "importlib.reload(util)"
   ]
  },
  {
   "cell_type": "markdown",
   "metadata": {},
   "source": [
    "## Pre-Stage\n",
    "\n",
    "The following link is where Spotify provides instructions for the **Authorization Code Flow**, which is the flow covered in class to obtain delegated authority.  We provide our own summary of Spotify-specific steps, and these presume that you have already created a Spotify account.\n",
    "\n",
    "https://developer.spotify.com/documentation/web-api/quick-start/\n",
    "\n",
    "### Spotify Developer Steps\n",
    "\n",
    "1. Go to https://developer.spotify.com/dashboard/login, logging in to authenticate yourself as a client developer.\n",
    "\n",
    "2. On the Dashboard, use the `Create A Client ID` or, equivalently, click the `My New App` template box.\n",
    "\n",
    "3. In the \"Create an App\" dialog, give your app a name, perhaps something like `cs181-<login>`, using your Denison login.\n",
    "    - Add whatever description you like.\n",
    "    - Click the checkboxes.\n",
    "\n",
    "    - You should see a message that your application has been created, and be on a page dedicated to that application.\n",
    "    \n",
    "5. Click the `Edit Settings` button and fill in the form as follows:\n",
    "\n",
    "    - For `Website`, I use `https://datasystems.denison.edu`.  You can use the same, or you can use some other web site that you are affiliated with.  For some API providers, they check to see if the web site exists.\n",
    "    \n",
    "    - For `Redirect URIs`, enter `https://caileighmarshall.github.io/cs181project/` (including the trailing slash), and click `Add`.\n",
    "    \n",
    "    - Click `Save` to save your application settings edits.\n",
    "    \n",
    "6. On your application page, click `Show Client Secret`, and leave the page up for the next set of steps.\n",
    "\n",
    "### Record Credentials Information\n",
    "\n",
    "1. In the same folder as this notebook, right-click on `creds.json` and `Open With` and select `Editor`.\n",
    "\n",
    "2. Verify that, for the `\"spotify\"` entry, that the `\"redirect_uri\"` entry has the value `\"https://caileighmarshall.github.io/cs181project/\"`.\n",
    "\n",
    "3. For the `\"client_id\"` entry, copy and paste the 32 character `Client ID` from your Application Dashboard as a string for that entry.\n",
    "\n",
    "4. For the `\"client_secret\"` entry, copy and paste the 32 character `Client Secret` from your Application Dashboard as a string for that entry.\n",
    "\n",
    "5. Save your changes to the `creds.json` file.  You may want to open it using the JSON navigator to make sure your JSON syntax is correct.\n",
    "\n",
    "If the `read_creds()` function invocation in the cell below is not successful, check your steps again."
   ]
  },
  {
   "cell_type": "code",
   "execution_count": 7,
   "metadata": {},
   "outputs": [],
   "source": [
    "creds = util.read_creds(\"spotify\")"
   ]
  },
  {
   "cell_type": "markdown",
   "metadata": {},
   "source": [
    "## Stage 1: Obtain a Code"
   ]
  },
  {
   "cell_type": "markdown",
   "metadata": {},
   "source": [
    "### Build URL for User Auth\n",
    "\n",
    "The following cells are going to be used to construct a URL.  An HTTP GET would be performed at this URL **by the Resource Owner**, taking them to a `Spotify` authentication and dialog, where they are asked if they approve of a particular application being able to perform certain categories of operations with their (the resource owner's) Spotify account.  The user can either approve, or can deny the application the ability to do these operations.  This corresponds to **Step 2** of the OAuth dance."
   ]
  },
  {
   "cell_type": "markdown",
   "metadata": {},
   "source": [
    "In the cell below, we create a random string that will be used for the **state** parameter in the flow that follows.  Note that we use `util.update_creds()` after we update the in-memory `creds` data structure, so that we do not have to manually edit the `creds.json` file."
   ]
  },
  {
   "cell_type": "code",
   "execution_count": 8,
   "metadata": {},
   "outputs": [],
   "source": [
    "state = util.random_string()\n",
    "creds['state'] = state\n",
    "util.update_creds(\"spotify\", creds)"
   ]
  },
  {
   "cell_type": "markdown",
   "metadata": {},
   "source": [
    "The link below takes you to the Spotify documentation, which you should use to determine and set\n",
    "\n",
    "- resource path\n",
    "- location\n",
    "- query parameters\n",
    "\n",
    "in the cell that follows, providing the information needed to build the URL.\n",
    "\n",
    "https://developer.spotify.com/documentation/general/guides/authorization-guide/#authorization-code-flow"
   ]
  },
  {
   "cell_type": "code",
   "execution_count": 9,
   "metadata": {},
   "outputs": [
    {
     "ename": "IndexError",
     "evalue": "string index out of range",
     "output_type": "error",
     "traceback": [
      "\u001b[0;31m---------------------------------------------------------------------------\u001b[0m",
      "\u001b[0;31mIndexError\u001b[0m                                Traceback (most recent call last)",
      "\u001b[0;32m<ipython-input-9-326d5aff3e92>\u001b[0m in \u001b[0;36m<module>\u001b[0;34m\u001b[0m\n\u001b[0;32m----> 1\u001b[0;31m \u001b[0murl\u001b[0m \u001b[0;34m=\u001b[0m \u001b[0mutil\u001b[0m\u001b[0;34m.\u001b[0m\u001b[0mbuildURL\u001b[0m\u001b[0;34m(\u001b[0m\u001b[0;34m\"\"\u001b[0m\u001b[0;34m,\u001b[0m \u001b[0;34m\"\"\u001b[0m\u001b[0;34m)\u001b[0m\u001b[0;34m\u001b[0m\u001b[0;34m\u001b[0m\u001b[0m\n\u001b[0m\u001b[1;32m      2\u001b[0m paramsD = {\n\u001b[1;32m      3\u001b[0m }\n",
      "\u001b[0;32m~/Dropbox/cs181-DataSystems/cs181-bressoud/f20_class/modules/util.py\u001b[0m in \u001b[0;36mbuildURL\u001b[0;34m(resource_path, host, protocol, extension, port)\u001b[0m\n\u001b[1;32m      7\u001b[0m def buildURL(resource_path, host=\"httpbin.org\", protocol=\"https\", \n\u001b[1;32m      8\u001b[0m              extension=None, port=None):\n\u001b[0;32m----> 9\u001b[0;31m     \u001b[0;32mif\u001b[0m \u001b[0mresource_path\u001b[0m\u001b[0;34m[\u001b[0m\u001b[0;36m0\u001b[0m\u001b[0;34m]\u001b[0m \u001b[0;34m!=\u001b[0m \u001b[0;34m'/'\u001b[0m\u001b[0;34m:\u001b[0m\u001b[0;34m\u001b[0m\u001b[0;34m\u001b[0m\u001b[0m\n\u001b[0m\u001b[1;32m     10\u001b[0m         \u001b[0mresource_path\u001b[0m \u001b[0;34m=\u001b[0m \u001b[0;34m'/'\u001b[0m \u001b[0;34m+\u001b[0m \u001b[0mresource_path\u001b[0m\u001b[0;34m\u001b[0m\u001b[0;34m\u001b[0m\u001b[0m\n\u001b[1;32m     11\u001b[0m \u001b[0;34m\u001b[0m\u001b[0m\n",
      "\u001b[0;31mIndexError\u001b[0m: string index out of range"
     ]
    }
   ],
   "source": [
    "url = util.buildURL(\"\", \"\")\n",
    "paramsD = {\n",
    "}"
   ]
  },
  {
   "cell_type": "markdown",
   "metadata": {},
   "source": [
    "The cell below build the request itself, passing the `url` and the `paramsD` as part of assembling a `GET` HTTP request."
   ]
  },
  {
   "cell_type": "code",
   "execution_count": 27,
   "metadata": {},
   "outputs": [
    {
     "name": "stdout",
     "output_type": "stream",
     "text": [
      "https://accounts.spotify.com/authorize?client_id=f04803fe20d94f03ab03cf7e15acae96&response_type=code&redirect_uri=https%3A%2F%2Fcaileighmarshall.github.io%2Fcs181project%2F&state=YAHQDT9D&show_dialog=true\n"
     ]
    }
   ],
   "source": [
    "s = requests.Session()\n",
    "req = requests.Request('GET', url, params=paramsD)\n",
    "\n",
    "prepped = s.prepare_request(req)\n",
    "user_url = prepped.url\n",
    "print(user_url)"
   ]
  },
  {
   "cell_type": "markdown",
   "metadata": {},
   "source": [
    "> After you run the next cell, and you (presumably) approve (i.e. you give delegated authority to the application), you will be redirected to the `redirect_uri` site. When you get there, copy the long string of characters, called a `code` and displayed in red, and then come back to this notebook."
   ]
  },
  {
   "cell_type": "code",
   "execution_count": 28,
   "metadata": {},
   "outputs": [
    {
     "data": {
      "text/plain": [
       "True"
      ]
     },
     "execution_count": 28,
     "metadata": {},
     "output_type": "execute_result"
    }
   ],
   "source": [
    "webbrowser.open(user_url)"
   ]
  },
  {
   "cell_type": "markdown",
   "metadata": {},
   "source": [
    "## Communicate Code from User to App"
   ]
  },
  {
   "cell_type": "markdown",
   "metadata": {},
   "source": [
    "For a regular application, the `redirect_uri` would take the resource owner to a web server under the control of the app, which would take the `code` provided, and put it in a database.  \n",
    "\n",
    "We simulate that with copy-and-paste.  This part corresponds to **Step 5** and **Step 6** of the OAuth dance.\n",
    "\n",
    "Copy the code between the string delimiters, and then execute the following cell."
   ]
  },
  {
   "cell_type": "code",
   "execution_count": 69,
   "metadata": {},
   "outputs": [],
   "source": [
    "code = \"\""
   ]
  },
  {
   "cell_type": "markdown",
   "metadata": {},
   "source": [
    "Our Equivalent of conveying, through the user, the code generated by the provider and approved by the user, and storing it in our \"database\" of our credentials file."
   ]
  },
  {
   "cell_type": "code",
   "execution_count": 30,
   "metadata": {},
   "outputs": [],
   "source": [
    "creds['code'] = code\n",
    "util.update_creds(\"spotify\", creds)"
   ]
  },
  {
   "cell_type": "markdown",
   "metadata": {},
   "source": [
    "## Stage 2: Exchange Code for Token and Refresh Token"
   ]
  },
  {
   "cell_type": "markdown",
   "metadata": {},
   "source": [
    "The `code` is not enough.  Although the app has the code, and it has been securely coveyed via an authenticated user, the application must securely authenticate and interact with the provider to obtain the `token`, which is then sufficient for API requests.\n",
    "\n",
    "In the same documentation page as before (), scroll down to their step 2, titled \"Have your application request refresh and access tokens\".  This request and response correspond to **Step 7** and **Step 8** of the OAuth dance.\n",
    "\n",
    "Using the documentation, fill in the parameters for `buildURL` and for the POST **body** as a dictionary mapping parameters to values.  \n",
    "\n",
    "For specifying the client id and client secret, the documentation specifies two alternatives, in one, we assemble a header line that encodes the information, in the other, we include two more POST FORM parameter values.  Since we are already specifying a dictionary for the POST FORM, we will use the second alternative."
   ]
  },
  {
   "cell_type": "code",
   "execution_count": 31,
   "metadata": {},
   "outputs": [],
   "source": [
    "url = util.buildURL(\"\", \"\")\n",
    "\n",
    "formD = {\n",
    "}"
   ]
  },
  {
   "cell_type": "markdown",
   "metadata": {},
   "source": [
    "The following uses your information above to assemble a POST HTTP request, and then looks at the url and body from the assembled request."
   ]
  },
  {
   "cell_type": "code",
   "execution_count": 42,
   "metadata": {},
   "outputs": [],
   "source": [
    "s = requests.Session()\n",
    "req = requests.Request('POST', url, data=formD)\n",
    "\n",
    "prepped = s.prepare_request(req)"
   ]
  },
  {
   "cell_type": "code",
   "execution_count": 43,
   "metadata": {},
   "outputs": [
    {
     "data": {
      "text/plain": [
       "'https://accounts.spotify.com/api/token'"
      ]
     },
     "execution_count": 43,
     "metadata": {},
     "output_type": "execute_result"
    }
   ],
   "source": [
    "prepped.url"
   ]
  },
  {
   "cell_type": "code",
   "execution_count": 44,
   "metadata": {},
   "outputs": [
    {
     "data": {
      "text/plain": [
       "'grant_type=authorization_code&code=AQAkp6y8f-3X-0gIh-2Dh2DB_F6D5Jz62SKDgqeQBMoxkkvziCpzERziiTGe0y9VgN7OnVdr9OiYXwBG86B1tAm9o97Sk7DVFaJ6Rke8qfRic2RXNaWprA6GcjE5wY0o8EPvW3o9C3nOnw0vQb6KbuIkf6CL6BXvqW-n7YWHBjhi2StRTCKVLPLz9EWSNq-0mdntVV4Rt_pJFOgP7NcEABM-D_PX6A&redirect_uri=https%3A%2F%2Fcaileighmarshall.github.io%2Fcs181project%2F&client_id=f04803fe20d94f03ab03cf7e15acae96&client_secret=53082b3a33d44daf9e9ba6f6d0380577'"
      ]
     },
     "execution_count": 44,
     "metadata": {},
     "output_type": "execute_result"
    }
   ],
   "source": [
    "prepped.body"
   ]
  },
  {
   "cell_type": "markdown",
   "metadata": {},
   "source": [
    "Finally, we send the request to exchange the code for a token.  If there was a problem with the assembled request, we print out the status code along with the body of the response, which often has information that can be used to help debug the problem."
   ]
  },
  {
   "cell_type": "code",
   "execution_count": 45,
   "metadata": {},
   "outputs": [],
   "source": [
    "response = s.send(prepped)\n",
    "if response.status_code != 200:\n",
    "    print(\"Error.  Status code:\", response.status_code)\n",
    "    print(response.text)"
   ]
  },
  {
   "cell_type": "code",
   "execution_count": 46,
   "metadata": {},
   "outputs": [
    {
     "name": "stdout",
     "output_type": "stream",
     "text": [
      "{'access_token': 'BQC5xOgNFovK6tgTHlhlOssHVIEUIHMSMqIl8K_LUGLD6Y6UQPq5AkDY1ZykBnw8jr7LRuTvwkKfLx-bi5eK62jiZFYwlMOF9-3vvESmTykHCcnvmhdIQMhHxAiCcFvdmEWVqxf3bkCYP7An1g-9P0mpCCKsIHmOyA', 'token_type': 'Bearer', 'expires_in': 3600, 'refresh_token': 'AQCbIFI0NX7_JopVtbhwL5ksNjADSTYnexBvFhqLWkuWj26FqJHFqJUrKm6ZYKvMON5MGBhJflSU0haxprprrluustVYbz1Z2zYY-iGh0KOzQlKdoBv1O0pgwpxiJA3vRP4', 'scope': ''}\n"
     ]
    }
   ],
   "source": [
    "print(response.json())"
   ]
  },
  {
   "cell_type": "code",
   "execution_count": 47,
   "metadata": {},
   "outputs": [],
   "source": [
    "tokenD = response.json()"
   ]
  },
  {
   "cell_type": "markdown",
   "metadata": {},
   "source": [
    "We then update our \"database\" with the `access_token` and the other information needed to make data requests:"
   ]
  },
  {
   "cell_type": "code",
   "execution_count": 77,
   "metadata": {},
   "outputs": [],
   "source": [
    "creds['token'] = tokenD['access_token']\n",
    "creds['refresh'] = tokenD['refresh_token']\n",
    "creds['scope'] = tokenD['scope']\n",
    "expiration = datetime.now() + timedelta(seconds=tokenD['expires_in'])\n",
    "creds['expires'] = str(expiration)\n",
    "util.update_creds(\"spotify\", creds)"
   ]
  },
  {
   "cell_type": "markdown",
   "metadata": {},
   "source": [
    "## Try Out Token\n",
    "\n",
    "In the following, we use a request to get the current user's profile, as documented here: https://developer.spotify.com/documentation/web-api/reference/users-profile/get-current-users-profile/\n",
    "\n",
    "The following cell is like other API requests we have seen, we set up an endpoint and a location, and, in addition to any other request parameters we might need as Path Parameters, Query Parameters, Header Parameters, or POST-body Parameters, we include a Header parameter, where the header name is `Authorization`, and the value is `\"Bearer <access_token>\"`.  While other providers that use OAuth2 for delegated authority must have a request parameter that conveys the access token, it could take a different form, like a query parameter, for instance."
   ]
  },
  {
   "cell_type": "code",
   "execution_count": null,
   "metadata": {},
   "outputs": [],
   "source": [
    "creds = util.read_creds(\"spotify\")\n",
    "assert 'token' in creds"
   ]
  },
  {
   "cell_type": "code",
   "execution_count": null,
   "metadata": {},
   "outputs": [],
   "source": [
    "my_token = creds['token']"
   ]
  },
  {
   "cell_type": "code",
   "execution_count": 49,
   "metadata": {},
   "outputs": [],
   "source": [
    "location = \"api.spotify.com\"\n",
    "resource_path = \"/v1/me\"\n",
    "url = buildURL(resource_path, location)\n",
    "\n",
    "authHeader = \"Bearer {}\".format(my_token)\n",
    "headerD = {\"Authorization\": authHeader}\n",
    "\n",
    "response=requests.get(url, headers=headerD)\n",
    "if response.status_code != 200:\n",
    "    print(\"Error.  Status code:\", response.status_code)\n",
    "    print(response.text)"
   ]
  },
  {
   "cell_type": "code",
   "execution_count": 50,
   "metadata": {},
   "outputs": [
    {
     "data": {
      "text/plain": [
       "{'display_name': 'David',\n",
       " 'external_urls': {'spotify': 'https://open.spotify.com/user/ds79j7dgug3xsp4n3xgy22bo2'},\n",
       " 'followers': {'href': None, 'total': 0},\n",
       " 'href': 'https://api.spotify.com/v1/users/ds79j7dgug3xsp4n3xgy22bo2',\n",
       " 'id': 'ds79j7dgug3xsp4n3xgy22bo2',\n",
       " 'images': [],\n",
       " 'type': 'user',\n",
       " 'uri': 'spotify:user:ds79j7dgug3xsp4n3xgy22bo2'}"
      ]
     },
     "execution_count": 50,
     "metadata": {},
     "output_type": "execute_result"
    }
   ],
   "source": [
    "response.json()"
   ]
  },
  {
   "cell_type": "markdown",
   "metadata": {},
   "source": [
    "## Refresh Token"
   ]
  },
  {
   "cell_type": "code",
   "execution_count": 53,
   "metadata": {},
   "outputs": [],
   "source": [
    "creds = read_creds(\"spotify\")\n",
    "assert 'token' in creds\n",
    "assert 'refresh' in creds\n",
    "\n",
    "location = \"accounts.spotify.com\"\n",
    "resource_path = \"/api/token\"\n",
    "url = buildURL(resource_path, location)\n",
    "\n",
    "auth = HTTPBasicAuth(creds['client_id'], creds['client_secret'])\n",
    "bodyD = {\n",
    "    'grant_type': 'refresh_token',\n",
    "    'refresh_token': creds['refresh']\n",
    "}\n",
    "\n",
    "response = requests.post(url, auth=auth, data=bodyD)\n",
    "if response.status_code != 200:\n",
    "    print(\"Error.  Status code:\", response.status_code)\n",
    "    print(response.text)"
   ]
  },
  {
   "cell_type": "code",
   "execution_count": 54,
   "metadata": {},
   "outputs": [
    {
     "data": {
      "text/plain": [
       "{'access_token': 'BQDVrwoj7e6cVvr-r6zDTbP3R2_o6X_hzzj1nu3qwnA5Q3EV_4kvCZRTHDs7HSZx5El_JuR07nRSIaib56ZR6uQtw1GZkWI_5zwUPIViVTA5NZwazrRraorPCDXvnb5FqZzhuuz2chQ8wRmGpEZ_lUX0VyoTnLAXFg',\n",
       " 'token_type': 'Bearer',\n",
       " 'expires_in': 3600,\n",
       " 'scope': ''}"
      ]
     },
     "execution_count": 54,
     "metadata": {},
     "output_type": "execute_result"
    }
   ],
   "source": [
    "response.json()"
   ]
  },
  {
   "cell_type": "code",
   "execution_count": 60,
   "metadata": {},
   "outputs": [],
   "source": [
    "creds['token'] = tokenD['access_token']\n",
    "del creds['refresh']\n",
    "creds['scope'] = tokenD['scope']\n",
    "expiration = datetime.now() + timedelta(seconds=tokenD['expires_in'])\n",
    "creds['expires'] = str(expiration)\n",
    "update_creds(\"spotify\", creds)"
   ]
  },
  {
   "cell_type": "code",
   "execution_count": null,
   "metadata": {},
   "outputs": [],
   "source": []
  }
 ],
 "metadata": {
  "kernelspec": {
   "display_name": "Python 3",
   "language": "python",
   "name": "python3"
  },
  "language_info": {
   "codemirror_mode": {
    "name": "ipython",
    "version": 3
   },
   "file_extension": ".py",
   "mimetype": "text/x-python",
   "name": "python",
   "nbconvert_exporter": "python",
   "pygments_lexer": "ipython3",
   "version": "3.8.3"
  }
 },
 "nbformat": 4,
 "nbformat_minor": 4
}
